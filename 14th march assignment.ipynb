{
 "cells": [
  {
   "cell_type": "code",
   "execution_count": 4,
   "id": "7d8a9489-e841-4dac-a41e-83c7f07e49cf",
   "metadata": {},
   "outputs": [
    {
     "name": "stdout",
     "output_type": "stream",
     "text": [
      "F-Value: 1.162162162162162, p-Value: 0.8877109375000001\n"
     ]
    }
   ],
   "source": [
    "#Q1\n",
    "import scipy.stats as stats\n",
    "import numpy as np\n",
    "def calculate_f_value(data1, data2):\n",
    "    # Calculate F-value and p-value\n",
    "    f_statistic = np.var(data1, ddof=1) / np.var(data2, ddof=1)\n",
    "    p_value = 2 * min(stats.f.cdf(f_statistic, len(data1)-1, len(data2)-1), 1 - stats.f.cdf(f_statistic, len(data1)-1, len(data2)-1))\n",
    "    \n",
    "    return f_statistic, p_value\n",
    "\n",
    "# Example usage:\n",
    "data1 = [10, 12, 15, 14, 11]\n",
    "data2 = [18, 20, 22, 17, 19]\n",
    "f_value, p_value = calculate_f_value(data1, data2)\n",
    "print(f\"F-Value: {f_value}, p-Value: {p_value}\")"
   ]
  },
  {
   "cell_type": "code",
   "execution_count": 5,
   "id": "dd40f66d-2c0f-4e2d-bbe5-9ae39ddf0a01",
   "metadata": {},
   "outputs": [
    {
     "name": "stdout",
     "output_type": "stream",
     "text": [
      "Critical F-Value: 3.8586986662732143\n"
     ]
    }
   ],
   "source": [
    "#Q2\n",
    "import scipy.stats as stats\n",
    "\n",
    "def calculate_critical_f_value(alpha, df_num, df_den):\n",
    "    return stats.f.ppf(1 - alpha/2, df_num, df_den)\n",
    "\n",
    "# Example usage:\n",
    "alpha = 0.05\n",
    "df_num = 3  # Numerator degrees of freedom\n",
    "df_den = 20  # Denominator degrees of freedom\n",
    "critical_f = calculate_critical_f_value(alpha, df_num, df_den)\n",
    "print(f\"Critical F-Value: {critical_f}\")\n"
   ]
  },
  {
   "cell_type": "code",
   "execution_count": 6,
   "id": "d3f3ea03-4771-4edb-ba70-b0681d8adc93",
   "metadata": {},
   "outputs": [
    {
     "name": "stdout",
     "output_type": "stream",
     "text": [
      "F-Value: 0.7488902047583992, p-Value: 0.31480865566315624\n"
     ]
    }
   ],
   "source": [
    "#Q3\n",
    "import numpy as np\n",
    "import scipy.stats as stats\n",
    "\n",
    "# Generate random samples\n",
    "np.random.seed(0)\n",
    "sample1 = np.random.normal(0, 1, 50)  # Mean 0, Variance 1\n",
    "sample2 = np.random.normal(0, 1.5, 50)  # Mean 0, Variance 1.5\n",
    "\n",
    "# Perform F-test\n",
    "f_statistic = np.var(sample1, ddof=1) / np.var(sample2, ddof=1)\n",
    "df1 = len(sample1) - 1\n",
    "df2 = len(sample2) - 1\n",
    "p_value = 2 * min(stats.f.cdf(f_statistic, df1, df2), 1 - stats.f.cdf(f_statistic, df1, df2))\n",
    "\n",
    "print(f\"F-Value: {f_statistic}, p-Value: {p_value}\")\n"
   ]
  },
  {
   "cell_type": "code",
   "execution_count": 10,
   "id": "51cefca0-c397-4de9-8dd0-c19d2d00f099",
   "metadata": {},
   "outputs": [
    {
     "name": "stdout",
     "output_type": "stream",
     "text": [
      "Fail to reject the null hypothesis: Variances are not significantly different.\n"
     ]
    }
   ],
   "source": [
    "#Q4\n",
    "import scipy.stats as stats\n",
    "\n",
    "variance1 = 10\n",
    "variance2 = 15\n",
    "sample_size1 = 12\n",
    "sample_size2 = 12\n",
    "\n",
    "f_statistic = variance1 / variance2\n",
    "df1 = sample_size1 - 1\n",
    "df2 = sample_size2 - 1\n",
    "alpha = 0.05\n",
    "\n",
    "p_value = 2 * min(stats.f.cdf(f_statistic, df1, df2), 1 - stats.f.cdf(f_statistic, df1, df2))\n",
    "\n",
    "if p_value < alpha:\n",
    "    print(\"Reject the null hypothesis: Variances are significantly different.\")\n",
    "else:\n",
    "    print(\"Fail to reject the null hypothesis: Variances are not significantly different.\")"
   ]
  },
  {
   "cell_type": "code",
   "execution_count": 9,
   "id": "8cd2e402-3d2a-46a7-8853-5c1295765dfa",
   "metadata": {},
   "outputs": [
    {
     "name": "stdout",
     "output_type": "stream",
     "text": [
      "Fail to reject the null hypothesis: Claim is justified.\n"
     ]
    }
   ],
   "source": [
    "# Q5\n",
    "claim_variance = 0.005\n",
    "sample_variance = 0.006\n",
    "sample_size = 25\n",
    "\n",
    "f_statistic = claim_variance / sample_variance\n",
    "df1 = sample_size - 1\n",
    "df2 = 0  # Degrees of freedom for the claim\n",
    "alpha = 0.01\n",
    "\n",
    "p_value = 2 * min(stats.f.cdf(f_statistic, df1, df2), 1 - stats.f.cdf(f_statistic, df1, df2))\n",
    "\n",
    "if p_value < alpha:\n",
    "    print(\"Reject the null hypothesis: Claim is not justified.\")\n",
    "else:\n",
    "    print(\"Fail to reject the null hypothesis: Claim is justified.\")"
   ]
  },
  {
   "cell_type": "code",
   "execution_count": 11,
   "id": "81527445-610e-4940-84d5-ef9d5825d9a6",
   "metadata": {},
   "outputs": [
    {
     "name": "stdout",
     "output_type": "stream",
     "text": [
      "Mean: 1.1111111111111112, Variance: 0.8487654320987654\n"
     ]
    }
   ],
   "source": [
    "#Q6\n",
    "import scipy.stats as stats\n",
    "\n",
    "def calculate_f_distribution_mean_variance(df_num, df_den):\n",
    "    mean = df_den / (df_den - 2)\n",
    "    variance = (2 * (df_den ** 2) * (df_num + df_den - 2)) / ((df_num * (df_den - 2) ** 2 * (df_den - 4)))\n",
    "    return mean, variance\n",
    "\n",
    "# Example usage:\n",
    "df_num = 4\n",
    "df_den = 20\n",
    "mean, variance = calculate_f_distribution_mean_variance(df_num, df_den)\n",
    "print(f\"Mean: {mean}, Variance: {variance}\")\n"
   ]
  },
  {
   "cell_type": "code",
   "execution_count": 12,
   "id": "2428b433-4704-41e4-967c-2ceec6f58a90",
   "metadata": {},
   "outputs": [
    {
     "name": "stdout",
     "output_type": "stream",
     "text": [
      "Fail to reject the null hypothesis: Variances are not significantly different.\n"
     ]
    }
   ],
   "source": [
    "#Q7\n",
    "import scipy.stats as stats\n",
    "\n",
    "sample1_variance = 25\n",
    "sample2_variance = 20\n",
    "sample1_size = 10\n",
    "sample2_size = 15\n",
    "alpha = 0.10\n",
    "\n",
    "f_statistic = sample1_variance / sample2_variance\n",
    "df1 = sample1_size - 1\n",
    "df2 = sample2_size - 1\n",
    "\n",
    "p_value = 2 * min(stats.f.cdf(f_statistic, df1, df2), 1 - stats.f.cdf(f_statistic, df1, df2))\n",
    "\n",
    "if p_value < alpha:\n",
    "    print(\"Reject the null hypothesis: Variances are significantly different.\")\n",
    "else:\n",
    "    print(\"Fail to reject the null hypothesis: Variances are not significantly different.\")"
   ]
  },
  {
   "cell_type": "code",
   "execution_count": 13,
   "id": "c4a35527-a339-4328-b4d9-bca5819c605c",
   "metadata": {},
   "outputs": [
    {
     "name": "stdout",
     "output_type": "stream",
     "text": [
      "Fail to reject the null hypothesis: Variances are not significantly different.\n"
     ]
    }
   ],
   "source": [
    "# Q8\n",
    "restaurant_A = [24, 25, 28, 23, 22, 20, 27]\n",
    "restaurant_B = [31, 33, 35, 30, 32, 36]\n",
    "alpha = 0.05\n",
    "\n",
    "f_statistic = np.var(restaurant_A, ddof=1) / np.var(restaurant_B, ddof=1)\n",
    "df1 = len(restaurant_A) - 1\n",
    "df2 = len(restaurant_B) - 1\n",
    "\n",
    "p_value = 2 * min(stats.f.cdf(f_statistic, df1, df2), 1 - stats.f.cdf(f_statistic, df1, df2))\n",
    "\n",
    "if p_value < alpha:\n",
    "    print(\"Reject the null hypothesis: Variances are significantly different.\")\n",
    "else:\n",
    "    print(\"Fail to reject the null hypothesis: Variances are not significantly different.\")"
   ]
  },
  {
   "cell_type": "code",
   "execution_count": 14,
   "id": "8f8a2e37-ce63-4309-902e-e58d031f96c8",
   "metadata": {},
   "outputs": [
    {
     "name": "stdout",
     "output_type": "stream",
     "text": [
      "Fail to reject the null hypothesis: Variances are not significantly different.\n"
     ]
    }
   ],
   "source": [
    "# Q9\n",
    "group_A = [80, 85, 90, 92, 87, 83]\n",
    "group_B = [75, 78, 82, 79, 81, 84]\n",
    "alpha = 0.01\n",
    "\n",
    "f_statistic = np.var(group_A, ddof=1) / np.var(group_B, ddof=1)\n",
    "df1 = len(group_A) - 1\n",
    "df2 = len(group_B) - 1\n",
    "\n",
    "p_value = 2 * min(stats.f.cdf(f_statistic, df1, df2), 1 - stats.f.cdf(f_statistic, df1, df2))\n",
    "\n",
    "if p_value < alpha:\n",
    "    print(\"Reject the null hypothesis: Variances are significantly different.\")\n",
    "else:\n",
    "    print(\"Fail to reject the null hypothesis: Variances are not significantly different.\")\n"
   ]
  },
  {
   "cell_type": "code",
   "execution_count": null,
   "id": "75634d8c-be60-40d3-8ad1-cf0f2bc07261",
   "metadata": {},
   "outputs": [],
   "source": []
  }
 ],
 "metadata": {
  "kernelspec": {
   "display_name": "Python 3 (ipykernel)",
   "language": "python",
   "name": "python3"
  },
  "language_info": {
   "codemirror_mode": {
    "name": "ipython",
    "version": 3
   },
   "file_extension": ".py",
   "mimetype": "text/x-python",
   "name": "python",
   "nbconvert_exporter": "python",
   "pygments_lexer": "ipython3",
   "version": "3.10.8"
  }
 },
 "nbformat": 4,
 "nbformat_minor": 5
}
