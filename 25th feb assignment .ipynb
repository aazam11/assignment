{
 "cells": [
  {
   "cell_type": "code",
   "execution_count": 1,
   "id": "480d1894-ffdf-4747-9a03-14a34f77c861",
   "metadata": {},
   "outputs": [],
   "source": [
    "import pandas as pd\n",
    "\n",
    "course_name = ['Data Science', 'Machine Learning', 'Big Data', 'Data Engineer']\n",
    "duration = [2, 3, 6, 4]\n",
    "\n",
    "df = pd.DataFrame(data={'course_name': course_name, 'duration': duration})"
   ]
  },
  {
   "cell_type": "code",
   "execution_count": 2,
   "id": "023ee15d-c3a7-444f-8b44-f2dbe3d488b4",
   "metadata": {},
   "outputs": [
    {
     "name": "stdout",
     "output_type": "stream",
     "text": [
      "Data in the second row:\n",
      "course_name    Machine Learning\n",
      "duration                      3\n",
      "Name: 1, dtype: object\n"
     ]
    }
   ],
   "source": [
    "#q1\n",
    "second_row_data = df.iloc[1]\n",
    "print(\"Data in the second row:\")\n",
    "print(second_row_data)"
   ]
  },
  {
   "cell_type": "code",
   "execution_count": 3,
   "id": "2013c18e-479f-4ac4-8eed-f47e93b46c95",
   "metadata": {},
   "outputs": [],
   "source": [
    "#q2\n",
    "# - `loc` is label-based indexing, which means you use the row and column labels to access data.\n",
    "# - `iloc` is integer-based indexing, which means you use integer positions to access data."
   ]
  },
  {
   "cell_type": "code",
   "execution_count": 6,
   "id": "76dc5b8a-786c-4c53-9938-433ecabfc4c6",
   "metadata": {},
   "outputs": [
    {
     "name": "stdout",
     "output_type": "stream",
     "text": [
      "\n",
      "Data at index 2 using loc:\n",
      "course_name    Big Data\n",
      "duration              6\n",
      "Name: 2, dtype: object\n",
      "\n",
      "Data at index 2 using iloc:\n",
      "course_name    Machine Learning\n",
      "duration                      3\n",
      "Name: 1, dtype: object\n"
     ]
    }
   ],
   "source": [
    "#q3\n",
    "reindex = [3, 0, 1, 2]\n",
    "new_df = df.reindex(reindex)\n",
    "\n",
    "# Find the output for both new_df.loc[2] and new_df.iloc[2].\n",
    "output_loc = new_df.loc[2]\n",
    "output_iloc = new_df.iloc[2]\n",
    "\n",
    "print(\"\\nData at index 2 using loc:\")\n",
    "print(output_loc)\n",
    "\n",
    "print(\"\\nData at index 2 using iloc:\")\n",
    "print(output_iloc)\n"
   ]
  },
  {
   "cell_type": "code",
   "execution_count": null,
   "id": "f3c9bc03-08d1-4594-a39d-b7b1bd0ad8f7",
   "metadata": {},
   "outputs": [],
   "source": [
    "#Yes, there is a difference in the outputs when using new_df.loc[2] and new_df.iloc[2]. Let me explain:\n",
    "\n",
    "#Assuming you have reindexed the DataFrame df using the reindex list as shown in your code:\n",
    "reindex = [3, 0, 1, 2]\n",
    "new_df = df.reindex(reindex)\n",
    "\n",
    "#The original DataFrame df looked like this:\n",
    "      course_name  duration\n",
    "0     Data Science         2\n",
    "1  Machine Learning         3\n",
    "2          Big Data         6\n",
    "3     Data Engineer         4\n",
    "\n",
    "#After reindexing, the new_df DataFrame looks like this:\n",
    "      course_name  duration\n",
    "3     Data Engineer         4\n",
    "0     Data Science         2\n",
    "1  Machine Learning         3\n",
    "2          Big Data         6"
   ]
  },
  {
   "cell_type": "code",
   "execution_count": null,
   "id": "9b74397b-e1ee-49f5-84af-b307eb18eba5",
   "metadata": {},
   "outputs": [],
   "source": []
  },
  {
   "cell_type": "code",
   "execution_count": 7,
   "id": "ee1202f9-44f9-43e0-b932-05f8424dfbd4",
   "metadata": {},
   "outputs": [],
   "source": [
    "import pandas as pd\n",
    "import numpy as np\n",
    "columns = ['column_1', 'column_2', 'column_3', 'column_4', 'column_5', 'column_6']\n",
    "indices = [1,2,3,4,5,6]\n",
    "#Creating a dataframe:\n",
    "df1 = pd.DataFrame(np.random.rand(6,6), columns = columns, index = indices)"
   ]
  },
  {
   "cell_type": "code",
   "execution_count": 8,
   "id": "000604f4-1df9-452f-9d1c-9b05dd2f6328",
   "metadata": {},
   "outputs": [
    {
     "name": "stdout",
     "output_type": "stream",
     "text": [
      "Mean of each column:\n",
      " column_1    0.573370\n",
      "column_2    0.458730\n",
      "column_3    0.490677\n",
      "column_4    0.545308\n",
      "column_5    0.740842\n",
      "column_6    0.373713\n",
      "dtype: float64\n",
      "\n",
      "Standard deviation of column 'column_2': 0.2852252602423442\n"
     ]
    }
   ],
   "source": [
    "#q4\n",
    "import pandas as pd\n",
    "import numpy as np\n",
    "\n",
    "columns = ['column_1', 'column_2', 'column_3', 'column_4', 'column_5', 'column_6']\n",
    "indices = [1, 2, 3, 4, 5, 6]\n",
    "\n",
    "# Creating a DataFrame\n",
    "df1 = pd.DataFrame(np.random.rand(6, 6), columns=columns, index=indices)\n",
    "\n",
    "# (i) Mean of each column\n",
    "mean_per_column = df1.mean()\n",
    "print(\"Mean of each column:\\n\", mean_per_column)\n",
    "\n",
    "# (ii) Standard deviation of column 'column_2'\n",
    "std_column_2 = df1['column_2'].std()\n",
    "print(\"\\nStandard deviation of column 'column_2':\", std_column_2)\n"
   ]
  },
  {
   "cell_type": "code",
   "execution_count": 9,
   "id": "04919989-b0f0-4fc5-a6e8-5ae509714dd5",
   "metadata": {},
   "outputs": [
    {
     "name": "stdout",
     "output_type": "stream",
     "text": [
      "\n",
      "Error: unsupported operand type(s) for +: 'float' and 'str'\n"
     ]
    }
   ],
   "source": [
    "#q5\n",
    "# Replace the data in the second row of 'column_2' with a string\n",
    "df1.loc[2, 'column_2'] = 'string_data'\n",
    "\n",
    "# Find the mean of 'column_2'\n",
    "try:\n",
    "    mean_column_2 = df1['column_2'].mean()\n",
    "    print(\"\\nMean of 'column_2':\", mean_column_2)\n",
    "except TypeError as e:\n",
    "    print(\"\\nError:\", e)\n"
   ]
  },
  {
   "cell_type": "code",
   "execution_count": 10,
   "id": "2973fc6d-2dcc-4cf5-9518-3999f5bc7236",
   "metadata": {},
   "outputs": [],
   "source": [
    "#q6\n",
    "#In pandas, windows functions are used for performing operations over a specified window of data points.\n",
    "#They are often used for tasks like rolling calculations, moving averages, and other time-series analysis. \n",
    "#Windows functions have a \"window\" or \"rolling\" view over the data to compute aggregated statistics.\n",
    "\n",
    "#Types of windows functions include:\n",
    "\n",
    "#Rolling Functions: These functions compute an operation over a fixed-size \"rolling window\" of data points.\n",
    "#Expanding Functions: These functions calculate an operation over a continuously expanding window of data.\n",
    "#Exponential Moving Average (EMA): A type of weighted moving average where more weight is given to recent data points.\n",
    "#Window Aggregations: Functions like .sum(), .mean(), .std(), etc., can be applied over a specified window."
   ]
  },
  {
   "cell_type": "code",
   "execution_count": null,
   "id": "12ce898c-580d-4971-9aab-a45b1117bee4",
   "metadata": {},
   "outputs": [],
   "source": []
  },
  {
   "cell_type": "code",
   "execution_count": 11,
   "id": "f612d072-37a7-443d-b9b9-a8f853d14e1f",
   "metadata": {},
   "outputs": [
    {
     "name": "stdout",
     "output_type": "stream",
     "text": [
      "Current month and year: August 2023\n"
     ]
    }
   ],
   "source": [
    "#q7\n",
    "import pandas as pd\n",
    "\n",
    "# Get the current date\n",
    "current_date = pd.Timestamp.now()\n",
    "\n",
    "# Print the current month and year\n",
    "print(\"Current month and year:\", current_date.strftime('%B %Y'))\n"
   ]
  },
  {
   "cell_type": "code",
   "execution_count": null,
   "id": "ae0edf2e-993d-42de-924a-0fae5a793909",
   "metadata": {},
   "outputs": [],
   "source": []
  },
  {
   "cell_type": "code",
   "execution_count": 12,
   "id": "8eb8d1e2-f678-42fa-a262-994fc7ae4400",
   "metadata": {},
   "outputs": [
    {
     "name": "stdin",
     "output_type": "stream",
     "text": [
      "Enter the first date (YYYY-MM-DD):  12-08-2000\n",
      "Enter the second date (YYYY-MM-DD):  12-08-2023\n"
     ]
    },
    {
     "name": "stdout",
     "output_type": "stream",
     "text": [
      "Time difference:\n",
      "8400 days, 0 hours, 0 minutes\n"
     ]
    }
   ],
   "source": [
    "#q8\n",
    "import pandas as pd\n",
    "\n",
    "# Function to calculate the difference between two dates\n",
    "def calculate_time_difference(date1, date2):\n",
    "    try:\n",
    "        # Convert input strings to datetime objects\n",
    "        date1 = pd.to_datetime(date1)\n",
    "        date2 = pd.to_datetime(date2)\n",
    "\n",
    "        # Calculate the time difference\n",
    "        time_diff = date2 - date1\n",
    "\n",
    "        # Extract days, hours, and minutes from the time difference\n",
    "        days = time_diff.days\n",
    "        hours = time_diff.seconds // 3600\n",
    "        minutes = (time_diff.seconds // 60) % 60\n",
    "\n",
    "        return days, hours, minutes\n",
    "\n",
    "    except ValueError:\n",
    "        return None\n",
    "\n",
    "# Input dates from the user\n",
    "date_str1 = input(\"Enter the first date (YYYY-MM-DD): \")\n",
    "date_str2 = input(\"Enter the second date (YYYY-MM-DD): \")\n",
    "\n",
    "# Calculate time difference\n",
    "time_difference = calculate_time_difference(date_str1, date_str2)\n",
    "\n",
    "if time_difference is not None:\n",
    "    days, hours, minutes = time_difference\n",
    "    print(\"Time difference:\")\n",
    "    print(f\"{days} days, {hours} hours, {minutes} minutes\")\n",
    "else:\n",
    "    print(\"Invalid date format. Please use the format YYYY-MM-DD.\")\n"
   ]
  },
  {
   "cell_type": "code",
   "execution_count": null,
   "id": "de5d418f-1012-4c40-8484-39730d898031",
   "metadata": {},
   "outputs": [],
   "source": []
  },
  {
   "cell_type": "code",
   "execution_count": null,
   "id": "b726b445-8666-471d-9bd8-15458782aee8",
   "metadata": {},
   "outputs": [],
   "source": [
    "#q9\n",
    "import pandas as pd\n",
    "\n",
    "# Read CSV file\n",
    "file_path = input(\"Enter the file path of the CSV file: \")\n",
    "df = pd.read_csv(file_path)\n",
    "\n",
    "# Prompt user for column name and category order\n",
    "column_name = input(\"Enter the name of the column to convert to categorical: \")\n",
    "category_order = input(\"Enter the category order (comma-separated values): \").split(',')\n",
    "\n",
    "# Convert specified column to categorical\n",
    "df[column_name] = pd.Categorical(df[column_name], categories=category_order, ordered=True)\n",
    "\n",
    "# Display sorted data\n",
    "sorted_data = df.sort_values(by=[column_name])\n",
    "print(sorted_data\n"
   ]
  },
  {
   "cell_type": "code",
   "execution_count": null,
   "id": "434e7065-1951-4230-be6a-21719a45adb2",
   "metadata": {},
   "outputs": [],
   "source": []
  },
  {
   "cell_type": "code",
   "execution_count": null,
   "id": "f67f7f8c-660d-4cda-8e11-bb8d041ac7f9",
   "metadata": {},
   "outputs": [],
   "source": [
    "#q10\n",
    "import pandas as pd\n",
    "import matplotlib.pyplot as plt\n",
    "\n",
    "# Read CSV file\n",
    "file_path = input(\"Enter the file path of the CSV file: \")\n",
    "df = pd.read_csv(file_path)\n",
    "\n",
    "# Assume CSV columns: 'Date', 'ProductCategory', 'Sales'\n",
    "df['Date'] = pd.to_datetime(df['Date'])\n",
    "\n",
    "# Pivot data for stacked bar chart\n",
    "pivot_df = df.pivot(index='Date', columns='ProductCategory', values='Sales')\n",
    "\n",
    "# Plot stacked bar chart\n",
    "pivot_df.plot(kind='bar', stacked=True)\n",
    "plt.xlabel('Date')\n",
    "plt.ylabel('Sales')\n",
    "plt.title('Sales of Each Product Category Over Time')\n",
    "plt.show()\n"
   ]
  },
  {
   "cell_type": "code",
   "execution_count": null,
   "id": "4e548e08-cc6a-4fd0-b971-a90f10599b95",
   "metadata": {},
   "outputs": [],
   "source": []
  },
  {
   "cell_type": "code",
   "execution_count": null,
   "id": "edba1d87-7885-473b-ba97-e0648291d80b",
   "metadata": {},
   "outputs": [],
   "source": [
    "#q11\n",
    "import pandas as pd\n",
    "from statistics import mean, median, mode\n",
    "from tabulate import tabulate\n",
    "\n",
    "# Read CSV file\n",
    "file_path = input(\"Enter the file path of the CSV file: \")\n",
    "df = pd.read_csv(file_path)\n",
    "\n",
    "# Calculate statistics\n",
    "test_scores = df['Test Score']\n",
    "mean_score = mean(test_scores)\n",
    "median_score = median(test_scores)\n",
    "mode_score = mode(test_scores)\n",
    "\n",
    "# Create table\n",
    "table = [[\"Mean\", mean_score], [\"Median\", median_score], [\"Mode\", mode_score]]\n",
    "\n",
    "# Display results\n",
    "print(tabulate(table, headers=[\"Statistic\", \"Value\"]))\n"
   ]
  },
  {
   "cell_type": "code",
   "execution_count": null,
   "id": "d9d29d3b-93b1-4f08-89eb-b7baf0076325",
   "metadata": {},
   "outputs": [],
   "source": []
  }
 ],
 "metadata": {
  "kernelspec": {
   "display_name": "Python 3 (ipykernel)",
   "language": "python",
   "name": "python3"
  },
  "language_info": {
   "codemirror_mode": {
    "name": "ipython",
    "version": 3
   },
   "file_extension": ".py",
   "mimetype": "text/x-python",
   "name": "python",
   "nbconvert_exporter": "python",
   "pygments_lexer": "ipython3",
   "version": "3.10.8"
  }
 },
 "nbformat": 4,
 "nbformat_minor": 5
}
