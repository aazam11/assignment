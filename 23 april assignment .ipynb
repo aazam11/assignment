{
 "cells": [
  {
   "cell_type": "markdown",
   "id": "f1130c63-0a02-43e3-a160-83070f3b2c67",
   "metadata": {},
   "source": [
    "#Q1. Curse of Dimensionality Reduction:\n",
    "\n",
    "The curse of dimensionality refers to the challenges and issues that arise when working in high-dimensional spaces. In machine learning, it becomes difficult to effectively analyze and model data with a large number of features or dimensions.\n",
    "Dimensionality reduction is important in machine learning because high-dimensional data can lead to increased computational complexity, overfitting, and reduced model generalization.\n",
    "\n",
    "One common technique for dimensionality reduction is Principal Component Analysis (PCA)."
   ]
  },
  {
   "cell_type": "code",
   "execution_count": 1,
   "id": "4ac635f7-0ea8-4346-a955-68e16414e25d",
   "metadata": {},
   "outputs": [],
   "source": [
    "#1\n",
    "from sklearn.decomposition import PCA\n",
    "from sklearn.datasets import load_iris\n",
    "\n",
    "# Load the Iris dataset\n",
    "iris = load_iris()\n",
    "X = iris.data\n",
    "y = iris.target\n",
    "\n",
    "# Apply PCA to reduce dimensions to 2\n",
    "pca = PCA(n_components=2)\n",
    "X_reduced = pca.fit_transform(X)"
   ]
  },
  {
   "cell_type": "code",
   "execution_count": null,
   "id": "7b11eeb5-d011-4fad-9c64-afb163ce47cd",
   "metadata": {},
   "outputs": [],
   "source": []
  },
  {
   "cell_type": "markdown",
   "id": "533cabab-ee2c-47af-b700-4d3fb36243a6",
   "metadata": {},
   "source": [
    "#Q2. Impact on Machine Learning Algorithms:\n",
    "\n",
    "The curse of dimensionality can impact the performance of machine learning algorithms by making models prone to overfitting. As the number of dimensions increases, the amount of data needed to generalize accurately also increases.\n",
    "\n",
    "Using a k-nearest neighbors (KNN) classifier with high-dimensional data can demonstrate the impact"
   ]
  },
  {
   "cell_type": "code",
   "execution_count": 2,
   "id": "373384cf-aa0b-4415-bdff-bf1b7623e2a2",
   "metadata": {},
   "outputs": [],
   "source": [
    "#2\n",
    "from sklearn.datasets import make_classification\n",
    "from sklearn.model_selection import train_test_split\n",
    "from sklearn.neighbors import KNeighborsClassifier\n",
    "\n",
    "# Create high-dimensional synthetic data\n",
    "X, y = make_classification(n_samples=1000, n_features=100, random_state=42)\n",
    "\n",
    "# Split the data\n",
    "X_train, X_test, y_train, y_test = train_test_split(X, y, test_size=0.2, random_state=42)\n",
    "\n",
    "# Fit a KNN classifier\n",
    "knn = KNeighborsClassifier()\n",
    "knn.fit(X_train, y_train)\n",
    "accuracy = knn.score(X_test, y_test)"
   ]
  },
  {
   "cell_type": "code",
   "execution_count": null,
   "id": "e6b09f49-9cad-4054-859d-31dee9d87654",
   "metadata": {},
   "outputs": [],
   "source": []
  },
  {
   "cell_type": "markdown",
   "id": "5106a1bb-ec34-4aa7-99be-0b98100129ae",
   "metadata": {},
   "source": [
    "#Q3. Consequences of the Curse of Dimensionality:\n",
    "\n",
    "Some consequences include increased computational requirements, overfitting, and reduced interpretability. High dimensionality can also lead to sparse data, making it difficult for algorithms to discern meaningful patterns.\n",
    "\n",
    "Illustrating the impact on model accuracy due to increased dimensionality"
   ]
  },
  {
   "cell_type": "code",
   "execution_count": 3,
   "id": "21a2abaa-04ab-46ea-aa9e-f9d2bc532c9e",
   "metadata": {},
   "outputs": [],
   "source": [
    "#3\n",
    "from sklearn.datasets import load_digits\n",
    "from sklearn.ensemble import RandomForestClassifier\n",
    "from sklearn.model_selection import train_test_split\n",
    "\n",
    "# Load digit dataset with high dimensionality\n",
    "digits = load_digits()\n",
    "X = digits.data\n",
    "y = digits.target\n",
    "\n",
    "# Split the data\n",
    "X_train, X_test, y_train, y_test = train_test_split(X, y, test_size=0.2, random_state=42)\n",
    "\n",
    "# Fit a Random Forest classifier\n",
    "rf = RandomForestClassifier()\n",
    "rf.fit(X_train, y_train)\n",
    "accuracy = rf.score(X_test, y_test)"
   ]
  },
  {
   "cell_type": "code",
   "execution_count": null,
   "id": "4f1907a4-6ada-4c2a-8fcd-95647d843a1d",
   "metadata": {},
   "outputs": [],
   "source": []
  },
  {
   "cell_type": "markdown",
   "id": "4aee179f-8e36-4a74-b70a-68335ff7ab40",
   "metadata": {},
   "source": [
    "#Q4. Feature Selection for Dimensionality Reduction:\n",
    "\n",
    "Feature selection involves choosing a subset of relevant features to reduce dimensionality. It helps retain the most informative features and discard irrelevant ones.\n",
    "\n",
    "Using scikit-learn's SelectKBest with a chi-squared test for feature selection:"
   ]
  },
  {
   "cell_type": "code",
   "execution_count": 4,
   "id": "c39d71fb-6132-483c-8e99-9586dc98558a",
   "metadata": {},
   "outputs": [],
   "source": [
    "#4\n",
    "from sklearn.feature_selection import SelectKBest, chi2\n",
    "from sklearn.datasets import load_digits\n",
    "from sklearn.model_selection import train_test_split\n",
    "from sklearn.ensemble import RandomForestClassifier\n",
    "\n",
    "# Load digit dataset\n",
    "digits = load_digits()\n",
    "X = digits.data\n",
    "y = digits.target\n",
    "\n",
    "# Select top k features\n",
    "X_new = SelectKBest(chi2, k=10).fit_transform(X, y)"
   ]
  },
  {
   "cell_type": "code",
   "execution_count": null,
   "id": "2f7df020-04cd-4590-9e54-3c821a127325",
   "metadata": {},
   "outputs": [],
   "source": []
  },
  {
   "cell_type": "markdown",
   "id": "fe2e48d6-6115-4ae7-8095-c534777d8abe",
   "metadata": {},
   "source": [
    "#Q5. Limitations of Dimensionality Reduction Techniques:\n",
    "\n",
    "Some limitations include loss of interpretability, potential information loss, and sensitivity to hyperparameter choices. Non-linear relationships may not be well-preserved in some techniques.\n",
    "\n",
    "Using t-distributed Stochastic Neighbor Embedding (t-SNE) for visualization:"
   ]
  },
  {
   "cell_type": "code",
   "execution_count": 5,
   "id": "c5a9c2e3-dfb2-44b4-9f64-a314075a6f99",
   "metadata": {},
   "outputs": [],
   "source": [
    "#5\n",
    "from sklearn.datasets import load_digits\n",
    "from sklearn.manifold import TSNE\n",
    "\n",
    "# Load digit dataset\n",
    "digits = load_digits()\n",
    "X = digits.data\n",
    "y = digits.target\n",
    "\n",
    "# Apply t-SNE for visualization\n",
    "tsne = TSNE(n_components=2)\n",
    "X_tsne = tsne.fit_transform(X)"
   ]
  },
  {
   "cell_type": "code",
   "execution_count": null,
   "id": "29c7d7ec-36f6-4db9-8763-3e23bd593dac",
   "metadata": {},
   "outputs": [],
   "source": []
  },
  {
   "cell_type": "markdown",
   "id": "63db3d37-f79a-4374-9c87-f8052e8f8790",
   "metadata": {},
   "source": [
    "#Q6. Curse of Dimensionality and Overfitting/Underfitting:\n",
    "\n",
    "High dimensionality increases the risk of overfitting due to models capturing noise as if it were a meaningful pattern. On the other hand, it may also lead to underfitting if the model is too simple to capture the complexity of the data.\n",
    "\n",
    "Using a polynomial regression model with varying degrees:"
   ]
  },
  {
   "cell_type": "code",
   "execution_count": 7,
   "id": "5d5be848-1748-4fe9-a3cb-298a0d7b3032",
   "metadata": {},
   "outputs": [],
   "source": [
    "#6\n",
    "import numpy as np \n",
    "from sklearn.preprocessing import PolynomialFeatures\n",
    "from sklearn.linear_model import LinearRegression\n",
    "from sklearn.pipeline import make_pipeline\n",
    "\n",
    "# Generate synthetic data\n",
    "X = np.random.rand(100, 1)\n",
    "y = 3 * X.squeeze() + np.random.randn(100)\n",
    "\n",
    "# Fit polynomial regression models with different degrees\n",
    "degrees = [1, 10, 20]\n",
    "for degree in degrees:\n",
    "    model = make_pipeline(PolynomialFeatures(degree), LinearRegression())\n",
    "    model.fit(X, y)"
   ]
  },
  {
   "cell_type": "code",
   "execution_count": null,
   "id": "2bcbb5a0-2fc0-4832-84e1-5b41eaf93d4f",
   "metadata": {},
   "outputs": [],
   "source": []
  },
  {
   "cell_type": "markdown",
   "id": "efc05779-60e5-41b1-b00f-1b5f43227ab0",
   "metadata": {},
   "source": [
    "#Q7. Determining Optimal Number of Dimensions:\n",
    "\n",
    "Techniques such as cross-validation or explained variance can be used to find the optimal number of dimensions. Cross-validation helps evaluate model performance on different subsets of data, and explained variance helps understand the amount of information retained.\n",
    "\n",
    "Using explained variance ratio with PCA"
   ]
  },
  {
   "cell_type": "code",
   "execution_count": 12,
   "id": "9e1d6901-b40d-4bfc-ac4e-535fc2c718cb",
   "metadata": {},
   "outputs": [
    {
     "data": {
      "image/png": "[encoded data removed]",
      "text/plain": [
       "<Figure size 640x480 with 1 Axes>"
      ]
     },
     "metadata": {},
     "output_type": "display_data"
    }
   ],
   "source": [
    "#7\n",
    "import numpy as np \n",
    "import matplotlib.pyplot as plt \n",
    "from sklearn.decomposition import PCA\n",
    "from sklearn.datasets import load_iris\n",
    "\n",
    "# Load the Iris dataset\n",
    "iris = load_iris()\n",
    "X = iris.data\n",
    "\n",
    "# Apply PCA and find the optimal number of dimensions\n",
    "pca = PCA()\n",
    "pca.fit(X)\n",
    "\n",
    "# Plot explained variance ratio\n",
    "plt.plot(np.cumsum(pca.explained_variance_ratio_))\n",
    "plt.xlabel('Number of Dimensions')\n",
    "plt.ylabel('Cumulative Explained Variance')\n",
    "plt.show()"
   ]
  },
  {
   "cell_type": "code",
   "execution_count": null,
   "id": "b885459f-1812-4db5-a863-d45c34809099",
   "metadata": {},
   "outputs": [],
   "source": []
  },
  {
   "cell_type": "code",
   "execution_count": null,
   "id": "f495a07b-05ec-427c-b28d-e2d380721e3a",
   "metadata": {},
   "outputs": [],
   "source": []
  }
 ],
 "metadata": {
  "kernelspec": {
   "display_name": "Python 3 (ipykernel)",
   "language": "python",
   "name": "python3"
  },
  "language_info": {
   "codemirror_mode": {
    "name": "ipython",
    "version": 3
   },
   "file_extension": ".py",
   "mimetype": "text/x-python",
   "name": "python",
   "nbconvert_exporter": "python",
   "pygments_lexer": "ipython3",
   "version": "3.10.8"
  }
 },
 "nbformat": 4,
 "nbformat_minor": 5
}
