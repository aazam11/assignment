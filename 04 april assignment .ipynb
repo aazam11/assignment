{
 "cells": [
  {
   "cell_type": "markdown",
   "id": "2daf30b6-2264-49ac-9bf3-e90cec448893",
   "metadata": {},
   "source": [
    "#Q1.\n",
    "Decision Tree Classifier Algorithm:\n",
    "\n",
    "Description:\n",
    "A decision tree classifier is a supervised machine learning algorithm used for both classification and regression tasks. It works by recursively partitioning the data into subsets based on the most significant attribute at each node. The decision-making process is analogous to a tree, where each internal node represents a decision based on a specific feature, each branch represents the outcome of that decision, and each leaf node represents the final class label or numeric value.\n",
    "\n",
    "How it Works:\n",
    "\n",
    "Selecting Attributes: The algorithm begins by selecting the most influential attribute to split the data.\n",
    "\n",
    "Node Splitting: The selected attribute is used to split the dataset into subsets at each internal node.\n",
    "\n",
    "Recursive Process: The process is repeated for each subset until a stopping criterion is met, such as a predefined depth or a minimum number of \n",
    "samples in a leaf node.\n",
    "\n",
    "Leaf Node Assignment: Class labels are assigned to the leaf nodes, typically based on majority voting in a classification task."
   ]
  },
  {
   "cell_type": "code",
   "execution_count": 7,
   "id": "1c87b154-5c85-4416-9456-3422ccc87b82",
   "metadata": {},
   "outputs": [
    {
     "name": "stdout",
     "output_type": "stream",
     "text": [
      "Accuracy: 1.0\n"
     ]
    }
   ],
   "source": [
    "#1\n",
    "from sklearn.tree import DecisionTreeClassifier\n",
    "from sklearn.datasets import load_iris\n",
    "from sklearn.model_selection import train_test_split\n",
    "from sklearn.metrics import accuracy_score\n",
    "\n",
    "# Load the Iris dataset\n",
    "iris = load_iris()\n",
    "X, y = iris.data, iris.target\n",
    "\n",
    "# Split the data into training and testing sets\n",
    "X_train, X_test, y_train, y_test = train_test_split(X, y, test_size=0.2, random_state=42)\n",
    "\n",
    "# Create a Decision Tree Classifier\n",
    "dt_classifier = DecisionTreeClassifier()\n",
    "\n",
    "# Train the classifier on the training data\n",
    "dt_classifier.fit(X_train, y_train)\n",
    "\n",
    "# Make predictions on the test data\n",
    "y_pred = dt_classifier.predict(X_test)\n",
    "\n",
    "# Evaluate accuracy\n",
    "accuracy = accuracy_score(y_test, y_pred)\n",
    "print(f\"Accuracy: {accuracy}\")"
   ]
  },
  {
   "cell_type": "code",
   "execution_count": null,
   "id": "e20000e9-2ca5-44cc-8527-fb31fcda3f92",
   "metadata": {},
   "outputs": [],
   "source": []
  },
  {
   "cell_type": "markdown",
   "id": "918656e0-93a0-4ffa-b85f-64928df9aac9",
   "metadata": {},
   "source": [
    "#Q2.\n",
    "Mathematical Intuition behind Decision Tree Classification:\n",
    "\n",
    "Explanation:\n",
    "The decision tree algorithm involves choosing splits that maximize information gain or Gini impurity reduction. \n",
    "Information gain measures the reduction in entropy, while Gini impurity measures the probability of misclassifying a randomly chosen element.\n",
    "\n",
    "Decision trees use metrics like entropy or Gini impurity to find the optimal feature and split point. Entropy measures the disorder in a set of labels."
   ]
  },
  {
   "cell_type": "code",
   "execution_count": 9,
   "id": "d37b9f6c-e86d-4b66-acb0-bbae6a896978",
   "metadata": {},
   "outputs": [
    {
     "data": {
      "text/html": [
       "<style>#sk-container-id-2 {color: black;background-color: white;}#sk-container-id-2 pre{padding: 0;}#sk-container-id-2 div.sk-toggleable {background-color: white;}#sk-container-id-2 label.sk-toggleable__label {cursor: pointer;display: block;width: 100%;margin-bottom: 0;padding: 0.3em;box-sizing: border-box;text-align: center;}#sk-container-id-2 label.sk-toggleable__label-arrow:before {content: \"▸\";float: left;margin-right: 0.25em;color: #696969;}#sk-container-id-2 label.sk-toggleable__label-arrow:hover:before {color: black;}#sk-container-id-2 div.sk-estimator:hover label.sk-toggleable__label-arrow:before {color: black;}#sk-container-id-2 div.sk-toggleable__content {max-height: 0;max-width: 0;overflow: hidden;text-align: left;background-color: #f0f8ff;}#sk-container-id-2 div.sk-toggleable__content pre {margin: 0.2em;color: black;border-radius: 0.25em;background-color: #f0f8ff;}#sk-container-id-2 input.sk-toggleable__control:checked~div.sk-toggleable__content {max-height: 200px;max-width: 100%;overflow: auto;}#sk-container-id-2 input.sk-toggleable__control:checked~label.sk-toggleable__label-arrow:before {content: \"▾\";}#sk-container-id-2 div.sk-estimator input.sk-toggleable__control:checked~label.sk-toggleable__label {background-color: #d4ebff;}#sk-container-id-2 div.sk-label input.sk-toggleable__control:checked~label.sk-toggleable__label {background-color: #d4ebff;}#sk-container-id-2 input.sk-hidden--visually {border: 0;clip: rect(1px 1px 1px 1px);clip: rect(1px, 1px, 1px, 1px);height: 1px;margin: -1px;overflow: hidden;padding: 0;position: absolute;width: 1px;}#sk-container-id-2 div.sk-estimator {font-family: monospace;background-color: #f0f8ff;border: 1px dotted black;border-radius: 0.25em;box-sizing: border-box;margin-bottom: 0.5em;}#sk-container-id-2 div.sk-estimator:hover {background-color: #d4ebff;}#sk-container-id-2 div.sk-parallel-item::after {content: \"\";width: 100%;border-bottom: 1px solid gray;flex-grow: 1;}#sk-container-id-2 div.sk-label:hover label.sk-toggleable__label {background-color: #d4ebff;}#sk-container-id-2 div.sk-serial::before {content: \"\";position: absolute;border-left: 1px solid gray;box-sizing: border-box;top: 0;bottom: 0;left: 50%;z-index: 0;}#sk-container-id-2 div.sk-serial {display: flex;flex-direction: column;align-items: center;background-color: white;padding-right: 0.2em;padding-left: 0.2em;position: relative;}#sk-container-id-2 div.sk-item {position: relative;z-index: 1;}#sk-container-id-2 div.sk-parallel {display: flex;align-items: stretch;justify-content: center;background-color: white;position: relative;}#sk-container-id-2 div.sk-item::before, #sk-container-id-2 div.sk-parallel-item::before {content: \"\";position: absolute;border-left: 1px solid gray;box-sizing: border-box;top: 0;bottom: 0;left: 50%;z-index: -1;}#sk-container-id-2 div.sk-parallel-item {display: flex;flex-direction: column;z-index: 1;position: relative;background-color: white;}#sk-container-id-2 div.sk-parallel-item:first-child::after {align-self: flex-end;width: 50%;}#sk-container-id-2 div.sk-parallel-item:last-child::after {align-self: flex-start;width: 50%;}#sk-container-id-2 div.sk-parallel-item:only-child::after {width: 0;}#sk-container-id-2 div.sk-dashed-wrapped {border: 1px dashed gray;margin: 0 0.4em 0.5em 0.4em;box-sizing: border-box;padding-bottom: 0.4em;background-color: white;}#sk-container-id-2 div.sk-label label {font-family: monospace;font-weight: bold;display: inline-block;line-height: 1.2em;}#sk-container-id-2 div.sk-label-container {text-align: center;}#sk-container-id-2 div.sk-container {/* jupyter's `normalize.less` sets `[hidden] { display: none; }` but bootstrap.min.css set `[hidden] { display: none !important; }` so we also need the `!important` here to be able to override the default hidden behavior on the sphinx rendered scikit-learn.org. See: https://github.com/scikit-learn/scikit-learn/issues/21755 */display: inline-block !important;position: relative;}#sk-container-id-2 div.sk-text-repr-fallback {display: none;}</style><div id=\"sk-container-id-2\" class=\"sk-top-container\"><div class=\"sk-text-repr-fallback\"><pre>DecisionTreeClassifier(criterion=&#x27;entropy&#x27;)</pre><b>In a Jupyter environment, please rerun this cell to show the HTML representation or trust the notebook. <br />On GitHub, the HTML representation is unable to render, please try loading this page with nbviewer.org.</b></div><div class=\"sk-container\" hidden><div class=\"sk-item\"><div class=\"sk-estimator sk-toggleable\"><input class=\"sk-toggleable__control sk-hidden--visually\" id=\"sk-estimator-id-2\" type=\"checkbox\" checked><label for=\"sk-estimator-id-2\" class=\"sk-toggleable__label sk-toggleable__label-arrow\">DecisionTreeClassifier</label><div class=\"sk-toggleable__content\"><pre>DecisionTreeClassifier(criterion=&#x27;entropy&#x27;)</pre></div></div></div></div></div>"
      ],
      "text/plain": [
       "DecisionTreeClassifier(criterion='entropy')"
      ]
     },
     "execution_count": 9,
     "metadata": {},
     "output_type": "execute_result"
    }
   ],
   "source": [
    "#2\n",
    "from sklearn.tree import DecisionTreeClassifier\n",
    "from sklearn.datasets import load_iris\n",
    "from sklearn.model_selection import train_test_split\n",
    "\n",
    "# Load the Iris dataset\n",
    "iris = load_iris()\n",
    "X, y = iris.data, iris.target\n",
    "\n",
    "# Split the data into training and testing sets\n",
    "X_train, X_test, y_train, y_test = train_test_split(X, y, test_size=0.2, random_state=42)\n",
    "\n",
    "# Create a Decision Tree Classifier with entropy as the criterion\n",
    "dt_classifier_entropy = DecisionTreeClassifier(criterion='entropy')\n",
    "\n",
    "# Train the classifier on the training data\n",
    "dt_classifier_entropy.fit(X_train, y_train)"
   ]
  },
  {
   "cell_type": "code",
   "execution_count": null,
   "id": "a6c57e8f-f348-45fb-9827-7e623a53c265",
   "metadata": {},
   "outputs": [],
   "source": []
  },
  {
   "cell_type": "markdown",
   "id": "d6e03e0f-3073-406d-bbf4-d538d274ad9a",
   "metadata": {},
   "source": [
    "#Q3\n",
    "Using Decision Tree for Binary Classification:\n",
    "\n",
    "Explanation:\n",
    "A decision tree can be used for binary classification by assigning two class labels to the target variable. The tree then recursively splits the data to minimize impurity until a stopping criterion is met.\n",
    "\n",
    "A decision tree can be applied to binary classification by setting up a problem with two class labels."
   ]
  },
  {
   "cell_type": "code",
   "execution_count": 12,
   "id": "ac348320-aeab-4af9-b363-aec82d32ba34",
   "metadata": {},
   "outputs": [
    {
     "name": "stdout",
     "output_type": "stream",
     "text": [
      "Binary Classification Accuracy: 1.0\n"
     ]
    }
   ],
   "source": [
    "#3\n",
    "from sklearn.tree import DecisionTreeClassifier\n",
    "from sklearn.datasets import load_iris\n",
    "from sklearn.model_selection import train_test_split\n",
    "from sklearn.metrics import accuracy_score\n",
    "\n",
    "# Load the Iris dataset\n",
    "iris = load_iris()\n",
    "X, y = iris.data, iris.target\n",
    "\n",
    "# Convert to binary classification: 0 or 1\n",
    "y_binary = [1 if label == 0 else 0 for label in y]\n",
    "\n",
    "# Split the data into training and testing sets\n",
    "X_train, X_test, y_train, y_test = train_test_split(X, y_binary, test_size=0.2, random_state=42)\n",
    "\n",
    "# Create a Decision Tree Classifier\n",
    "dt_classifier_binary = DecisionTreeClassifier()\n",
    "\n",
    "# Train the classifier on the training data\n",
    "dt_classifier_binary.fit(X_train, y_train)\n",
    "\n",
    "# Make predictions on the test data\n",
    "y_pred_binary = dt_classifier_binary.predict(X_test)\n",
    "\n",
    "# Evaluate accuracy\n",
    "accuracy_binary = accuracy_score(y_test, y_pred_binary)\n",
    "print(f\"Binary Classification Accuracy: {accuracy_binary}\")"
   ]
  },
  {
   "cell_type": "code",
   "execution_count": null,
   "id": "017c12e9-6851-4141-a87e-159547c71dba",
   "metadata": {},
   "outputs": [],
   "source": []
  },
  {
   "cell_type": "markdown",
   "id": "f60d65d4-db99-4094-be3a-fa8c98052048",
   "metadata": {},
   "source": [
    "#Q4\n",
    "Geometric Intuition behind Decision Tree Classification:\n",
    "\n",
    "Explanation:\n",
    "Decision trees can be visualized as hyperplanes dividing the feature space into regions. Each split corresponds to a decision boundary, and the final regions (leaf nodes) represent the decision outcomes.\n",
    "\n",
    "Decision tree boundaries create rectangular decision regions in the feature space."
   ]
  },
  {
   "cell_type": "code",
   "execution_count": 13,
   "id": "da041edb-b9ee-4332-a0c9-458fea67b545",
   "metadata": {},
   "outputs": [
    {
     "data": {
      "image/png": "[encoded data removed]",
      "text/plain": [
       "<Figure size 640x480 with 1 Axes>"
      ]
     },
     "metadata": {},
     "output_type": "display_data"
    }
   ],
   "source": [
    "#4\n",
    "import matplotlib.pyplot as plt\n",
    "from sklearn.tree import DecisionTreeClassifier\n",
    "from sklearn.datasets import make_classification\n",
    "from sklearn.model_selection import train_test_split\n",
    "\n",
    "# Generate synthetic data\n",
    "X, y = make_classification(n_samples=100, n_features=2, n_informative=2, n_redundant=0, random_state=42)\n",
    "\n",
    "# Split the data into training and testing sets\n",
    "X_train, X_test, y_train, y_test = train_test_split(X, y, test_size=0.2, random_state=42)\n",
    "\n",
    "# Create a Decision Tree Classifier\n",
    "dt_classifier_geom = DecisionTreeClassifier()\n",
    "\n",
    "# Train the classifier on the training data\n",
    "dt_classifier_geom.fit(X_train, y_train)\n",
    "\n",
    "# Plot decision regions\n",
    "plt.scatter(X[:, 0], X[:, 1], c=y, cmap='viridis', edgecolor='k', s=50)\n",
    "plt.title(\"Decision Tree Classification Boundaries\")\n",
    "plt.xlabel(\"Feature 1\")\n",
    "plt.ylabel(\"Feature 2\")\n",
    "\n",
    "# Plot decision boundaries\n",
    "plt.show()"
   ]
  },
  {
   "cell_type": "code",
   "execution_count": null,
   "id": "d8108e41-bf9c-4d43-8e10-855e29fd8bd0",
   "metadata": {},
   "outputs": [],
   "source": []
  },
  {
   "cell_type": "markdown",
   "id": "a23da26c-d1ba-4927-8e0b-c0d4cf550ceb",
   "metadata": {},
   "source": [
    "#Q5.\n",
    "Confusion Matrix Definition and Practical Example:\n",
    "Explanation:\n",
    "A confusion matrix summarizes the performance of a classification model by showing the counts of true positives, true negatives, false positives, and false negatives."
   ]
  },
  {
   "cell_type": "code",
   "execution_count": 15,
   "id": "34cb9529-f256-4864-83fe-6ac6d2bd101f",
   "metadata": {},
   "outputs": [
    {
     "name": "stdout",
     "output_type": "stream",
     "text": [
      "Confusion Matrix:\n",
      "[[21  0]\n",
      " [ 0  9]]\n",
      "Precision: 1.0\n",
      "Recall: 1.0\n",
      "F1 Score: 1.0\n"
     ]
    }
   ],
   "source": [
    "#5\n",
    "from sklearn.tree import DecisionTreeClassifier\n",
    "from sklearn.model_selection import train_test_split\n",
    "from sklearn.metrics import confusion_matrix, precision_score, recall_score, f1_score\n",
    "from sklearn.datasets import load_iris\n",
    "\n",
    "# Load the Iris dataset\n",
    "iris = load_iris()\n",
    "X, y = iris.data, iris.target\n",
    "\n",
    "# Convert to binary classification: 0 or 1 (for example, classifying versicolor as 1)\n",
    "y_binary = [1 if label == 1 else 0 for label in y]\n",
    "\n",
    "# Split the data into training and testing sets\n",
    "X_train, X_test, y_train, y_test = train_test_split(X, y_binary, test_size=0.2, random_state=42)\n",
    "\n",
    "# Create a Decision Tree Classifier\n",
    "dt_classifier = DecisionTreeClassifier()\n",
    "\n",
    "# Train the classifier on the training data\n",
    "dt_classifier.fit(X_train, y_train)\n",
    "\n",
    "# Make predictions on the test data\n",
    "y_pred = dt_classifier.predict(X_test)\n",
    "\n",
    "# Evaluate using a confusion matrix\n",
    "conf_matrix = confusion_matrix(y_test, y_pred)\n",
    "print(\"Confusion Matrix:\")\n",
    "print(conf_matrix)\n",
    "\n",
    "# Calculate precision, recall, and F1 score\n",
    "precision = precision_score(y_test, y_pred)\n",
    "recall = recall_score(y_test, y_pred)\n",
    "f1 = f1_score(y_test, y_pred)\n",
    "\n",
    "print(f\"Precision: {precision}\")\n",
    "print(f\"Recall: {recall}\")\n",
    "print(f\"F1 Score: {f1}\")"
   ]
  },
  {
   "cell_type": "code",
   "execution_count": null,
   "id": "ec43bd48-438d-46bf-9a2c-a685c64de1dc",
   "metadata": {},
   "outputs": [],
   "source": []
  },
  {
   "cell_type": "markdown",
   "id": "3d67ff6a-18e8-4dd0-8c95-e2884ec8f2c6",
   "metadata": {},
   "source": [
    "#Q6\n",
    "Example of a Confusion Matrix with Precision, Recall, and F1 Score Calculation:\n",
    "Explanation:\n",
    "Precision, recall, and F1 score can be calculated from the confusion matrix using the following formulas:\n",
    "\n",
    "Precision = TP / (TP + FP)\n",
    "\n",
    "Recall = TP / (TP + FN)\n",
    "\n",
    "F1 Score = 2 * (Precision * Recall) / (Precision + Recall)"
   ]
  },
  {
   "cell_type": "code",
   "execution_count": 16,
   "id": "ebb0c3e7-1465-490b-9b6f-07b227e2d91a",
   "metadata": {},
   "outputs": [
    {
     "name": "stdout",
     "output_type": "stream",
     "text": [
      "Precision: 1.0\n",
      "Recall: 1.0\n",
      "F1 Score: 1.0\n"
     ]
    }
   ],
   "source": [
    "#6\n",
    "from sklearn.metrics import precision_score, recall_score, f1_score\n",
    "\n",
    "# Assuming y_test and y_pred are the true labels and predicted labels\n",
    "precision = precision_score(y_test, y_pred)\n",
    "recall = recall_score(y_test, y_pred)\n",
    "f1 = f1_score(y_test, y_pred)\n",
    "\n",
    "print(f\"Precision: {precision}\")\n",
    "print(f\"Recall: {recall}\")\n",
    "print(f\"F1 Score: {f1}\")"
   ]
  },
  {
   "cell_type": "code",
   "execution_count": null,
   "id": "41765068-8fef-42fb-b024-5a7ca8826ed4",
   "metadata": {},
   "outputs": [],
   "source": []
  },
  {
   "cell_type": "markdown",
   "id": "2bc5ce35-9160-434d-aa11-7ac3021da322",
   "metadata": {},
   "source": [
    "#Q7\n",
    "Importance of Choosing an Appropriate Evaluation Metric with Practical Example:\n",
    "\n",
    "Explanation:\n",
    "Choosing an appropriate metric depends on the specific goals of the problem. For imbalanced classes, accuracy may not be suitable."
   ]
  },
  {
   "cell_type": "code",
   "execution_count": 18,
   "id": "040768be-16cf-4056-a87e-fae08db70795",
   "metadata": {},
   "outputs": [
    {
     "name": "stdout",
     "output_type": "stream",
     "text": [
      "ROC AUC Score: 1.0\n"
     ]
    }
   ],
   "source": [
    "#7\n",
    "from sklearn.metrics import roc_auc_score\n",
    "\n",
    "# Assuming y_test and y_pred are the true labels and predicted labels\n",
    "roc_auc = roc_auc_score(y_test, y_pred)\n",
    "print(f\"ROC AUC Score: {roc_auc}\")"
   ]
  },
  {
   "cell_type": "code",
   "execution_count": null,
   "id": "6b049956-11c8-4f12-a97e-d8c53b917a5e",
   "metadata": {},
   "outputs": [],
   "source": []
  },
  {
   "cell_type": "markdown",
   "id": "1974ad0a-94a2-4aa6-9b80-ee8b98ff14f7",
   "metadata": {},
   "source": [
    "#Q8.\n",
    "Example of a Classification Problem where Precision is the Most Important Metric:\n",
    "\n",
    "Example:\n",
    "In a credit card fraud detection system, precision is crucial because falsely flagging a legitimate transaction as fraud (false positive) can inconvenience the user."
   ]
  },
  {
   "cell_type": "code",
   "execution_count": 19,
   "id": "30f7dc35-f5dc-44ae-ae57-2764e9e6e545",
   "metadata": {},
   "outputs": [
    {
     "name": "stdout",
     "output_type": "stream",
     "text": [
      "Precision for Credit Card Fraud Detection: 1.0\n"
     ]
    }
   ],
   "source": [
    "#8\n",
    "# Assuming y_test and y_pred are the true labels and predicted labels\n",
    "precision_credit_card = precision_score(y_test, y_pred)\n",
    "print(f\"Precision for Credit Card Fraud Detection: {precision_credit_card}\")"
   ]
  },
  {
   "cell_type": "code",
   "execution_count": null,
   "id": "ebf8cb7b-5f7e-4d57-8078-0783393a71f5",
   "metadata": {},
   "outputs": [],
   "source": []
  },
  {
   "cell_type": "markdown",
   "id": "8313710e-7ea8-47df-b002-0d6fe182cab6",
   "metadata": {},
   "source": [
    "#Q9. \n",
    "Example of a Classification Problem where Recall is the Most Important Metric:\n",
    "\n",
    "Example:\n",
    "In a disease detection system, recall is vital because missing a true positive (failing to detect a disease) can have severe consequences."
   ]
  },
  {
   "cell_type": "code",
   "execution_count": 20,
   "id": "502e6377-17b8-4513-9ce2-6e396741d358",
   "metadata": {},
   "outputs": [
    {
     "name": "stdout",
     "output_type": "stream",
     "text": [
      "Recall for Disease Detection: 1.0\n"
     ]
    }
   ],
   "source": [
    "#9\n",
    "# Assuming y_test and y_pred are the true labels and predicted labels\n",
    "recall_disease_detection = recall_score(y_test, y_pred)\n",
    "print(f\"Recall for Disease Detection: {recall_disease_detection}\")"
   ]
  }
 ],
 "metadata": {
  "kernelspec": {
   "display_name": "Python 3 (ipykernel)",
   "language": "python",
   "name": "python3"
  },
  "language_info": {
   "codemirror_mode": {
    "name": "ipython",
    "version": 3
   },
   "file_extension": ".py",
   "mimetype": "text/x-python",
   "name": "python",
   "nbconvert_exporter": "python",
   "pygments_lexer": "ipython3",
   "version": "3.10.8"
  }
 },
 "nbformat": 4,
 "nbformat_minor": 5
}
