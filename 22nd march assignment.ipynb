{
 "cells": [
  {
   "cell_type": "code",
   "execution_count": 2,
   "id": "1c1baf22-a712-4c37-98bc-6ae10f12e929",
   "metadata": {},
   "outputs": [
    {
     "name": "stdout",
     "output_type": "stream",
     "text": [
      "Pearson Correlation Coefficient: 0.9912407071619304\n"
     ]
    }
   ],
   "source": [
    "#Q1\n",
    "import numpy as np\n",
    "from scipy.stats import pearsonr\n",
    "\n",
    "# Example data\n",
    "study_time = [10, 15, 20, 25, 30]\n",
    "exam_scores = [70, 75, 85, 90, 95]\n",
    "\n",
    "# Calculate Pearson correlation coefficient\n",
    "correlation_coefficient, _ = pearsonr(study_time, exam_scores)\n",
    "\n",
    "print(f\"Pearson Correlation Coefficient: {correlation_coefficient}\")\n",
    "\n",
    "#Interpretation:\n",
    "#The Pearson correlation coefficient will range from -1 to 1.\n",
    "#A positive coefficient indicates a positive linear relationship (as study time increases, exam scores tend to increase), \n",
    "#while a negative coefficient indicates a negative linear relationship. The closer the coefficient is to 1 or -1, the stronger the correlation."
   ]
  },
  {
   "cell_type": "code",
   "execution_count": 5,
   "id": "ecf1b3e3-68d9-4f2d-a649-27fcb7bbd433",
   "metadata": {},
   "outputs": [
    {
     "name": "stdout",
     "output_type": "stream",
     "text": [
      "Spearman's Rank Correlation: 0.9746794344808963\n"
     ]
    }
   ],
   "source": [
    "#Q2\n",
    "from scipy.stats import spearmanr\n",
    "\n",
    "# Example data\n",
    "sleep_hours = [7, 6, 8, 5, 7]\n",
    "job_satisfaction = [8, 6, 9, 4, 7]\n",
    "\n",
    "# Calculate Spearman's rank correlation\n",
    "correlation_coefficient, _ = spearmanr(sleep_hours, job_satisfaction)\n",
    "\n",
    "print(f\"Spearman's Rank Correlation: {correlation_coefficient}\")\n",
    "\n",
    "#Interpretation:\n",
    "#Spearman's rank correlation measures the monotonic relationship between two variables. \n",
    "#A positive coefficient indicates that as one variable increases, the other tends to increase as well, and vice versa.\n",
    "#A negative coefficient indicates an inverse relationship. The closer the coefficient is to 1 or -1, the stronger the monotonic correlation."
   ]
  },
  {
   "cell_type": "code",
   "execution_count": 7,
   "id": "58dbd446-fa05-48c7-a6e1-a257e46ab355",
   "metadata": {},
   "outputs": [
    {
     "name": "stdout",
     "output_type": "stream",
     "text": [
      "Pearson Correlation Coefficient: 0.9977912728415962\n",
      "Spearman's Rank Correlation: 0.9999999999999999\n"
     ]
    }
   ],
   "source": [
    "#Q3\n",
    "exercise_hours = [3, 5, 2, 7, 4]\n",
    "bmi = [25, 30, 22, 35, 28]\n",
    "\n",
    "# Calculate Pearson correlation coefficient\n",
    "pearson_coefficient, _ = pearsonr(exercise_hours, bmi)\n",
    "\n",
    "# Calculate Spearman's rank correlation\n",
    "spearman_coefficient, _ = spearmanr(exercise_hours, bmi)\n",
    "\n",
    "print(f\"Pearson Correlation Coefficient: {pearson_coefficient}\")\n",
    "print(f\"Spearman's Rank Correlation: {spearman_coefficient}\")\n",
    "\n",
    "#Comparison:\n",
    "#Pearson correlation measures linear relationships, while Spearman's rank correlation measures monotonic relationships. \n",
    "#If the relationship is strictly linear, Pearson correlation may be more appropriate. \n",
    "#If the relationship is nonlinear or the data contains outliers, Spearman's rank correlation may be more robust."
   ]
  },
  {
   "cell_type": "code",
   "execution_count": 8,
   "id": "d4be8b94-9333-46bd-b8c8-35a8486e3b48",
   "metadata": {},
   "outputs": [
    {
     "name": "stdout",
     "output_type": "stream",
     "text": [
      "Pearson Correlation Coefficient: -0.9863939238321437\n"
     ]
    }
   ],
   "source": [
    "#Q4\n",
    "tv_hours = [2, 4, 1, 6, 3]\n",
    "physical_activity = [5, 3, 6, 2, 4]\n",
    "\n",
    "# Calculate Pearson correlation coefficient\n",
    "correlation_coefficient, _ = pearsonr(tv_hours, physical_activity)\n",
    "\n",
    "print(f\"Pearson Correlation Coefficient: {correlation_coefficient}\")\n"
   ]
  },
  {
   "cell_type": "code",
   "execution_count": 9,
   "id": "7395e614-207d-4237-989e-d821ce18c00c",
   "metadata": {},
   "outputs": [
    {
     "name": "stdout",
     "output_type": "stream",
     "text": [
      "Soft Drink Preference  Coke  Mountain Dew  Pepsi\n",
      "Age(Years)                                      \n",
      "19                        1             0      0\n",
      "25                        1             0      0\n",
      "28                        1             0      0\n",
      "31                        0             0      1\n",
      "37                        0             1      0\n",
      "42                        0             0      1\n"
     ]
    }
   ],
   "source": [
    "#Q5\n",
    "import pandas as pd\n",
    "\n",
    "# Create DataFrame from the survey results\n",
    "data = {'Age(Years)': [25, 42, 37, 19, 31, 28],\n",
    "        'Soft Drink Preference': ['Coke', 'Pepsi', 'Mountain Dew', 'Coke', 'Pepsi', 'Coke']}\n",
    "df = pd.DataFrame(data)\n",
    "\n",
    "# Crosstab to show the relationship\n",
    "cross_table = pd.crosstab(df['Age(Years)'], df['Soft Drink Preference'])\n",
    "\n",
    "print(cross_table)\n"
   ]
  },
  {
   "cell_type": "code",
   "execution_count": 11,
   "id": "ad1d8d8a-b46e-4f90-aea9-40e4feedaa8a",
   "metadata": {},
   "outputs": [
    {
     "name": "stdout",
     "output_type": "stream",
     "text": [
      "Pearson Correlation Coefficient: 0.9775898005717011\n"
     ]
    }
   ],
   "source": [
    "#Q6\n",
    "sales_calls_per_day = [20, 25, 18, 30, 22]\n",
    "sales_per_week = [5, 7, 4, 8, 6]\n",
    "\n",
    "# Calculate Pearson correlation coefficient\n",
    "correlation_coefficient, _ = pearsonr(sales_calls_per_day, sales_per_week)\n",
    "\n",
    "print(f\"Pearson Correlation Coefficient: {correlation_coefficient}\")"
   ]
  },
  {
   "cell_type": "code",
   "execution_count": null,
   "id": "232e9bc4-0eb5-4324-a8b0-4cb4b8a41237",
   "metadata": {},
   "outputs": [],
   "source": []
  }
 ],
 "metadata": {
  "kernelspec": {
   "display_name": "Python 3 (ipykernel)",
   "language": "python",
   "name": "python3"
  },
  "language_info": {
   "codemirror_mode": {
    "name": "ipython",
    "version": 3
   },
   "file_extension": ".py",
   "mimetype": "text/x-python",
   "name": "python",
   "nbconvert_exporter": "python",
   "pygments_lexer": "ipython3",
   "version": "3.10.8"
  }
 },
 "nbformat": 4,
 "nbformat_minor": 5
}
