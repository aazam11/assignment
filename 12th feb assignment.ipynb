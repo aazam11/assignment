{
 "cells": [
  {
   "cell_type": "code",
   "execution_count": null,
   "id": "9d0f763c-3a99-43e5-bdbc-f06dbafe27f4",
   "metadata": {},
   "outputs": [],
   "source": [
    "#In Python, an exception is an error that occurs during the execution of a program, which disrupts the normal flow of the program. When an exception occurs, it raises an exception object, which can be caught and handled by appropriate exception-handling code.\n",
    "#Exceptions can occur due to various reasons, such as invalid input, inappropriate operations, and unexpected situations.\n",
    "\n",
    "#On the other hand, syntax errors are errors that occur when you violate the grammar rules of the Python language. These errors are detected by the Python interpreter during the parsing or compilation stage, before the program is executed.\n",
    "#Syntax errors are typically caused by mistakes such as misspelled keywords, missing colons or parentheses, incorrect indentation, or improper use of operators.\n",
    "\n",
    "\n",
    "#exceptions are runtime errors that occur during program execution and can be caught and handled, whereas syntax errors are detected by the Python interpreter before execution and require code correction before the program can run."
   ]
  },
  {
   "cell_type": "code",
   "execution_count": null,
   "id": "c77c6118-7fae-4b95-a460-745cab03ffe3",
   "metadata": {},
   "outputs": [],
   "source": []
  },
  {
   "cell_type": "code",
   "execution_count": null,
   "id": "894cb11b-bf4e-4981-b995-e19726f4df12",
   "metadata": {},
   "outputs": [],
   "source": [
    "#When an exception is not handled, it results in the termination of the program's execution and an error message is displayed, providing information about the exception that occurred. This is known as an \"unhandled exception\" or an \"uncaught exception.\""
   ]
  },
  {
   "cell_type": "code",
   "execution_count": 11,
   "id": "da14663e-272e-411e-96d6-f1d0f6f72255",
   "metadata": {},
   "outputs": [
    {
     "ename": "ZeroDivisionError",
     "evalue": "division by zero",
     "output_type": "error",
     "traceback": [
      "\u001b[0;31m---------------------------------------------------------------------------\u001b[0m",
      "\u001b[0;31mZeroDivisionError\u001b[0m                         Traceback (most recent call last)",
      "Cell \u001b[0;32mIn[11], line 11\u001b[0m\n\u001b[1;32m      8\u001b[0m num1 \u001b[38;5;241m=\u001b[39m \u001b[38;5;241m10\u001b[39m\n\u001b[1;32m      9\u001b[0m num2 \u001b[38;5;241m=\u001b[39m \u001b[38;5;241m0\u001b[39m\n\u001b[0;32m---> 11\u001b[0m result \u001b[38;5;241m=\u001b[39m \u001b[43mdivide_numbers\u001b[49m\u001b[43m(\u001b[49m\u001b[43mnum1\u001b[49m\u001b[43m,\u001b[49m\u001b[43m \u001b[49m\u001b[43mnum2\u001b[49m\u001b[43m)\u001b[49m\n\u001b[1;32m     12\u001b[0m \u001b[38;5;28mprint\u001b[39m(result)\n",
      "Cell \u001b[0;32mIn[11], line 5\u001b[0m, in \u001b[0;36mdivide_numbers\u001b[0;34m(a, b)\u001b[0m\n\u001b[1;32m      4\u001b[0m \u001b[38;5;28;01mdef\u001b[39;00m \u001b[38;5;21mdivide_numbers\u001b[39m(a, b):\n\u001b[0;32m----> 5\u001b[0m     result \u001b[38;5;241m=\u001b[39m \u001b[43ma\u001b[49m\u001b[43m \u001b[49m\u001b[38;5;241;43m/\u001b[39;49m\u001b[43m \u001b[49m\u001b[43mb\u001b[49m\n\u001b[1;32m      6\u001b[0m     \u001b[38;5;28;01mreturn\u001b[39;00m result\n",
      "\u001b[0;31mZeroDivisionError\u001b[0m: division by zero"
     ]
    }
   ],
   "source": [
    "#without exception handling \n",
    "logging.basicConfig(filename='error.log', level=logging.ERROR, format='%(asctime)s %(levelname)s: %(message)s')\n",
    "\n",
    "def divide_numbers(a, b):\n",
    "    result = a / b\n",
    "    return result\n",
    "\n",
    "num1 = 10\n",
    "num2 = 0\n",
    "\n",
    "result = divide_numbers(num1, num2)\n",
    "print(result)\n"
   ]
  },
  {
   "cell_type": "code",
   "execution_count": 21,
   "id": "6a7b3008-6198-4b75-ad1d-bd3dfaa57ea0",
   "metadata": {},
   "outputs": [
    {
     "name": "stdout",
     "output_type": "stream",
     "text": [
      "Error: Division by zero is not allowed.\n",
      "None\n"
     ]
    }
   ],
   "source": [
    "#wuth exception handling\n",
    "def divide_numbers(a, b):\n",
    "    try:\n",
    "        result = a / b\n",
    "        return result\n",
    "    except ZeroDivisionError as e:\n",
    "        print(\"Error: Division by zero is not allowed.\")\n",
    "num1 = 10\n",
    "num2 = 0\n",
    "\n",
    "result = divide_numbers(num1, num2)\n",
    "print(result)\n"
   ]
  },
  {
   "cell_type": "code",
   "execution_count": null,
   "id": "c3bb681d-1e4b-4dbf-be89-61e474de4525",
   "metadata": {},
   "outputs": [],
   "source": []
  },
  {
   "cell_type": "code",
   "execution_count": 23,
   "id": "054a2f4b-247b-404d-9993-99d6f219b5ec",
   "metadata": {},
   "outputs": [
    {
     "name": "stdout",
     "output_type": "stream",
     "text": [
      "Error: Cannot divide by zero\n",
      "Result: None\n"
     ]
    }
   ],
   "source": [
    "#in Python, exceptions can be caught and handled using the try-except statement. The try block contains the code that might raise an exception, and the except block specifies the code to be executed if a specific exception occurs.\n",
    "\n",
    "def divide_numbers(a, b):\n",
    "    try:\n",
    "        result = a / b\n",
    "        return result\n",
    "    except ZeroDivisionError:\n",
    "        print(\"Error: Cannot divide by zero\")\n",
    "\n",
    "\n",
    "numerator = 10\n",
    "denominator = 0\n",
    "\n",
    "result = divide_numbers(numerator, denominator)\n",
    "print(\"Result:\", result)\n",
    "\n"
   ]
  },
  {
   "cell_type": "code",
   "execution_count": null,
   "id": "a5fdb87f-2e25-4261-9694-3c634b22b500",
   "metadata": {},
   "outputs": [],
   "source": []
  },
  {
   "cell_type": "code",
   "execution_count": 36,
   "id": "10f6547a-8752-428c-84f5-6650f1858572",
   "metadata": {},
   "outputs": [],
   "source": [
    "def divide_numbers(a, b):\n",
    "    try:\n",
    "        result = a / b\n",
    "    except ZeroDivisionError:\n",
    "        print(\"Error: Cannot divide by zero!\")\n",
    "    else:\n",
    "        print(\"Division successful!\")\n",
    "        return result\n",
    "    finally:\n",
    "        print(\"This will always execute.\")\n"
   ]
  },
  {
   "cell_type": "code",
   "execution_count": 37,
   "id": "5d415f4a-472e-4a00-af37-c56b1420509c",
   "metadata": {},
   "outputs": [
    {
     "name": "stdout",
     "output_type": "stream",
     "text": [
      "Division successful!\n",
      "This will always execute.\n",
      "Result: 5.0\n"
     ]
    }
   ],
   "source": [
    "numerator = 10\n",
    "denominator = 2\n",
    "try:\n",
    "    result = divide_numbers(numerator, denominator)\n",
    "    print(\"Result:\", result)\n",
    "except ZeroDivisionError:\n",
    "    print(\"Cannot divide by zero!\")"
   ]
  },
  {
   "cell_type": "code",
   "execution_count": 38,
   "id": "68e3ecc1-7170-4813-9ce1-405bd2d93abd",
   "metadata": {},
   "outputs": [
    {
     "name": "stdout",
     "output_type": "stream",
     "text": [
      "Error: Cannot divide by zero!\n",
      "This will always execute.\n",
      "Result: None\n"
     ]
    }
   ],
   "source": [
    "numerator = 10\n",
    "denominator = 0\n",
    "try:\n",
    "    result = divide_numbers(numerator, denominator)\n",
    "    print(\"Result:\", result)\n",
    "except ZeroDivisionError:\n",
    "    print(\"Cannot divide by zero!\")"
   ]
  },
  {
   "cell_type": "code",
   "execution_count": null,
   "id": "cc57dc8b-28b0-4c37-b3e6-2df240116ffd",
   "metadata": {},
   "outputs": [],
   "source": []
  },
  {
   "cell_type": "code",
   "execution_count": 39,
   "id": "610ebc94-9ee4-4556-b062-93bd50455216",
   "metadata": {},
   "outputs": [],
   "source": [
    "#Custom exceptions, also known as user-defined exceptions, are exceptions created by users to represent specific error conditions or exceptional situations that are not covered by the built-in exception classes in Python. They allow developers to define their own hierarchy of exceptions to handle specific types of errors in a more structured and meaningful way.\n",
    "\n",
    "#We need custom exceptions in Python for the following reasons:\n",
    "#Specific Error Handling\n",
    "#Code Organization\n",
    "#Modularity and Reusability"
   ]
  },
  {
   "cell_type": "code",
   "execution_count": 41,
   "id": "8b4f58be-6cc7-4fb8-b23e-77392bef6c84",
   "metadata": {},
   "outputs": [],
   "source": [
    "#example\n",
    "class NotEnoughBalanceError(Exception):\n",
    "    pass\n",
    "\n",
    "class BankAccount:\n",
    "    def __init__(self, balance):\n",
    "        self.balance = balance\n",
    "\n",
    "    def withdraw(self, amount):\n",
    "        if amount > self.balance:\n",
    "            raise NotEnoughBalanceError(\"Insufficient balance.\")\n",
    "        self.balance -= amount\n",
    "        print(\"Withdrawal successful. New balance:\", self.balance)"
   ]
  },
  {
   "cell_type": "code",
   "execution_count": 42,
   "id": "2b75126e-901a-4828-a913-f8ebefbc31fb",
   "metadata": {},
   "outputs": [
    {
     "name": "stdout",
     "output_type": "stream",
     "text": [
      "Error: Insufficient balance.\n"
     ]
    }
   ],
   "source": [
    "account = BankAccount(1000)\n",
    "\n",
    "try:\n",
    "    account.withdraw(1500)\n",
    "except NotEnoughBalanceError as e:\n",
    "    print(\"Error:\", str(e))"
   ]
  },
  {
   "cell_type": "code",
   "execution_count": 43,
   "id": "a67a9712-8a1e-4211-99f5-feef36cc6723",
   "metadata": {},
   "outputs": [
    {
     "name": "stdout",
     "output_type": "stream",
     "text": [
      "Withdrawal successful. New balance: 500\n"
     ]
    }
   ],
   "source": [
    "account = BankAccount(2000)\n",
    "\n",
    "try:\n",
    "    account.withdraw(1500)\n",
    "except NotEnoughBalanceError as e:\n",
    "    print(\"Error:\", str(e))"
   ]
  },
  {
   "cell_type": "code",
   "execution_count": null,
   "id": "41d6f46e-fdb8-4eaa-aea8-cd81ba702449",
   "metadata": {},
   "outputs": [],
   "source": []
  }
 ],
 "metadata": {
  "kernelspec": {
   "display_name": "Python 3 (ipykernel)",
   "language": "python",
   "name": "python3"
  },
  "language_info": {
   "codemirror_mode": {
    "name": "ipython",
    "version": 3
   },
   "file_extension": ".py",
   "mimetype": "text/x-python",
   "name": "python",
   "nbconvert_exporter": "python",
   "pygments_lexer": "ipython3",
   "version": "3.10.8"
  }
 },
 "nbformat": 4,
 "nbformat_minor": 5
}
