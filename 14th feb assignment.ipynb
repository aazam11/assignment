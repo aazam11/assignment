{
 "cells": [
  {
   "cell_type": "code",
   "execution_count": 1,
   "id": "d465908d-b209-4db1-92b8-62f73babc5a2",
   "metadata": {},
   "outputs": [],
   "source": [
    "#Multithreading in Python refers to the capability of running multiple threads simultaneously within a single process. Each thread represents a separate flow of execution that can perform tasks concurrently.\n",
    "\n",
    "#Multithreading is used in Python to improve the performance and efficiency of programs, especially in situations where tasks can be parallelized. By utilizing multiple threads, a program can execute multiple tasks concurrently, making more efficient use of available system resources such as CPU cores. This can lead to faster execution times and improved responsiveness in applications.\n",
    "\n",
    "#The module used to handle threads in Python is called threading. It provides a high-level interface and tools for creating, managing, and synchronizing threads. The threading module allows you to define and start threads, coordinate their execution, share data between them, and handle synchronization mechanisms such as locks, conditions, and semaphores."
   ]
  },
  {
   "cell_type": "code",
   "execution_count": 2,
   "id": "360fe226-5b3d-4b6b-9a9a-bafcace9f413",
   "metadata": {},
   "outputs": [],
   "source": [
    "#The threading module in Python is used to handle threads and provides a high-level interface for creating and managing them. It offers various functions and methods to facilitate thread management and coordination. Here are the uses of the following functions in the threading module:\n",
    "\n",
    "#activeCount(): This function returns the number of Thread objects currently alive. It provides the count of active threads that have been created and not yet terminated. It can be useful to monitor the number of active threads in a program.\n",
    "\n",
    "#currentThread(): This function returns the current Thread object, representing the thread from which it is called. It is useful to obtain a reference to the currently executing thread, which can be used for various purposes such as obtaining the thread's name, identification, or managing thread-specific data.\n",
    "\n",
    "#enumerate(): This function returns a list of all Thread objects currently alive. It provides a way to retrieve a list of all active threads in a program. Each Thread object in the list can then be accessed to obtain information or perform operations on individual threads, such as joining them or checking their status."
   ]
  },
  {
   "cell_type": "code",
   "execution_count": 3,
   "id": "4c24a9c6-587d-44e3-adae-ccbf49e198c1",
   "metadata": {},
   "outputs": [],
   "source": [
    "#run(): The run() function is not directly called by the user. It represents the entry point for the thread's activity. When a Thread object's start() method is called, it internally invokes the run() method. You can override the run() method in a custom Thread subclass to define the specific task or behavior you want the thread to execute.\n",
    "\n",
    "#start(): The start() method is used to start the execution of a thread. It creates a new thread of execution and invokes the run() method of the Thread object in a separate thread. Once the start() method is called, the thread begins its execution, and any code specified in the run() method will be executed concurrently with other threads.\n",
    "\n",
    "#join(): The join() method is used to wait for a thread to complete its execution. When a thread is started using the start() method, the calling thread can use join() to pause its execution and wait until the thread being joined has finished executing. This is often used to ensure that the main thread waits for all other threads to complete before proceeding.\n",
    "\n",
    "#isAlive(): The isAlive() method is used to check whether a thread is currently alive or active. It returns a boolean value indicating whether the thread has started and has not yet completed its execution. If a thread has finished executing or has not been started, isAlive() will return False. This method can be helpful to check the status of a thread and make decisions based on its execution state."
   ]
  },
  {
   "cell_type": "code",
   "execution_count": 4,
   "id": "365cba6a-6f39-4d28-91f9-efb13e0b2745",
   "metadata": {},
   "outputs": [
    {
     "name": "stdout",
     "output_type": "stream",
     "text": [
      "Square of 1: 1\n",
      "Square of 2: 4\n",
      "Square of 3: 9\n",
      "Square of 4: 16\n",
      "Square of 5: 25\n",
      "Square of 6: 36\n",
      "Square of 7: 49\n",
      "Square of 8: 64\n",
      "Square of 9: 81\n",
      "Square of 10: 100\n",
      "Cube of 1: 1\n",
      "Cube of 2: 8\n",
      "Cube of 3: 27\n",
      "Cube of 4: 64\n",
      "Cube of 5: 125\n",
      "Cube of 6: 216\n",
      "Cube of 7: 343\n",
      "Cube of 8: 512\n",
      "Cube of 9: 729\n",
      "Cube of 10: 1000\n",
      "Program execution completed.\n"
     ]
    }
   ],
   "source": [
    "import threading\n",
    "\n",
    "def print_squares():\n",
    "    for i in range(1, 11):\n",
    "        print(f\"Square of {i}: {i**2}\")\n",
    "\n",
    "def print_cubes():\n",
    "    for i in range(1, 11):\n",
    "        print(f\"Cube of {i}: {i**3}\")\n",
    "\n",
    "# Create the first thread for printing squares\n",
    "thread1 = threading.Thread(target=print_squares)\n",
    "\n",
    "# Create the second thread for printing cubes\n",
    "thread2 = threading.Thread(target=print_cubes)\n",
    "\n",
    "\n",
    "thread1.start()\n",
    "thread2.start()\n",
    "\n",
    "thread1.join()\n",
    "thread2.join()\n",
    "\n",
    "print(\"Program execution completed.\")\n"
   ]
  },
  {
   "cell_type": "code",
   "execution_count": null,
   "id": "5ad215df-ebee-4b32-b00e-8aa7275c9eba",
   "metadata": {},
   "outputs": [],
   "source": []
  },
  {
   "cell_type": "code",
   "execution_count": 5,
   "id": "5155b2d2-25d0-4741-8e30-b4a5b468a638",
   "metadata": {},
   "outputs": [],
   "source": [
    "#Deadlocks:\n",
    "#A deadlock is a situation where two or more threads or processes are unable to proceed because each is waiting for a resource held by another. It can occur when the following four conditions are simultaneously satisfied:\n",
    "#Mutual Exclusion: The resources involved cannot be simultaneously shared.\n",
    "#Hold and Wait: A thread/process holds at least one resource and is waiting to acquire additional resources that are currently held by other threads/processes.\n",
    "#No Preemption: Resources cannot be forcibly taken away from threads/processes; they can only be released voluntarily.\n",
    "#Circular Wait: A circular chain of two or more threads/processes exists, where each thread/process is waiting for a resource held by another thread/process in the chain.\n",
    "#When a deadlock occurs, the involved threads or processes may remain in a blocked state indefinitely, resulting in a program or system freeze. Deadlocks need to be avoided or resolved through careful resource allocation and synchronization mechanisms, such as proper resource ordering, deadlock detection algorithms, or deadlock avoidance strategies."
   ]
  },
  {
   "cell_type": "code",
   "execution_count": 6,
   "id": "df8d9c36-9a82-4561-bcef-7afa3b68d287",
   "metadata": {},
   "outputs": [],
   "source": [
    "#Race Conditions:\n",
    "#A race condition occurs when two or more threads or processes access shared data concurrently, and the final outcome depends on the relative timing of their execution. It arises when multiple threads/processes access and manipulate shared resources without proper synchronization, leading to unpredictable and undesired results.\n",
    "#Race conditions typically occur when at least one thread/process performs a write operation on shared data while another thread/process performs a read or write operation on the same data concurrently. The exact outcome becomes unpredictable and depends on the order of execution, interleaving of instructions, and timing of the threads/processes.\n",
    "#To avoid race conditions, proper synchronization mechanisms, such as locks, mutexes, or semaphores, should be used to ensure exclusive access to shared resources. Synchronization ensures that only one thread/process can access the shared data at a time, preventing data corruption and maintaining consistency."
   ]
  },
  {
   "cell_type": "code",
   "execution_count": null,
   "id": "2ee72012-c76c-434b-9e7e-34fbff76b459",
   "metadata": {},
   "outputs": [],
   "source": []
  },
  {
   "cell_type": "code",
   "execution_count": null,
   "id": "09ff3358-6f00-4b2b-ae9c-9ae39d4892d4",
   "metadata": {},
   "outputs": [],
   "source": []
  }
 ],
 "metadata": {
  "kernelspec": {
   "display_name": "Python 3 (ipykernel)",
   "language": "python",
   "name": "python3"
  },
  "language_info": {
   "codemirror_mode": {
    "name": "ipython",
    "version": 3
   },
   "file_extension": ".py",
   "mimetype": "text/x-python",
   "name": "python",
   "nbconvert_exporter": "python",
   "pygments_lexer": "ipython3",
   "version": "3.10.8"
  }
 },
 "nbformat": 4,
 "nbformat_minor": 5
}
