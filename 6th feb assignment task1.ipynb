{
 "cells": [
  {
   "cell_type": "code",
   "execution_count": 7,
   "id": "379984c0-51d7-47dc-91b0-190f99476d41",
   "metadata": {},
   "outputs": [],
   "source": [
    "def encrypt_message(message):\n",
    "    encrypted_message = \"\"\n",
    "\n",
    "    for char in message:\n",
    "        if char.isalpha():\n",
    "            if char.isupper():\n",
    "                encrypted_char = chr(155 - ord(char))\n",
    "            else:\n",
    "                encrypted_char = chr(219 - ord(char))\n",
    "            encrypted_message += encrypted_char\n",
    "        else:\n",
    "            encrypted_message += char\n",
    "\n",
    "    return encrypted_message.lower()\n"
   ]
  },
  {
   "cell_type": "code",
   "execution_count": 8,
   "id": "0396029f-7d9e-47a0-bf00-1c0a7b8db74e",
   "metadata": {},
   "outputs": [
    {
     "name": "stdout",
     "output_type": "stream",
     "text": [
      "r dzmg gl yvxlnv z wzgz hxrvmgrhg.\n"
     ]
    }
   ],
   "source": [
    "input_sentence = \"I want to become a Data Scientist.\"\n",
    "encrypted_sentence = encrypt_message(input_sentence)\n",
    "print(encrypted_sentence)"
   ]
  },
  {
   "cell_type": "code",
   "execution_count": null,
   "id": "6adf7103-83dd-4341-b968-af7c1f966e62",
   "metadata": {},
   "outputs": [],
   "source": []
  },
  {
   "cell_type": "code",
   "execution_count": 21,
   "id": "6296703d-b88a-49e4-8733-27034f1d6eb1",
   "metadata": {},
   "outputs": [
    {
     "name": "stdout",
     "output_type": "stream",
     "text": [
      "0\n"
     ]
    }
   ],
   "source": [
    "\n",
    "def flatten(lst):\n",
    "    for item in lst:\n",
    "        if isinstance(item, dict):\n",
    "            yield from flatten(item.values())\n",
    "            yield from flatten(item.keys())\n",
    "        elif isinstance(item, Iterable) and not isinstance(item, str):\n",
    "            yield from flatten(item)\n",
    "        else:\n",
    "            yield item\n",
    "\n",
    "\n",
    "def calculate_product(lst):\n",
    "    flat_list = list(flatten(lst))\n",
    "    return reduce(mul, (num for num in flat_list if isinstance(num, (int, float))))\n",
    "\n",
    "\n",
    "list1 = [1, 2, 3, 4, [44, 55, 66, True], False, (34, 56, 78, 89, 34), {1, 2, 3, 3, 2, 1},\n",
    "         {1: 34, \"key2\": [55, 67, 78, 89], 4: (45, 22, 61, 34)}, [56, 'data science'], 'Machine Learning']\n",
    "\n",
    "result = calculate_product(list1)\n",
    "print(result)\n"
   ]
  },
  {
   "cell_type": "code",
   "execution_count": null,
   "id": "4aaa74d0-6f3c-44a1-96e6-974058fb3d28",
   "metadata": {},
   "outputs": [],
   "source": []
  },
  {
   "cell_type": "code",
   "execution_count": null,
   "id": "a3138ed9-e12e-46e7-be53-ee45972c8927",
   "metadata": {},
   "outputs": [],
   "source": []
  },
  {
   "cell_type": "code",
   "execution_count": null,
   "id": "bf87f75a-a3fa-4d79-9f3c-e8040d4e3345",
   "metadata": {},
   "outputs": [],
   "source": []
  }
 ],
 "metadata": {
  "kernelspec": {
   "display_name": "Python 3 (ipykernel)",
   "language": "python",
   "name": "python3"
  },
  "language_info": {
   "codemirror_mode": {
    "name": "ipython",
    "version": 3
   },
   "file_extension": ".py",
   "mimetype": "text/x-python",
   "name": "python",
   "nbconvert_exporter": "python",
   "pygments_lexer": "ipython3",
   "version": "3.10.8"
  }
 },
 "nbformat": 4,
 "nbformat_minor": 5
}
