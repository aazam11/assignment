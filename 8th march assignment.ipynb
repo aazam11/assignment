{
 "cells": [
  {
   "cell_type": "code",
   "execution_count": 1,
   "id": "2c3c55e6-8557-492c-8894-3832042e03aa",
   "metadata": {},
   "outputs": [],
   "source": [
    "#The Probability Density Function (PDF) is a statistical function used to describe the likelihood \n",
    "#of a continuous random variable taking on a particular value.\n",
    "#It provides the probability distribution of a continuous random variable over its entire range. "
   ]
  },
  {
   "cell_type": "code",
   "execution_count": null,
   "id": "56ced513-5515-4d76-9a1c-43e597919b33",
   "metadata": {},
   "outputs": [],
   "source": []
  },
  {
   "cell_type": "code",
   "execution_count": 2,
   "id": "4e9570d3-0cfe-4cb2-8fc3-fb4974141c4c",
   "metadata": {},
   "outputs": [],
   "source": [
    "#There are several types of probability distributions, including:\n",
    "#Uniform Distribution: All outcomes are equally likely.\n",
    "#Normal Distribution (Gaussian Distribution): Bell-shaped curve, characterized by mean and standard deviation.\n",
    "#Binomial Distribution: Used for binary outcomes (success/failure) with a fixed number of trials.\n",
    "#Poisson Distribution: Models the number of events occurring in a fixed interval of time or space.\n",
    "#Bernoulli Distribution: A special case of the binomial distribution with a single trial."
   ]
  },
  {
   "cell_type": "code",
   "execution_count": null,
   "id": "26144529-ffb3-4b80-98c9-5f579d5cff90",
   "metadata": {},
   "outputs": [],
   "source": []
  },
  {
   "cell_type": "code",
   "execution_count": 4,
   "id": "3fccac3e-65bc-4d98-bf1d-0b3f37f6acd5",
   "metadata": {},
   "outputs": [],
   "source": [
    "import math\n",
    "\n",
    "def normal_pdf(x, mean, std_dev):\n",
    "    \"\"\"\n",
    "    Calculate the probability density function (PDF) of a normal distribution at a given point x.\n",
    "    \n",
    "    Parameters:\n",
    "    x (float): The value at which to calculate the PDF.\n",
    "    mean (float): The mean (average) of the normal distribution.\n",
    "    std_dev (float): The standard deviation of the normal distribution.\n",
    "    \n",
    "    Returns:\n",
    "    float: The PDF value at point x.\n",
    "    \"\"\"\n",
    "    exponent = -(x - mean)**2 / (2 * std_dev**2)\n",
    "    pdf = (1 / (std_dev * math.sqrt(2 * math.pi))) * math.exp(exponent)\n",
    "    return pdf"
   ]
  },
  {
   "cell_type": "code",
   "execution_count": null,
   "id": "5622f9ac-773c-477b-abb3-f431359e5af9",
   "metadata": {},
   "outputs": [],
   "source": []
  },
  {
   "cell_type": "code",
   "execution_count": 5,
   "id": "bd010992-dabe-42db-b758-298189d468f2",
   "metadata": {},
   "outputs": [],
   "source": [
    "#Properties of the Binomial Distribution:\n",
    "#It models binary outcomes (e.g., success/failure).\n",
    "#It consists of a fixed number of independent trials (n).\n",
    "#Each trial has the same probability of success (p).\n",
    "#The trials are mutually exclusive.\n",
    "#The random variable X represents the number of successes.\n",
    "\n",
    "#Examples of events where the Binomial distribution can be applied:\n",
    "\n",
    "#Tossing a biased coin (with probability p of getting heads) n times and counting the number of heads.\n",
    "#Determining the number of defective items in a batch of n produced items, where each item has a probability p of being defective."
   ]
  },
  {
   "cell_type": "code",
   "execution_count": null,
   "id": "a7ac312c-af6a-44ad-b83e-f0e1bbdba5cc",
   "metadata": {},
   "outputs": [],
   "source": []
  },
  {
   "cell_type": "code",
   "execution_count": 6,
   "id": "5e6efd53-b381-4681-8a3d-05ebc5ee07a7",
   "metadata": {},
   "outputs": [
    {
     "data": {
      "image/png": "[encoded data removed]",
      "text/plain": [
       "<Figure size 640x480 with 1 Axes>"
      ]
     },
     "metadata": {},
     "output_type": "display_data"
    }
   ],
   "source": [
    "import numpy as np\n",
    "import matplotlib.pyplot as plt\n",
    "\n",
    "# Parameters\n",
    "n = 1000  # Sample size\n",
    "p = 0.4   # Probability of success\n",
    "\n",
    "# Generate random sample from Binomial distribution\n",
    "sample = np.random.binomial(n=1, p=p, size=n)\n",
    "\n",
    "# Plot histogram\n",
    "plt.hist(sample, bins=[-0.5, 0.5, 1.5], edgecolor='black')\n",
    "plt.xlabel('Outcome')\n",
    "plt.ylabel('Frequency')\n",
    "plt.title('Binomial Distribution Histogram')\n",
    "plt.xticks([0, 1], ['Failure', 'Success'])\n",
    "plt.show()\n"
   ]
  },
  {
   "cell_type": "code",
   "execution_count": null,
   "id": "3a6cb12f-7903-4a15-abcb-44945f961608",
   "metadata": {},
   "outputs": [],
   "source": []
  },
  {
   "cell_type": "code",
   "execution_count": 7,
   "id": "b5921f3a-cd3a-4ff9-b787-77cf13551e94",
   "metadata": {},
   "outputs": [],
   "source": [
    "import math\n",
    "\n",
    "def poisson_cdf(k, mean):\n",
    "    \"\"\"\n",
    "    Calculate the cumulative distribution function (CDF) of a Poisson distribution at a given point k.\n",
    "\n",
    "    Parameters:\n",
    "    k (int): The value at which to calculate the CDF.\n",
    "    mean (float): The mean of the Poisson distribution.\n",
    "\n",
    "    Returns:\n",
    "    float: The CDF value at point k.\n",
    "    \"\"\"\n",
    "    cdf = 0\n",
    "    for i in range(k + 1):\n",
    "        cdf += math.exp(-mean) * (mean ** i) / math.factorial(i)\n",
    "    return cdf\n"
   ]
  },
  {
   "cell_type": "code",
   "execution_count": null,
   "id": "9a5b45cb-c2d0-4f34-92eb-8d578fbd183e",
   "metadata": {},
   "outputs": [],
   "source": []
  },
  {
   "cell_type": "code",
   "execution_count": 8,
   "id": "eabcfbc6-8334-4831-bce6-6ad7047d28cd",
   "metadata": {},
   "outputs": [],
   "source": [
    "#Binomial Distribution:\n",
    "\n",
    "#Models the number of successes (or failures) in a fixed number of independent trials (n).\n",
    "#Each trial has two possible outcomes: success (with probability p) and failure (with probability 1-p).\n",
    "#The trials are mutually exclusive and have the same probability of success (or failure).\n",
    "#The random variable X represents the number of successes in n trials.\n",
    "#The Binomial distribution is used when the number of trials is fixed and finite.\n",
    "\n",
    "#Poisson Distribution:\n",
    "\n",
    "#Models the number of events occurring in a fixed interval of time or space.\n",
    "#It assumes a large number of trials (n) with a very small probability of success (p), such that np is a constant (λ, the average rate).\n",
    "#Events in a Poisson process are independent.\n",
    "#The random variable X represents the number of events occurring in the given interval.\n",
    "#The Poisson distribution is used when events are rare and random."
   ]
  },
  {
   "cell_type": "code",
   "execution_count": null,
   "id": "b2e10610-8d31-4f89-94cd-4b5ee0988f52",
   "metadata": {},
   "outputs": [],
   "source": []
  },
  {
   "cell_type": "code",
   "execution_count": 9,
   "id": "40caf6a0-9fdc-4bf1-9d6b-34fee030837e",
   "metadata": {},
   "outputs": [
    {
     "name": "stdout",
     "output_type": "stream",
     "text": [
      "Sample Mean: 4.989\n",
      "Sample Variance: 5.328879\n"
     ]
    }
   ],
   "source": [
    "import numpy as np\n",
    "\n",
    "# Parameters\n",
    "mean = 5\n",
    "sample_size = 1000\n",
    "\n",
    "# Generate random sample from Poisson distribution\n",
    "sample = np.random.poisson(mean, size=sample_size)\n",
    "\n",
    "# Calculate sample mean and variance\n",
    "sample_mean = np.mean(sample)\n",
    "sample_variance = np.var(sample)\n",
    "\n",
    "print(\"Sample Mean:\", sample_mean)\n",
    "print(\"Sample Variance:\", sample_variance)\n"
   ]
  },
  {
   "cell_type": "code",
   "execution_count": null,
   "id": "f4851841-b856-43a6-8102-3d47a91138a0",
   "metadata": {},
   "outputs": [],
   "source": []
  },
  {
   "cell_type": "code",
   "execution_count": 10,
   "id": "40f383ee-383a-4f29-b1c5-b3159c780a8e",
   "metadata": {},
   "outputs": [],
   "source": [
    "#In both the Binomial and Poisson distributions, the mean (μ) and variance (σ^2) have a specific relationship with the distribution parameters:\n",
    "#Binomial Distribution:\n",
    "#Mean: μ = np, where n is the number of trials and p is the probability of success in each trial.\n",
    "#Variance: σ^2 = np(1-p).\n",
    "\n",
    "#Poisson Distribution:\n",
    "#Mean: μ = λ, where λ is the average rate of events occurring in a fixed interval of time or space.\n",
    "#Variance: σ^2 = λ."
   ]
  },
  {
   "cell_type": "code",
   "execution_count": null,
   "id": "423ab1e4-789d-421e-be53-b046f22b845c",
   "metadata": {},
   "outputs": [],
   "source": []
  },
  {
   "cell_type": "code",
   "execution_count": null,
   "id": "fedc23be-549b-41a7-a005-0f23e511480d",
   "metadata": {},
   "outputs": [],
   "source": [
    "#In a normal distribution, the least frequent data appears in the tails of the distribution, which are the regions furthest away from the mean. \n",
    "#The normal distribution is symmetric, with the mean, median, and mode all located at the center of the distribution. \n",
    "#As you move away from the mean in either direction (towards the tails), the frequency of data points decreases.\n",
    "#This is why extreme values (farther from the mean) are less likely to occur in a normal distribution."
   ]
  }
 ],
 "metadata": {
  "kernelspec": {
   "display_name": "Python 3 (ipykernel)",
   "language": "python",
   "name": "python3"
  },
  "language_info": {
   "codemirror_mode": {
    "name": "ipython",
    "version": 3
   },
   "file_extension": ".py",
   "mimetype": "text/x-python",
   "name": "python",
   "nbconvert_exporter": "python",
   "pygments_lexer": "ipython3",
   "version": "3.10.8"
  }
 },
 "nbformat": 4,
 "nbformat_minor": 5
}
