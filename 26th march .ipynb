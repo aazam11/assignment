{
 "cells": [
  {
   "cell_type": "markdown",
   "id": "adc5e7d7-ffa1-43f5-ade3-7642730b10d3",
   "metadata": {},
   "source": [
    "Q1. Simple Linear Regression vs. Multiple Linear Regression:\n",
    "Simple Linear Regression:\n",
    "In simple linear regression, there is a single independent variable predicting the dependent variable.\n",
    "Formula: y=β0+β1x+ϵ\n",
    "Example: Predicting house prices based on the square footage of the house.\n",
    "\n",
    "Multiple Linear Regression:\n",
    "In multiple linear regression, there are multiple independent variables predicting the dependent variable.\n",
    "Formula: y=β0+β1x1+β2x2+…+βnxn+ϵ\n",
    "Example: Predicting house prices based on square footage, number of bedrooms, and location.\n",
    "\n",
    "Q2. Assumptions of Linear Regression:\n",
    "Assumptions:\n",
    "Linearity: The relationship between independent and dependent variables is linear.\n",
    "Independence: Residuals are independent of each other.\n",
    "Homoscedasticity: Residuals have constant variance.\n",
    "Normality of Residuals: Residuals are normally distributed.\n",
    "Checking Assumptions:\n",
    "\n",
    "Scatterplots, residual plots, and statistical tests (e.g., Shapiro-Wilk) can be used to assess these assumptions.\n",
    "\n",
    "Q3. Interpretation of Slope and Intercept:\n",
    "Slope (β1): It represents the change in the dependent variable for a one-unit change in the independent variable, holding other variables constant.\n",
    "Intercept (β0): It is the predicted value of the dependent variable when all independent variables are zero.\n",
    "Example: In a house price prediction model, the slope for square footage (β1) indicates the change in house price for a one-unit increase in square footage.\n",
    "\n",
    "Q4. Gradient Descent:\n",
    "Concept: Gradient descent is an optimization algorithm used to minimize the cost function in machine learning.\n",
    "Usage: In machine learning, it's employed to find the optimal parameters (weights and biases) of a model by iteratively adjusting them based on the negative gradient of the cost function.\n",
    "\n",
    "Q5. Multiple Linear Regression Model:\n",
    "Definition: Multiple linear regression involves multiple independent variables predicting a dependent variable.\n",
    "Formula: y=β0+β1x1+β2x2+…+βnxn+ϵ\n",
    "Difference from Simple Linear Regression: Multiple variables contribute to predicting the outcome.\n",
    "\n",
    "Q6. Multicollinearity in Multiple Linear Regression:\n",
    "Concept: Multicollinearity occurs when independent variables in a multiple regression model are highly correlated.\n",
    "Detection: Variance Inflation Factor (VIF) is commonly used to detect multicollinearity.\n",
    "Addressing: Removing one of the highly correlated variables or using dimensionality reduction techniques.\n",
    "\n",
    "Q7. Polynomial Regression Model:\n",
    "Definition: Polynomial regression is a type of regression analysis in which the relationship between the independent variable and the dependent variable is modeled as an nth-degree polynomial.\n",
    "Formula: y=β0+β1x+β2x2+…+βnxn+ϵ\n",
    "Difference from Linear Regression: It allows for more complex relationships between variables.\n",
    "\n",
    "\n",
    "Q8. Advantages and Disadvantages of Polynomial Regression:\n",
    "Advantages:\n",
    "Captures non-linear relationships.\n",
    "Flexible and can fit a wide range of curves.\n",
    "\n",
    "Disadvantages:\n",
    "Prone to overfitting, especially with higher-degree polynomials.\n",
    "Interpretability can be challenging.\n",
    "More computationally expensive.\n",
    "When to Use Polynomial Regression:\n",
    "\n",
    "When the relationship between variables is non-linear.\n",
    "Use cautiously to prevent overfitting; cross-validation can help."
   ]
  },
  {
   "cell_type": "code",
   "execution_count": null,
   "id": "4e7b0e0a-7a1e-43b0-933a-850591b88da5",
   "metadata": {},
   "outputs": [],
   "source": []
  }
 ],
 "metadata": {
  "kernelspec": {
   "display_name": "Python 3 (ipykernel)",
   "language": "python",
   "name": "python3"
  },
  "language_info": {
   "codemirror_mode": {
    "name": "ipython",
    "version": 3
   },
   "file_extension": ".py",
   "mimetype": "text/x-python",
   "name": "python",
   "nbconvert_exporter": "python",
   "pygments_lexer": "ipython3",
   "version": "3.10.8"
  }
 },
 "nbformat": 4,
 "nbformat_minor": 5
}
