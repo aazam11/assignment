{
 "cells": [
  {
   "cell_type": "code",
   "execution_count": 1,
   "id": "1f81b1fb-646f-4c31-a043-9ba7d89a13be",
   "metadata": {},
   "outputs": [],
   "source": [
    "#The function used to open a file is typically called open().\n",
    "#The open() function is used to establish a connection between your program and a file on the underlying file system. It allows you to perform various operations such as reading from or writing to the file. \n",
    "#The function typically takes two parameters: the filename (or path to the file) and the mode in which you want to open the file.\n",
    "#The commonly used modes for file opening:\n",
    "\n",
    "\n",
    "#Read mode ('r'): This mode is used when you want to read the contents of a file. It is the default mode if no mode is specified. When a file is opened in read mode, attempting to write to the file will result in an error. Example: open('file.txt', 'r')\n",
    "\n",
    "#Write mode ('w'): This mode is used when you want to create a new file or overwrite the contents of an existing file. If the file doesn't exist, it will be created. If it already exists, the previous contents will be discarded. Example: open('file.txt', 'w')\n",
    "\n",
    "#Append mode ('a'): This mode is used when you want to append data to an existing file. If the file doesn't exist, it will be created. When writing in append mode, the data is added at the end of the file without removing any existing content. Example: open('file.txt', 'a')\n",
    "\n",
    "#Binary mode ('b'): This mode is used in conjunction with other modes ('r', 'w', 'a') to specify that the file should be treated as binary rather than text. It is typically used when working with non-text files such as images or binary data. Example: open('file.jpg', 'rb'"
   ]
  },
  {
   "cell_type": "code",
   "execution_count": 2,
   "id": "fdf5c945-d138-4e25-9bb6-3c107ac86f16",
   "metadata": {},
   "outputs": [],
   "source": [
    "#The close() function is used to close an opened file in a programming language. It is important to close a file after you have finished working with it for several reasons:\n",
    "#Resource management\n",
    "#Data integrity\n",
    "#File availability\n",
    "#Consistency with other programs\n",
    "#Best practice"
   ]
  },
  {
   "cell_type": "code",
   "execution_count": 1,
   "id": "cff7083d-c646-4cc3-80cd-0fa9553824f9",
   "metadata": {},
   "outputs": [],
   "source": [
    "with open('data_scientist.txt', 'w') as f:\n",
    "    f.write('I want to become a Data Scientist.')"
   ]
  },
  {
   "cell_type": "code",
   "execution_count": 2,
   "id": "1a4516a9-a447-4360-906d-e307d9d320e6",
   "metadata": {},
   "outputs": [],
   "source": [
    "with open('data_scientist.txt', 'r') as f:\n",
    "    content = f.read()"
   ]
  },
  {
   "cell_type": "code",
   "execution_count": 3,
   "id": "892d8fcf-fce8-48af-8406-99e7fd4ac973",
   "metadata": {},
   "outputs": [
    {
     "name": "stdout",
     "output_type": "stream",
     "text": [
      "I want to become a Data Scientist.\n"
     ]
    }
   ],
   "source": [
    "print(content)"
   ]
  },
  {
   "cell_type": "code",
   "execution_count": null,
   "id": "cb306750-b029-4eb4-85ea-749410edc1a2",
   "metadata": {},
   "outputs": [],
   "source": []
  },
  {
   "cell_type": "code",
   "execution_count": 4,
   "id": "7203ba3e-f800-49fa-a5bb-900dfd0be45b",
   "metadata": {},
   "outputs": [],
   "source": [
    "with open('example.txt', 'w') as f:\n",
    "    f.write('This is line 1.\\nThis is line 2.')"
   ]
  },
  {
   "cell_type": "code",
   "execution_count": 5,
   "id": "37797596-3cf6-456a-b76b-b582d40e737c",
   "metadata": {},
   "outputs": [
    {
     "name": "stdout",
     "output_type": "stream",
     "text": [
      "This is line 1.\n",
      "This is line 2.\n"
     ]
    }
   ],
   "source": [
    "with open('example.txt', 'r') as f:\n",
    "    file_content = f.read()\n",
    "\n",
    "print(file_content)"
   ]
  },
  {
   "cell_type": "code",
   "execution_count": 6,
   "id": "903f61c1-49f2-42b6-a2ce-0f1e7f871b3f",
   "metadata": {},
   "outputs": [
    {
     "name": "stdout",
     "output_type": "stream",
     "text": [
      "This is line 1.\n",
      "\n"
     ]
    }
   ],
   "source": [
    "with open('example.txt', 'r') as f:\n",
    "    line1 = f.readline()\n",
    "print(line1)"
   ]
  },
  {
   "cell_type": "code",
   "execution_count": 7,
   "id": "630d2fff-a05a-4491-8368-776d2161d23c",
   "metadata": {},
   "outputs": [
    {
     "name": "stdout",
     "output_type": "stream",
     "text": [
      "This is line 1.\n",
      "\n",
      "This is line 2.\n"
     ]
    }
   ],
   "source": [
    "with open('example.txt', 'r') as f:\n",
    "    lines = f.readlines()\n",
    "\n",
    "for i in lines:\n",
    "    print(i)"
   ]
  },
  {
   "cell_type": "code",
   "execution_count": 8,
   "id": "8d333aae-5fe6-4a5c-8e9d-67b2a2efd68a",
   "metadata": {},
   "outputs": [],
   "source": [
    "#The with statement in Python is used in conjunction with the open() function to provide a clean and efficient way of working with files.\n",
    "#The with statement ensures that the file is properly opened and closed, even if exceptions occur within the block of code.\n",
    "\n",
    "#The advantage of using the with statement with open() include\n",
    "#Automatic resource management\n",
    "#Exception handling\n",
    "#Simpler and more readable code"
   ]
  },
  {
   "cell_type": "code",
   "execution_count": 9,
   "id": "e9bc066b-154a-4365-89c7-eae032eaef2d",
   "metadata": {},
   "outputs": [
    {
     "name": "stdout",
     "output_type": "stream",
     "text": [
      "This is line 1.\n",
      "This is line 2.\n"
     ]
    }
   ],
   "source": [
    "# Without using with statement\n",
    "file = open('example.txt', 'r')\n",
    "try:\n",
    "    content = file.read()\n",
    "    print(content)\n",
    "finally:    \n",
    "    file.close()"
   ]
  },
  {
   "cell_type": "code",
   "execution_count": 12,
   "id": "390021f5-8465-48c2-b7ce-14f71be264ce",
   "metadata": {},
   "outputs": [
    {
     "name": "stdout",
     "output_type": "stream",
     "text": [
      "This is line 1.\n",
      "This is line 2.\n"
     ]
    }
   ],
   "source": [
    "# Using with statement\n",
    "with open('example.txt', 'r') as file:\n",
    "    # File operations\n",
    "    content = file.read()\n",
    "    print(content)"
   ]
  },
  {
   "cell_type": "code",
   "execution_count": null,
   "id": "bd6abde7-02df-4b84-bd74-063f57f191b0",
   "metadata": {},
   "outputs": [],
   "source": []
  },
  {
   "cell_type": "code",
   "execution_count": 17,
   "id": "423181e7-6b36-47ef-b7bf-9c305c412a18",
   "metadata": {},
   "outputs": [],
   "source": [
    "#The write() function is used to write a string of data to a file. \n",
    "#It appends the specified data to the end of the file or overwrites the existing contents if the file already exists.\n",
    "\n",
    "with open('example1.txt', 'w') as f:\n",
    "    f.write('what is line 1.\\n')\n",
    "    f.write('what is line 2.\\n')\n"
   ]
  },
  {
   "cell_type": "code",
   "execution_count": 18,
   "id": "71afc05b-3d6d-49c1-90a4-9befa9ac7bb2",
   "metadata": {},
   "outputs": [
    {
     "name": "stdout",
     "output_type": "stream",
     "text": [
      "what is line 1.\n",
      "what is line 2.\n",
      "\n"
     ]
    }
   ],
   "source": [
    "with open('example1.txt', 'r') as f:\n",
    "    content = f.read()\n",
    "print(content)"
   ]
  },
  {
   "cell_type": "code",
   "execution_count": 35,
   "id": "5f1402c2-5bc6-44fb-a1b1-4f318230d27b",
   "metadata": {},
   "outputs": [],
   "source": [
    "#The writelines() function is used to write multiple lines of data to a file. \n",
    "#It takes an iterable (such as a list or tuple) containing strings and writes each string as a separate line in the file.\n",
    "\n",
    "lines = ['what is line 1.\\n', ' what is line 2.\\n', 'what is line 3.\\n']\n",
    "\n",
    "with open('example.txt', 'w') as f:\n",
    "    f.writelines(lines)\n"
   ]
  },
  {
   "cell_type": "code",
   "execution_count": null,
   "id": "02f06d1e-806c-4a1c-b1a6-1c3b4304b1f9",
   "metadata": {},
   "outputs": [],
   "source": []
  },
  {
   "cell_type": "code",
   "execution_count": 40,
   "id": "c554a59f-7413-4446-bbe9-2ed8663f60fa",
   "metadata": {},
   "outputs": [
    {
     "ename": "UnsupportedOperation",
     "evalue": "not writable",
     "output_type": "error",
     "traceback": [
      "\u001b[0;31m---------------------------------------------------------------------------\u001b[0m",
      "\u001b[0;31mUnsupportedOperation\u001b[0m                      Traceback (most recent call last)",
      "Cell \u001b[0;32mIn[40], line 2\u001b[0m\n\u001b[1;32m      1\u001b[0m \u001b[38;5;28;01mwith\u001b[39;00m \u001b[38;5;28mopen\u001b[39m(\u001b[38;5;124m'\u001b[39m\u001b[38;5;124mexample.txt\u001b[39m\u001b[38;5;124m'\u001b[39m, \u001b[38;5;124m'\u001b[39m\u001b[38;5;124mr\u001b[39m\u001b[38;5;124m'\u001b[39m) \u001b[38;5;28;01mas\u001b[39;00m f:\n\u001b[0;32m----> 2\u001b[0m     content \u001b[38;5;241m=\u001b[39m \u001b[43mf\u001b[49m\u001b[38;5;241;43m.\u001b[39;49m\u001b[43mwritelines\u001b[49m\u001b[43m(\u001b[49m\u001b[43mlines\u001b[49m\u001b[43m)\u001b[49m\n\u001b[1;32m      3\u001b[0m \u001b[38;5;28mprint\u001b[39m(content)    \n",
      "\u001b[0;31mUnsupportedOperation\u001b[0m: not writable"
     ]
    }
   ],
   "source": [
    "with open('example.txt', 'r') as f:\n",
    "    content = f.writelines()\n",
    "print(content)    "
   ]
  },
  {
   "cell_type": "code",
   "execution_count": null,
   "id": "78f226f5-00e7-4ba5-8a24-05cb52780dca",
   "metadata": {},
   "outputs": [],
   "source": []
  }
 ],
 "metadata": {
  "kernelspec": {
   "display_name": "Python 3 (ipykernel)",
   "language": "python",
   "name": "python3"
  },
  "language_info": {
   "codemirror_mode": {
    "name": "ipython",
    "version": 3
   },
   "file_extension": ".py",
   "mimetype": "text/x-python",
   "name": "python",
   "nbconvert_exporter": "python",
   "pygments_lexer": "ipython3",
   "version": "3.10.8"
  }
 },
 "nbformat": 4,
 "nbformat_minor": 5
}
