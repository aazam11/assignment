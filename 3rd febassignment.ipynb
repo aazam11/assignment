{
 "cells": [
  {
   "cell_type": "code",
   "execution_count": 3,
   "id": "485fc13c-9b23-465e-995b-eae3cdf43501",
   "metadata": {},
   "outputs": [],
   "source": [
    "#the keyword used to create a function is \"def\".\n",
    "\n",
    "def get_odd_numbers():\n",
    "    odd_num = []\n",
    "    for num in range(1, 26):\n",
    "        if num % 2 == 1:\n",
    "            odd_num.append(num)\n",
    "    return odd_num"
   ]
  },
  {
   "cell_type": "code",
   "execution_count": 33,
   "id": "2cec400d-865c-4bc5-8d97-70be277b933c",
   "metadata": {},
   "outputs": [
    {
     "data": {
      "text/plain": [
       "[1, 3, 5, 7, 9, 11, 13, 15, 17, 19, 21, 23, 25]"
      ]
     },
     "execution_count": 33,
     "metadata": {},
     "output_type": "execute_result"
    }
   ],
   "source": [
    "get_odd_numbers()"
   ]
  },
  {
   "cell_type": "code",
   "execution_count": 34,
   "id": "8a7c3e85-b84f-42fe-b84d-024a3d3a16ee",
   "metadata": {},
   "outputs": [],
   "source": [
    "#*args and **kwargs are used in Python functions when you don't know how many arguments the function will receive at runtime\n",
    "\n",
    "#*args is used to pass a variable number of non-keyworded arguments to a function. \n",
    "#It allows you to pass an arbitrary number of arguments to the function as a tuple.\n",
    "\n",
    "def sum_numbers(*args):\n",
    "    total = 0\n",
    "    for num in args:\n",
    "        total += num\n",
    "    return total"
   ]
  },
  {
   "cell_type": "code",
   "execution_count": 35,
   "id": "b0aa994f-ba1f-475a-9ee0-ea5015aa51df",
   "metadata": {},
   "outputs": [
    {
     "data": {
      "text/plain": [
       "45"
      ]
     },
     "execution_count": 35,
     "metadata": {},
     "output_type": "execute_result"
    }
   ],
   "source": [
    "sum_numbers(1,2,3,4,5,6,7,8,9)"
   ]
  },
  {
   "cell_type": "code",
   "execution_count": 36,
   "id": "d87b7010-acd3-4ee0-b27e-720246c33f72",
   "metadata": {},
   "outputs": [],
   "source": [
    "#**kwargs is used to pass a variable number of keyworded arguments to a function. \n",
    "#It allows you to pass an arbitrary number of keyword arguments to the function as a dictionary.\n",
    "\n",
    "def print_list(**kwargs):\n",
    "    for item in kwargs.values():\n",
    "        print(item)"
   ]
  },
  {
   "cell_type": "code",
   "execution_count": 37,
   "id": "50583cdd-b2be-464a-9e0d-7e132d5b0ec1",
   "metadata": {},
   "outputs": [
    {
     "name": "stdout",
     "output_type": "stream",
     "text": [
      "sameer\n",
      "harshit\n",
      "manish\n"
     ]
    }
   ],
   "source": [
    "print_list(name1='sameer', name2='harshit', name3='manish')"
   ]
  },
  {
   "cell_type": "code",
   "execution_count": 38,
   "id": "03adfaa6-8502-4b82-9cf6-2b0c0f8d696b",
   "metadata": {},
   "outputs": [
    {
     "name": "stdout",
     "output_type": "stream",
     "text": [
      "2\n",
      "4\n",
      "6\n",
      "8\n",
      "10\n"
     ]
    }
   ],
   "source": [
    "#An iterator is an object in Python that implements the iterator protocol, which consists of two methods: __iter__() and __next__().\n",
    "#An iterator is used to iterate over a sequence of elements, such as a list, tuple, or dictionary.\n",
    "#the __iter__() method is used to initialise the iterator object, and the __next__() method is used for iteration.\n",
    "\n",
    "l= [2, 4, 6, 8, 10, 12, 14, 16, 18, 20]\n",
    "\n",
    "my_iterator = iter(l)\n",
    "\n",
    "for i in range(5):\n",
    "    print(next(my_iterator))"
   ]
  },
  {
   "cell_type": "code",
   "execution_count": 46,
   "id": "c95729f5-3b70-43b6-b401-7c042b64ed2e",
   "metadata": {},
   "outputs": [],
   "source": [
    "#In Python, a generator function is a special type of function that generates an iterator on-the-fly. \n",
    "#It allows you to generate a sequence of values without creating an entire list in memory at once. \n",
    "#Instead of returning a value, a generator function uses the 'yield'\n",
    "\n",
    "\n",
    "def squares(n):\n",
    "    for i in range(n):\n",
    "        yield i**2"
   ]
  },
  {
   "cell_type": "code",
   "execution_count": 49,
   "id": "0f5a084d-d5ac-4aa4-8f36-b28688ec3570",
   "metadata": {},
   "outputs": [
    {
     "name": "stdout",
     "output_type": "stream",
     "text": [
      "0\n",
      "1\n",
      "4\n",
      "9\n",
      "16\n",
      "25\n",
      "36\n",
      "49\n",
      "64\n",
      "81\n"
     ]
    }
   ],
   "source": [
    "for i in squares(10):\n",
    "    print(i)"
   ]
  },
  {
   "cell_type": "code",
   "execution_count": 50,
   "id": "6dfbed89-1f4f-4188-9ce2-92a30d0cdc62",
   "metadata": {},
   "outputs": [],
   "source": [
    "def primes():\n",
    "    num = 2\n",
    "    while num < 1000:\n",
    "        is_prime = True\n",
    "        for i in range(2, int(num**0.5) + 1):\n",
    "            if num % i == 0:\n",
    "                is_prime = False\n",
    "                break\n",
    "        if is_prime:\n",
    "            yield num\n",
    "        num += 1"
   ]
  },
  {
   "cell_type": "code",
   "execution_count": 53,
   "id": "18ea92a7-d03e-4b87-9479-1b03cc418007",
   "metadata": {},
   "outputs": [
    {
     "name": "stdout",
     "output_type": "stream",
     "text": [
      "2\n",
      "3\n",
      "5\n",
      "7\n",
      "11\n",
      "13\n",
      "17\n",
      "19\n",
      "23\n",
      "29\n",
      "31\n",
      "37\n",
      "41\n",
      "43\n",
      "47\n",
      "53\n",
      "59\n",
      "61\n",
      "67\n",
      "71\n"
     ]
    }
   ],
   "source": [
    "prime_generator = primes()\n",
    "\n",
    "for i in range(20):\n",
    "    print(next(prime_generator))"
   ]
  },
  {
   "cell_type": "code",
   "execution_count": 54,
   "id": "0118cd80-da92-42c4-b72c-c8b0b832f59b",
   "metadata": {},
   "outputs": [
    {
     "name": "stdout",
     "output_type": "stream",
     "text": [
      "0 1 1 2 3 5 8 13 21 34 "
     ]
    }
   ],
   "source": [
    "a, b = 0, 1\n",
    "count = 0\n",
    "\n",
    "while count < 10:\n",
    "    print(a, end=\" \")\n",
    "    a, b = b, a + b\n",
    "    count += 1"
   ]
  },
  {
   "cell_type": "code",
   "execution_count": 55,
   "id": "14be1c4b-18c5-4bc3-9e8f-b411dea697c5",
   "metadata": {},
   "outputs": [
    {
     "name": "stdout",
     "output_type": "stream",
     "text": [
      "['p', 'w', 's', 'k', 'i', 'l', 'l', 's']\n"
     ]
    }
   ],
   "source": [
    "string = \"pwskills\"\n",
    "characters = [char for char in string]\n",
    "print(characters)"
   ]
  },
  {
   "cell_type": "code",
   "execution_count": 58,
   "id": "d752af87-e698-4cbc-8b79-0b6f933118eb",
   "metadata": {},
   "outputs": [
    {
     "name": "stdin",
     "output_type": "stream",
     "text": [
      "Enter a number:  123\n"
     ]
    },
    {
     "name": "stdout",
     "output_type": "stream",
     "text": [
      "123 is not a palindrome number\n"
     ]
    }
   ],
   "source": [
    "num = int(input(\"Enter a number: \"))\n",
    "temp = num\n",
    "reverse_num = 0\n",
    "\n",
    "while temp > 0:\n",
    "    remainder = temp % 10\n",
    "    reverse_num = reverse_num * 10 + remainder\n",
    "    temp = temp // 10\n",
    "\n",
    "if num == reverse_num:\n",
    "    print(num, \"is a palindrome number\")\n",
    "else:\n",
    "    print(num, \"is not a palindrome number\")"
   ]
  },
  {
   "cell_type": "code",
   "execution_count": 60,
   "id": "d38ab949-34ce-42d1-be43-4c50c348cf07",
   "metadata": {},
   "outputs": [
    {
     "name": "stdout",
     "output_type": "stream",
     "text": [
      "[1, 3, 5, 7, 9, 11, 13, 15, 17, 19, 21, 23, 25, 27, 29, 31, 33, 35, 37, 39, 41, 43, 45, 47, 49, 51, 53, 55, 57, 59, 61, 63, 65, 67, 69, 71, 73, 75, 77, 79, 81, 83, 85, 87, 89, 91, 93, 95, 97, 99]\n"
     ]
    }
   ],
   "source": [
    "numbers = [num for num in range(1, 101)]\n",
    "odd_numbers = [num for num in numbers if num % 2 != 0]\n",
    "print(odd_numbers)"
   ]
  },
  {
   "cell_type": "code",
   "execution_count": null,
   "id": "f1313c41-339d-4ff0-b410-06bd910c7f6e",
   "metadata": {},
   "outputs": [],
   "source": []
  }
 ],
 "metadata": {
  "kernelspec": {
   "display_name": "Python 3 (ipykernel)",
   "language": "python",
   "name": "python3"
  },
  "language_info": {
   "codemirror_mode": {
    "name": "ipython",
    "version": 3
   },
   "file_extension": ".py",
   "mimetype": "text/x-python",
   "name": "python",
   "nbconvert_exporter": "python",
   "pygments_lexer": "ipython3",
   "version": "3.10.8"
  }
 },
 "nbformat": 4,
 "nbformat_minor": 5
}
