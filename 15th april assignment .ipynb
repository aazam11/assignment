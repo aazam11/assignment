{
 "cells": [
  {
   "cell_type": "code",
   "execution_count": 7,
   "id": "482f429d-0c02-4c59-92c3-50b6195f77eb",
   "metadata": {},
   "outputs": [
    {
     "name": "stdout",
     "output_type": "stream",
     "text": [
      "Accuracy: 0.9722222222222222\n"
     ]
    }
   ],
   "source": [
    "# Import necessary libraries\n",
    "import numpy as np\n",
    "import pandas as pd\n",
    "from sklearn.compose import ColumnTransformer\n",
    "from sklearn.ensemble import RandomForestClassifier\n",
    "from sklearn.impute import SimpleImputer\n",
    "from sklearn.ensemble import RandomForestClassifier\n",
    "from sklearn.model_selection import train_test_split\n",
    "from sklearn.pipeline import Pipeline\n",
    "from sklearn.preprocessing import StandardScaler, OneHotEncoder\n",
    "from sklearn.feature_selection import SelectFromModel\n",
    "from sklearn.metrics import accuracy_score\n",
    "\n",
    "# Load dataset from sklearn (replace 'your_dataset' with the actual dataset)\n",
    "from sklearn.datasets import load_wine\n",
    "data = load_wine(as_frame=True)\n",
    "X, y = data.data, data.target\n",
    "\n",
    "# Split the data into training and testing sets\n",
    "X_train, X_test, y_train, y_test = train_test_split(X, y, test_size=0.2, random_state=42)\n",
    "\n",
    "# Identify important features using SelectFromModel with RandomForestClassifier\n",
    "feature_selector = SelectFromModel(RandomForestClassifier(n_estimators=100, random_state=42))\n",
    "X_train_selected = feature_selector.fit_transform(X_train, y_train)\n",
    "selected_features = X_train.columns[feature_selector.get_support()]\n",
    "\n",
    "# Create numerical pipeline\n",
    "numerical_pipeline = Pipeline([\n",
    "    ('imputer', SimpleImputer(strategy='mean')),\n",
    "    ('scaler', StandardScaler())\n",
    "])\n",
    "\n",
    "# Create categorical pipeline\n",
    "\n",
    "categorical_pipeline = Pipeline([\n",
    "    ('imputer', SimpleImputer(strategy='most_frequent')),\n",
    "    ('encoder', OneHotEncoder(handle_unknown='ignore'))  \n",
    "])\n",
    "\n",
    "\n",
    "\n",
    "# Combine numerical and categorical pipelines using ColumnTransformer\n",
    "preprocessor = ColumnTransformer(\n",
    "    transformers=[\n",
    "        ('num', numerical_pipeline, selected_features),\n",
    "        ('cat', categorical_pipeline, selected_features)\n",
    "    ])\n",
    "\n",
    "# Combine the preprocessing pipeline with RandomForestClassifier\n",
    "final_pipeline = Pipeline([\n",
    "    ('preprocessor', preprocessor),\n",
    "    ('classifier', RandomForestClassifier(n_estimators=100, random_state=42))\n",
    "])\n",
    "\n",
    "# Fit the pipeline on the training data\n",
    "final_pipeline.fit(X_train, y_train)\n",
    "\n",
    "# Evaluate the accuracy on the test dataset\n",
    "y_pred = final_pipeline.predict(X_test)\n",
    "accuracy = accuracy_score(y_test, y_pred)\n",
    "print(f\"Accuracy: {accuracy}\")"
   ]
  },
  {
   "cell_type": "code",
   "execution_count": null,
   "id": "e3318758-2125-4028-a846-6c360ef5241b",
   "metadata": {},
   "outputs": [],
   "source": []
  },
  {
   "cell_type": "code",
   "execution_count": 10,
   "id": "9c6a1582-536b-4894-8166-23bee5d936e7",
   "metadata": {},
   "outputs": [
    {
     "name": "stdout",
     "output_type": "stream",
     "text": [
      "Accuracy with Voting Classifier: 1.0\n"
     ]
    }
   ],
   "source": [
    "from sklearn.ensemble import RandomForestClassifier, VotingClassifier\n",
    "from sklearn.linear_model import LogisticRegression\n",
    "import warnings\n",
    "warnings.filterwarnings('ignore')\n",
    "# Load dataset from sklearn (replace 'your_dataset' with the actual dataset)\n",
    "from sklearn.datasets import load_wine\n",
    "data = load_wine(as_frame=True)\n",
    "X, y = data.data, data.target\n",
    "\n",
    "# Split the data into training and testing sets\n",
    "X_train, X_test, y_train, y_test = train_test_split(X, y, test_size=0.2, random_state=42)\n",
    "\n",
    "# Create individual classifiers\n",
    "rf_classifier = RandomForestClassifier(n_estimators=100, random_state=42)\n",
    "lr_classifier = LogisticRegression(random_state=42)\n",
    "\n",
    "# Create a voting classifier with Random Forest and Logistic Regression\n",
    "voting_classifier = VotingClassifier(\n",
    "    estimators=[('rf', rf_classifier), ('lr', lr_classifier)],\n",
    "    voting='hard'  # 'hard' for majority voting, 'soft' for weighted voting\n",
    ")\n",
    "\n",
    "# Fit the pipeline on the training data\n",
    "voting_classifier.fit(X_train, y_train)\n",
    "\n",
    "# Evaluate the accuracy on the test dataset\n",
    "y_pred_voting = voting_classifier.predict(X_test)\n",
    "accuracy_voting = accuracy_score(y_test, y_pred_voting)\n",
    "print(f\"Accuracy with Voting Classifier: {accuracy_voting}\")"
   ]
  },
  {
   "cell_type": "code",
   "execution_count": null,
   "id": "df2a1600-ff69-4294-b273-eb77f2c46d3e",
   "metadata": {},
   "outputs": [],
   "source": []
  }
 ],
 "metadata": {
  "kernelspec": {
   "display_name": "Python 3 (ipykernel)",
   "language": "python",
   "name": "python3"
  },
  "language_info": {
   "codemirror_mode": {
    "name": "ipython",
    "version": 3
   },
   "file_extension": ".py",
   "mimetype": "text/x-python",
   "name": "python",
   "nbconvert_exporter": "python",
   "pygments_lexer": "ipython3",
   "version": "3.10.8"
  }
 },
 "nbformat": 4,
 "nbformat_minor": 5
}
