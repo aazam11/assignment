{
 "cells": [
  {
   "cell_type": "raw",
   "id": "85fc63da-d088-4986-aa58-78f232442f92",
   "metadata": {},
   "source": [
    "#A database is a structured collection of data that is organized and stored in a way that allows for efficient retrieval, management, and manipulation of the data. Databases are used to store and manage vast amounts of information, ranging from simple lists to complex data structures.\n",
    "\n",
    "#SQL (Structured Query Language) and NoSQL (Not Only SQL) are two different types of database management systems (DBMS) that handle data storage and retrieval in different ways:\n",
    "\n",
    "\n",
    "#SQL Databases:\n",
    "#SQL databases are based on the relational model and use structured query language (SQL) for defining and manipulating the data. They are characterized by the following:\n",
    "\n",
    "#Structure: SQL databases have a predefined schema that defines the structure of the data and the relationships between different tables.\n",
    "#Tabular format: Data is organized into tables with rows and columns, and each table represents a specific entity or relationship.\n",
    "#ACID properties: SQL databases generally provide ACID (Atomicity, Consistency, Isolation, Durability) properties, ensuring reliable transactions and data integrity.\n",
    "#Predetermined schema: SQL databases require a predefined schema, which means the schema must be designed and defined before data can be stored.\n",
    "#Examples: MySQL, PostgreSQL, Oracle, Microsoft SQL Server.\n",
    "\n",
    "#NoSQL Databases:\n",
    "#NoSQL databases are designed to handle unstructured, semi-structured, or evolving data, and they offer flexibility and scalability. They have the following characteristics:\n",
    "\n",
    "#Dynamic schema: NoSQL databases do not require a predefined schema. They allow for flexible data models, allowing changes to the schema without affecting the existing data.\n",
    "#Non-relational: Unlike SQL databases, NoSQL databases do not rely on a tabular structure. They can use various data models such as key-value, document, columnar, or graph.\n",
    "#Scalability: NoSQL databases are designed to scale horizontally, meaning they can handle large amounts of data and high traffic loads by distributing the data across multiple servers.\n",
    "#Eventual consistency: NoSQL databases often prioritize availability and partition tolerance over strict consistency, meaning there might be a delay for data to become consistent across all nodes.\n",
    "#Examples: MongoDB, Cassandra, Redis, Couchbase"
   ]
  },
  {
   "cell_type": "code",
   "execution_count": null,
   "id": "429c930e-99e6-49ac-b42c-d91a7c74c7bf",
   "metadata": {},
   "outputs": [],
   "source": []
  },
  {
   "cell_type": "raw",
   "id": "3144bc27-7e3d-46e1-b75e-d2eed283ab43",
   "metadata": {},
   "source": [
    "#DDL stands for Data Definition Language, which is a subset of SQL (Structured Query Language) used to define and manage the structure of a database. DDL statements are used to create, modify, and delete database objects such as tables, views, indexes, and constraints.\n",
    "\n",
    "\n",
    "\n",
    "#CREATE:\n",
    "#The CREATE statement is used to create a new database object, such as a table or a view. It specifies the structure and properties of the object. For example:\n",
    "CREATE TABLE Employees (\n",
    "  ID INT PRIMARY KEY,\n",
    "  Name VARCHAR(50),\n",
    "  Age INT,\n",
    "  Department VARCHAR(50)\n",
    ");\n",
    "\n",
    "\n",
    "#DROP:\n",
    "#The DROP statement is used to remove an existing database object, such as a table or a view, from the database. It permanently deletes the object and its associated data. For example:\n",
    "DROP TABLE Employees;\n",
    "\n",
    "#ALTER:\n",
    "#The ALTER statement is used to modify the structure of an existing database object. It allows you to add, modify, or delete columns, constraints, or other properties of the object. For example:\n",
    "ALTER TABLE Employees\n",
    "ADD COLUMN Salary DECIMAL(10, 2);\n",
    "\n",
    "\n",
    "#TRUNCATE:\n",
    "#The TRUNCATE statement is used to remove all the data from an existing table. It is similar to the DELETE statement but faster because it does not generate individual rollback logs for each row. For example:\n",
    "TRUNCATE TABLE Employees;\n"
   ]
  },
  {
   "cell_type": "code",
   "execution_count": null,
   "id": "d1c20f1c-4395-4c80-9c5c-e7e2401506e5",
   "metadata": {},
   "outputs": [],
   "source": []
  },
  {
   "cell_type": "raw",
   "id": "171501ac-3795-41e3-b550-5f014a942b1c",
   "metadata": {},
   "source": [
    "#DML stands for Data Manipulation Language, which is a subset of SQL (Structured Query Language) used to manipulate data within a database. DML statements are used to insert, update, and delete data in database tables.\n",
    "\n",
    "#INSERT:\n",
    "#The INSERT statement is used to add new rows of data into a table. It specifies the table name and the values to be inserted into each column. For example:\n",
    "INSERT INTO Employees (ID, Name, Age, Department)\n",
    "VALUES (1, 'John Doe', 30, 'Sales');\n",
    "\n",
    "\n",
    "#UPDATE:\n",
    "The UPDATE statement is used to modify existing data in a table. It specifies the table name, the columns to be updated, and the new values. You can also include a WHERE clause to specify which rows to update. For example:\n",
    "UPDATE Employees\n",
    "SET Department = 'Marketing'\n",
    "WHERE ID = 1;\n",
    "\n",
    "\n",
    "#DELETE:\n",
    "The DELETE statement is used to remove one or more rows of data from a table. It specifies the table name and can also include a WHERE clause to specify the rows to be deleted. For example:\n",
    "DELETE FROM Employees\n",
    "WHERE Age > 40;\n",
    "\n",
    "\n"
   ]
  },
  {
   "cell_type": "code",
   "execution_count": null,
   "id": "3d5f4cae-4838-4f8c-82a7-36e4acd12e1b",
   "metadata": {},
   "outputs": [],
   "source": []
  },
  {
   "cell_type": "raw",
   "id": "52d9e206-60cb-40a2-ac82-90e58c922a9d",
   "metadata": {},
   "source": [
    "DQL stands for Data Query Language, which is a subset of SQL (Structured Query Language) used to retrieve data from a database. DQL statements are primarily focused on querying and fetching data without modifying the database structure or content.\n",
    "\n",
    "The most commonly used DQL statement is SELECT, which allows you to retrieve data from one or more tables based on specified criteria. Here's an explanation of the SELECT statement with an example:\n",
    "\n",
    "SELECT Name, Age, Department\n",
    "FROM Employees\n",
    "WHERE Department = 'Sales';\n"
   ]
  },
  {
   "cell_type": "code",
   "execution_count": null,
   "id": "ceee46d2-cfdc-45a8-b4a4-a1f590995883",
   "metadata": {},
   "outputs": [],
   "source": []
  },
  {
   "cell_type": "raw",
   "id": "2f070be9-de2a-4e47-ae0b-8c628d53a33c",
   "metadata": {},
   "source": [
    "Primary Key: In a relational database, a primary key is a column or a combination of columns that uniquely identifies each row in a table. It ensures the uniqueness and integrity of the data. Primary keys must have the following properties:\n",
    "\n",
    "Uniqueness: Each value in the primary key column(s) must be unique.\n",
    "Non-null: Primary key values cannot be null or empty.\n",
    "Immutable: Primary key values should not be changed once they are assigned.\n",
    "For example, in a table of \"Students,\" the \"student_id\" column can be designated as the primary key, ensuring that each student has a unique identifier."
   ]
  },
  {
   "cell_type": "raw",
   "id": "d4f3804b-2346-4e7a-8033-059f577af1f0",
   "metadata": {},
   "source": [
    "Foreign Key: A foreign key is a column or a combination of columns in a table that refers to the primary key of another table. It establishes a relationship between two tables, called a parent-child relationship. Foreign keys enforce referential integrity and maintain consistency between related tables. Foreign keys have the following characteristics:\n",
    "\n",
    "Referencing: A foreign key column in one table references the primary key column(s) in another table.\n",
    "Relationship: The foreign key represents a relationship between the two tables.\n",
    "Cascading Actions: Foreign keys can specify actions like CASCADE, SET NULL, or SET DEFAULT to define the behavior when the referenced row is updated or deleted.\n",
    "For example, in a \"Orders\" table, there could be a foreign key \"customer_id\" that references the primary key \"customer_id\" in the \"Customers\" table, establishing a relationship between orders and customers."
   ]
  },
  {
   "cell_type": "code",
   "execution_count": null,
   "id": "216c408d-d968-4330-bc56-5d6089f0f752",
   "metadata": {},
   "outputs": [],
   "source": []
  },
  {
   "cell_type": "raw",
   "id": "4ec0ca21-3a43-4752-b84d-1d7c4d9dec04",
   "metadata": {},
   "source": [
    "import mysql.connector\n",
    "mydb = mysql.connector.connect(\n",
    "  host=\"localhost\",\n",
    "  user=\"abc\",\n",
    "  password=\"password\"\n",
    ")"
   ]
  },
  {
   "cell_type": "code",
   "execution_count": null,
   "id": "a812577f-7bcb-4df8-beb3-9e3224b9d9a5",
   "metadata": {},
   "outputs": [],
   "source": []
  },
  {
   "cell_type": "code",
   "execution_count": null,
   "id": "100cceb9-5aa0-42ca-b1b5-0e60774bd89d",
   "metadata": {},
   "outputs": [],
   "source": []
  }
 ],
 "metadata": {
  "kernelspec": {
   "display_name": "R",
   "language": "R",
   "name": "ir"
  },
  "language_info": {
   "codemirror_mode": "r",
   "file_extension": ".r",
   "mimetype": "text/x-r-source",
   "name": "R",
   "pygments_lexer": "r",
   "version": "4.2.2"
  }
 },
 "nbformat": 4,
 "nbformat_minor": 5
}
