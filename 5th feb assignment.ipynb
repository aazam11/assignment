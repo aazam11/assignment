{
 "cells": [
  {
   "cell_type": "code",
   "execution_count": 1,
   "id": "e23679d0-b4f5-4c40-b797-6a2d5a916a4c",
   "metadata": {},
   "outputs": [],
   "source": [
    "#In object-oriented programming (OOP), a class is a blueprint or template that defines the characteristics and behaviors of an object. \n",
    "#It serves as a blueprint for creating specific instances of objects, which are called objects or instances of the class.\n",
    "\n",
    "#An object, on the other hand, is an instance of a class.\n",
    "#It represents a specific entity or thing that is created based on the class's blueprint. "
   ]
  },
  {
   "cell_type": "code",
   "execution_count": 7,
   "id": "582666f3-65f3-40f2-999f-21bfe9dee3fb",
   "metadata": {},
   "outputs": [],
   "source": [
    "class Car:\n",
    "    def __init__(self, make, model, year):\n",
    "        self.make = make\n",
    "        self.model = model\n",
    "        self.year = year\n",
    "    def car_details(self) : \n",
    "        return self.make ,self.model ,self.year"
   ]
  },
  {
   "cell_type": "code",
   "execution_count": 8,
   "id": "622c24bc-dcff-41f0-9a1a-d1a64f04eb82",
   "metadata": {},
   "outputs": [],
   "source": [
    "my_car = Car(\"creta\", \"lxi\", 2022)"
   ]
  },
  {
   "cell_type": "code",
   "execution_count": 9,
   "id": "65797214-60ef-41c9-827f-705c3d1e107f",
   "metadata": {},
   "outputs": [
    {
     "data": {
      "text/plain": [
       "'lxi'"
      ]
     },
     "execution_count": 9,
     "metadata": {},
     "output_type": "execute_result"
    }
   ],
   "source": [
    "my_car.model"
   ]
  },
  {
   "cell_type": "code",
   "execution_count": 10,
   "id": "99cb0d1c-12ee-4d58-b1cd-bba75001f9e8",
   "metadata": {},
   "outputs": [
    {
     "data": {
      "text/plain": [
       "('creta', 'lxi', 2022)"
      ]
     },
     "execution_count": 10,
     "metadata": {},
     "output_type": "execute_result"
    }
   ],
   "source": [
    "my_car.car_details()"
   ]
  },
  {
   "cell_type": "code",
   "execution_count": 11,
   "id": "1acd661a-0018-4e04-aec8-99d2489bf69c",
   "metadata": {},
   "outputs": [
    {
     "data": {
      "text/plain": [
       "2022"
      ]
     },
     "execution_count": 11,
     "metadata": {},
     "output_type": "execute_result"
    }
   ],
   "source": [
    "my_car.year"
   ]
  },
  {
   "cell_type": "code",
   "execution_count": 12,
   "id": "c05dbc7c-4b8b-49e0-b5b6-242ebb2a2772",
   "metadata": {},
   "outputs": [],
   "source": []
  },
  {
   "cell_type": "code",
   "execution_count": 13,
   "id": "a3c6497b-4972-4a67-adf9-3c91aaca16aa",
   "metadata": {},
   "outputs": [],
   "source": [
    "#there are four major pillars in oops.Inheritance, Polymorphism, Encapsulation and Abstraction"
   ]
  },
  {
   "cell_type": "code",
   "execution_count": null,
   "id": "10c0e969-3245-4e59-acd0-f8a7868e06ad",
   "metadata": {},
   "outputs": [],
   "source": []
  },
  {
   "cell_type": "code",
   "execution_count": 14,
   "id": "67070fe7-7fe7-4257-8b29-d1326eedede5",
   "metadata": {},
   "outputs": [],
   "source": [
    "#The __init__() function is a special method in Python classes that is automatically called when an object of the class is created. \n",
    "#It is used to initialize the attributes of the object and perform any necessary setup or configuration. \n",
    "#The __init__() method allows you to specify how an object should be initialized with default or user-provided values.\n"
   ]
  },
  {
   "cell_type": "code",
   "execution_count": 65,
   "id": "30bde98b-3b55-4c59-b0a9-caeb3d031e84",
   "metadata": {},
   "outputs": [],
   "source": [
    "class person:\n",
    "    def __init__(self, name, age):\n",
    "        self.name = name\n",
    "        self.age = age\n",
    "    def greet(self):\n",
    "        print(f\"Hello, my name is {self.name} and I'm {self.age} years old.\")\n"
   ]
  },
  {
   "cell_type": "code",
   "execution_count": 66,
   "id": "a76b532b-b8da-4703-b53f-0ffa77410036",
   "metadata": {},
   "outputs": [],
   "source": [
    "person_one = person(\"aazam\",23)"
   ]
  },
  {
   "cell_type": "code",
   "execution_count": 67,
   "id": "acc66ec7-ac06-4ce8-8f9b-f929cce896b0",
   "metadata": {},
   "outputs": [
    {
     "name": "stdout",
     "output_type": "stream",
     "text": [
      "Hello, my name is aazam and I'm 23 years old.\n"
     ]
    }
   ],
   "source": [
    "person_one.greet()"
   ]
  },
  {
   "cell_type": "code",
   "execution_count": null,
   "id": "4e50d338-ebbc-458e-8ef7-406927e7788e",
   "metadata": {},
   "outputs": [],
   "source": []
  },
  {
   "cell_type": "code",
   "execution_count": 68,
   "id": "78e2a433-39d1-4ca7-b982-a85e3415d5c7",
   "metadata": {},
   "outputs": [],
   "source": [
    "#in object-oriented programming (OOP), the self keyword is used as a convention to refer to the instance of a class within its methods. \n",
    "#It represents the current object or instance on which a particular method is being invoked. \n",
    "#The purpose of using self is to access the attributes and methods of the object from within its own class.\n",
    "#although 'self' is not a fixed keyword in python we can used any keyword(eg.A,B,sudh etc)"
   ]
  },
  {
   "cell_type": "code",
   "execution_count": null,
   "id": "0ea245c3-c4e9-467e-9e7c-1e41481a8348",
   "metadata": {},
   "outputs": [],
   "source": []
  },
  {
   "cell_type": "code",
   "execution_count": 69,
   "id": "3a6bdbe2-fe53-4d59-8015-38f0f98708b8",
   "metadata": {},
   "outputs": [],
   "source": [
    "#inheritance is a fundamental concept in object-oriented programming (OOP)\n",
    "#that allows the creation of new classes (derived or child classes) based on existing classes (base or parent classes)."
   ]
  },
  {
   "cell_type": "code",
   "execution_count": 70,
   "id": "3be4406d-0acb-4754-a357-e0611f10e636",
   "metadata": {},
   "outputs": [],
   "source": [
    "#Single Inheritance: Single inheritance involves a derived class inheriting from a single base class. \n",
    "#It represents a one-to-one relationship between classes.\n",
    "\n",
    "class Animal:\n",
    "    def eat(self):\n",
    "        print(\"Animal is eating.\")\n",
    "\n",
    "\n",
    "class Dog(Animal):\n",
    "    def bark(self):\n",
    "        print(\"Dog is barking.\")"
   ]
  },
  {
   "cell_type": "code",
   "execution_count": 72,
   "id": "6348df85-f507-4dfa-a660-183b10969b36",
   "metadata": {},
   "outputs": [],
   "source": [
    "dog = Dog()"
   ]
  },
  {
   "cell_type": "code",
   "execution_count": 73,
   "id": "875fad61-1f03-4e5a-af3c-c354b7bbae77",
   "metadata": {},
   "outputs": [
    {
     "name": "stdout",
     "output_type": "stream",
     "text": [
      "Animal is eating.\n"
     ]
    }
   ],
   "source": [
    "dog.eat()"
   ]
  },
  {
   "cell_type": "code",
   "execution_count": 74,
   "id": "666489ae-b72f-40d1-bc9b-9c5c78c27d79",
   "metadata": {},
   "outputs": [
    {
     "name": "stdout",
     "output_type": "stream",
     "text": [
      "Dog is barking.\n"
     ]
    }
   ],
   "source": [
    "dog.bark()"
   ]
  },
  {
   "cell_type": "code",
   "execution_count": null,
   "id": "d4f03d33-af96-4e6b-abcb-9c3639e21b5d",
   "metadata": {},
   "outputs": [],
   "source": []
  },
  {
   "cell_type": "code",
   "execution_count": 75,
   "id": "e414320d-fc17-4d7c-ac9a-a478713bcaaa",
   "metadata": {},
   "outputs": [],
   "source": [
    "#Multiple Inheritance: Multiple inheritance involves a derived class inheriting from multiple base classes. \n",
    "#It allows a class to inherit attributes and behaviors from multiple parent classes\n",
    "\n",
    "class Bird:\n",
    "    def fly(self):\n",
    "        print(\"Bird is flying.\")\n",
    "\n",
    "\n",
    "class Mammal:\n",
    "    def run(self):\n",
    "        print(\"Mammal is running.\")\n",
    "\n",
    "\n",
    "class Bat(Bird, Mammal):\n",
    "    pass"
   ]
  },
  {
   "cell_type": "code",
   "execution_count": 76,
   "id": "faa1b47c-8793-4cb2-b026-331a560d3cae",
   "metadata": {},
   "outputs": [],
   "source": [
    "bat = Bat()"
   ]
  },
  {
   "cell_type": "code",
   "execution_count": 77,
   "id": "d72357e3-ac64-4b05-829b-053454c486bd",
   "metadata": {},
   "outputs": [
    {
     "name": "stdout",
     "output_type": "stream",
     "text": [
      "Bird is flying.\n"
     ]
    }
   ],
   "source": [
    "bat.fly()"
   ]
  },
  {
   "cell_type": "code",
   "execution_count": 78,
   "id": "40985d79-02b2-4d49-b912-85ee1e0c1d65",
   "metadata": {},
   "outputs": [
    {
     "name": "stdout",
     "output_type": "stream",
     "text": [
      "Mammal is running.\n"
     ]
    }
   ],
   "source": [
    "bat.run()"
   ]
  },
  {
   "cell_type": "code",
   "execution_count": null,
   "id": "36b82523-22e8-44e5-ba67-af9ef6d078b2",
   "metadata": {},
   "outputs": [],
   "source": []
  },
  {
   "cell_type": "code",
   "execution_count": 80,
   "id": "4d2403f2-3f69-4196-a876-360b85b92e05",
   "metadata": {},
   "outputs": [],
   "source": [
    "#Multilevel Inheritance: Multilevel inheritance involves a derived class inheriting from another derived class, creating a chain of inheritance. \n",
    "#Each derived class becomes the base class for the subsequent derived class.\n",
    "\n",
    "class Vehicle:\n",
    "    def start(self):\n",
    "        print(\"Vehicle is starting.\")\n",
    "\n",
    "\n",
    "class Car(Vehicle):\n",
    "    def drive(self):\n",
    "        print(\"Car is driving.\")\n",
    "\n",
    "\n",
    "class SportsCar(Car):\n",
    "    def race(self):\n",
    "        print(\"Sports car is racing.\")"
   ]
  },
  {
   "cell_type": "code",
   "execution_count": 81,
   "id": "eeee0b47-0960-4acb-bc56-b82de3213f63",
   "metadata": {},
   "outputs": [],
   "source": [
    "sports_car = SportsCar()"
   ]
  },
  {
   "cell_type": "code",
   "execution_count": 83,
   "id": "f44c3d24-3355-4e43-a856-d1c8ca108419",
   "metadata": {},
   "outputs": [
    {
     "name": "stdout",
     "output_type": "stream",
     "text": [
      "Vehicle is starting.\n",
      "Car is driving.\n",
      "Sports car is racing.\n"
     ]
    }
   ],
   "source": [
    "sports_car.start()  \n",
    "sports_car.drive() \n",
    "sports_car.race() "
   ]
  },
  {
   "cell_type": "code",
   "execution_count": null,
   "id": "369a33c5-4706-4a92-a983-835e99bb1d3a",
   "metadata": {},
   "outputs": [],
   "source": []
  },
  {
   "cell_type": "code",
   "execution_count": 88,
   "id": "51fd4bc1-e214-4c61-9d79-e05789d22147",
   "metadata": {},
   "outputs": [],
   "source": [
    "#Hierarchical Inheritance: Hierarchical inheritance involves multiple derived classes inheriting from the same base class. \n",
    "#It represents a one-to-many relationship between classes.\n",
    "\n",
    "class Shape:\n",
    "    def draw(self):\n",
    "        print(\"Drawing shape.\")\n",
    "\n",
    "\n",
    "class Circle(Shape):\n",
    "    def draw(self):\n",
    "        print(\"Drawing circle.\")\n",
    "\n",
    "\n",
    "class rectangle(Shape):\n",
    "    def draw(self):\n",
    "        print(\"Drawing rectangle.\")\n",
    "\n",
    "\n"
   ]
  },
  {
   "cell_type": "code",
   "execution_count": 89,
   "id": "b46e01b0-c876-49f0-82b5-fdd263ef354e",
   "metadata": {},
   "outputs": [
    {
     "name": "stdout",
     "output_type": "stream",
     "text": [
      "Drawing circle.\n"
     ]
    }
   ],
   "source": [
    "circle = Circle()\n",
    "circle.draw()"
   ]
  },
  {
   "cell_type": "code",
   "execution_count": 90,
   "id": "285a2a39-20ad-4d67-90ef-ed8dd3b60bba",
   "metadata": {},
   "outputs": [
    {
     "name": "stdout",
     "output_type": "stream",
     "text": [
      "Drawing rectangle.\n"
     ]
    }
   ],
   "source": [
    "rectangle= rectangle()\n",
    "rectangle.draw()"
   ]
  },
  {
   "cell_type": "code",
   "execution_count": null,
   "id": "1a863d7a-b3f4-438b-83f0-f0dd749bbbda",
   "metadata": {},
   "outputs": [],
   "source": []
  }
 ],
 "metadata": {
  "kernelspec": {
   "display_name": "Python 3 (ipykernel)",
   "language": "python",
   "name": "python3"
  },
  "language_info": {
   "codemirror_mode": {
    "name": "ipython",
    "version": 3
   },
   "file_extension": ".py",
   "mimetype": "text/x-python",
   "name": "python",
   "nbconvert_exporter": "python",
   "pygments_lexer": "ipython3",
   "version": "3.10.8"
  }
 },
 "nbformat": 4,
 "nbformat_minor": 5
}
