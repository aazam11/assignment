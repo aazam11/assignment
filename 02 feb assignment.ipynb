{
 "cells": [
  {
   "cell_type": "code",
   "execution_count": 1,
   "id": "6205a7e6-86b4-4b2a-ab4f-98d5bcb2ed84",
   "metadata": {},
   "outputs": [
    {
     "name": "stdout",
     "output_type": "stream",
     "text": [
      "1\n",
      "2\n",
      "3\n",
      "4\n",
      "5\n",
      "6\n",
      "7\n",
      "8\n",
      "9\n",
      "10\n"
     ]
    }
   ],
   "source": [
    "#A for loop is generally used when the number of iterations is known beforehand, \n",
    "#i.e., when you want to iterate a fixed number of times. \n",
    "#For example, if you want to print the numbers from 1 to 10, \n",
    "for i in range(1,11):\n",
    "    print(i)"
   ]
  },
  {
   "cell_type": "code",
   "execution_count": 2,
   "id": "9f8cfbf2-b661-479f-860b-a8a10de233cb",
   "metadata": {},
   "outputs": [
    {
     "name": "stdin",
     "output_type": "stream",
     "text": [
      "Enter a positive integer:  -1\n",
      "Enter a positive integer:  2\n"
     ]
    }
   ],
   "source": [
    "# a while loop is generally used when the number of iterations is not known beforehand, and the loop continues until a certain condition is met.\n",
    "#For example, if you want to prompt the user to enter a number until they enter a positive integer\n",
    "num = -1\n",
    "while num < 0:\n",
    "    num = int(input(\"Enter a positive integer: \"))"
   ]
  },
  {
   "cell_type": "code",
   "execution_count": 3,
   "id": "ad854df0-337c-4db7-89cc-f43e3f38e9be",
   "metadata": {},
   "outputs": [
    {
     "name": "stdout",
     "output_type": "stream",
     "text": [
      "Sum of the first 10 natural numbers: 55\n",
      "Product of the first 10 natural numbers: 3628800\n"
     ]
    }
   ],
   "source": [
    "#sum and product of the first 10 natural numbers using for loop\n",
    "sum = 0\n",
    "for i in range(1, 11):\n",
    "    sum += i\n",
    "print(\"Sum of the first 10 natural numbers:\", sum)\n",
    "#product\n",
    "product = 1\n",
    "for i in range(1, 11):\n",
    "    product *= i\n",
    "print(\"Product of the first 10 natural numbers:\", product)\n",
    "\n"
   ]
  },
  {
   "cell_type": "code",
   "execution_count": 7,
   "id": "6c68d271-caa1-4b8c-8fde-a834e1e4a20e",
   "metadata": {},
   "outputs": [
    {
     "name": "stdin",
     "output_type": "stream",
     "text": [
      "Enter the number of units consumed:  310\n"
     ]
    },
    {
     "name": "stdout",
     "output_type": "stream",
     "text": [
      "Electricity Bill\n",
      "Total units consumed: 310\n",
      "Total bill: Rs. 2250.0\n"
     ]
    }
   ],
   "source": [
    "#electricity bill\n",
    "units = int(input(\"Enter the number of units consumed: \"))\n",
    "\n",
    "if units <= 0:\n",
    "    print(\"Invalid input! Please enter a positive number for units consumed.\")\n",
    "else:\n",
    "    if units <= 100:\n",
    "        total_bill = units*4.5\n",
    "    elif units <= 200:\n",
    "        total_bill = (100*4.5) + ((units-100)*6)\n",
    "    elif units <= 300:\n",
    "        total_bill = (100*4.5) + (100*6) + ((units-200)*10)\n",
    "    else:\n",
    "        total_bill = (100*4.5) + (100*6) + (100*10) + ((units-300)*20)\n",
    "\n",
    "    print(\"Electricity Bill\")\n",
    "    print(\"Total units consumed:\", units)\n",
    "    print(\"Total bill: Rs.\", total_bill)"
   ]
  },
  {
   "cell_type": "code",
   "execution_count": 9,
   "id": "884cb575-f924-431c-9603-63e6c860717e",
   "metadata": {},
   "outputs": [
    {
     "name": "stdout",
     "output_type": "stream",
     "text": [
      "[2, 4, 5, 6, 8, 10, 12, 14, 15, 16, 18, 20, 22, 24, 25, 26, 28, 30, 32, 34, 35, 36, 38, 40, 42, 44, 45, 46, 48, 50, 52, 54, 55, 56, 58, 60, 62, 64, 65, 66, 68, 70, 72, 74, 75, 76, 78, 80, 82, 84, 85, 86, 88, 90, 92, 94, 95, 96, 98, 100]\n",
      "[2, 4, 5, 6, 8, 10, 12, 14, 15, 16, 18, 20, 22, 24, 25, 26, 28, 30, 32, 34, 35, 36, 38, 40, 42, 44, 45, 46, 48, 50, 52, 54, 55, 56, 58, 60, 62, 64, 65, 66, 68, 70, 72, 74, 75, 76, 78, 80, 82, 84, 85, 86, 88, 90, 92, 94, 95, 96, 98, 100]\n"
     ]
    }
   ],
   "source": [
    "# Using for loop\n",
    "numbers = list(range(1, 101))\n",
    "result = []\n",
    "\n",
    "for num in numbers:\n",
    "    cube = num ** 3\n",
    "    if cube % 4 == 0 or cube % 5 == 0:\n",
    "        result.append(num)\n",
    "\n",
    "print(result)\n",
    "\n",
    "# Using while loop\n",
    "numbers = list(range(1, 101))\n",
    "result = []\n",
    "i = 0\n",
    "\n",
    "while i < len(numbers):\n",
    "    cube = numbers[i] ** 3\n",
    "    if cube % 4 == 0 or cube % 5 == 0:\n",
    "        result.append(numbers[i])\n",
    "    i += 1\n",
    "\n",
    "print(result)"
   ]
  },
  {
   "cell_type": "code",
   "execution_count": 10,
   "id": "d5e5e74c-e711-42ec-9ac9-57c96e87daac",
   "metadata": {},
   "outputs": [
    {
     "name": "stdout",
     "output_type": "stream",
     "text": [
      "Number of vowels: 12\n"
     ]
    }
   ],
   "source": [
    "#vowels\n",
    "string = \"I want to become a data scientist\"\n",
    "vowels = \"aeiouAEIOU\"\n",
    "count = 0\n",
    "\n",
    "for char in string:\n",
    "    if char in vowels:\n",
    "        count += 1\n",
    "\n",
    "print(\"Number of vowels:\", count)"
   ]
  },
  {
   "cell_type": "code",
   "execution_count": null,
   "id": "a08976e4-1780-4ef8-9f92-e1b1eb45a178",
   "metadata": {},
   "outputs": [],
   "source": []
  }
 ],
 "metadata": {
  "kernelspec": {
   "display_name": "Python 3 (ipykernel)",
   "language": "python",
   "name": "python3"
  },
  "language_info": {
   "codemirror_mode": {
    "name": "ipython",
    "version": 3
   },
   "file_extension": ".py",
   "mimetype": "text/x-python",
   "name": "python",
   "nbconvert_exporter": "python",
   "pygments_lexer": "ipython3",
   "version": "3.10.8"
  }
 },
 "nbformat": 4,
 "nbformat_minor": 5
}
