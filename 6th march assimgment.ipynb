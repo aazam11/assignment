{
 "cells": [
  {
   "cell_type": "code",
   "execution_count": 1,
   "id": "e2367d14-820a-47d1-9d77-6a43e262c706",
   "metadata": {},
   "outputs": [],
   "source": [
    "#Statistics is a field of study that involves collecting, organizing, analyzing, interpreting, and presenting data.\n",
    "#It provides methods and techniques to extract meaningful insights from data and make informed decisions.'\n",
    "#It encompasses both the process of collecting data and the analysis of that data to draw conclusions or make predictions."
   ]
  },
  {
   "cell_type": "code",
   "execution_count": null,
   "id": "1c16c887-0295-4c3c-ab55-3c44de71333e",
   "metadata": {},
   "outputs": [],
   "source": []
  },
  {
   "cell_type": "code",
   "execution_count": 2,
   "id": "d181b8ff-57ef-403d-82b5-016f9518df8b",
   "metadata": {},
   "outputs": [],
   "source": [
    "#Descriptive Statistics: These involve methods to summarize and describe the main features of a dataset.\n",
    "#Examples include measures of central tendency (mean, median, mode) and measures of variability (range, variance, standard deviation).\n",
    "\n",
    "#Inferential Statistics: These involve using data from a sample to make inferences or predictions about a larger population.\n",
    "#Examples include hypothesis testing and confidence intervals."
   ]
  },
  {
   "cell_type": "code",
   "execution_count": null,
   "id": "618e47d7-826a-4e48-bbb0-e035909436b2",
   "metadata": {},
   "outputs": [],
   "source": []
  },
  {
   "cell_type": "code",
   "execution_count": 3,
   "id": "9c20ac35-58c4-4364-8852-6d4b9120cb45",
   "metadata": {},
   "outputs": [],
   "source": [
    "#Data can be categorized into two main types: qualitative (categorical) data and quantitative data.\n",
    "\n",
    "#Qualitative Data: This type of data describes qualities or characteristics and can be further divided into nominal and ordinal data.\n",
    "\n",
    "#Nominal Data: Categories without any inherent order. Example: Colors (red, blue, green).\n",
    "#Ordinal Data: Categories with a meaningful order but no fixed measurement difference. Example: Educational levels (high school, bachelor's, master's).\n",
    "\n",
    "#Quantitative Data: This type of data represents quantities and can be divided into interval and ratio data.\n",
    "\n",
    "#Interval Data: Ordered data with consistent intervals between values, but without a true zero point. Example: Temperature in Celsius.\n",
    "#Ratio Data: Similar to interval data, but with a true zero point, allowing ratios to be meaningful. Example: Height in centimeters."
   ]
  },
  {
   "cell_type": "code",
   "execution_count": null,
   "id": "20a66e18-7d3e-4567-8f97-d538a9c8e587",
   "metadata": {},
   "outputs": [],
   "source": [
    "\n"
   ]
  },
  {
   "cell_type": "code",
   "execution_count": 4,
   "id": "18fb1ad4-e595-440d-95fd-0f01071a35e2",
   "metadata": {},
   "outputs": [],
   "source": [
    "#(i)Grading in exam: Ordinal (categories have order but no consistent intervals).\n",
    "#(ii) Colour of mangoes: Nominal (categories with no inherent order).\n",
    "#(iii) Height data of a class: Ratio (ordered data with true zero point).\n",
    "#(iv) Number of mangoes exported by a farm: Ratio (ordered data with true zero point)."
   ]
  },
  {
   "cell_type": "code",
   "execution_count": null,
   "id": "7dea858c-e3d0-4cbe-8a89-a9a22d8a61a9",
   "metadata": {},
   "outputs": [],
   "source": []
  },
  {
   "cell_type": "code",
   "execution_count": 5,
   "id": "bb1791bd-32c5-434a-918f-8f48ec1ca6e1",
   "metadata": {},
   "outputs": [],
   "source": [
    "#Levels of measurement refer to the mathematical properties that data exhibit.\n",
    "\n",
    "#Nominal Level: Categories with no order or ranking. \n",
    "#Example: Gender (male, female, non-binary).\n",
    "\n",
    "#Ordinal Level: Categories with a specific order, \n",
    "#but the differences between them are not necessarily uniform. \n",
    "#Example: Educational degree levels (high school < bachelor's < master's)."
   ]
  },
  {
   "cell_type": "code",
   "execution_count": 6,
   "id": "828ba63d-80c2-43c9-bef4-e8657d84c956",
   "metadata": {},
   "outputs": [],
   "source": [
    "#Understanding the level of measurement is crucial because it determines the types of statistical analyses \n",
    "#and operations that can be applied to the data. Different levels of measurement allow for different mathematical operations.\n",
    "#For example, you can calculate the mean of ratio data, but not for ordinal data.\n",
    "\n",
    "#Example: You cannot calculate the average (mean) of nominal data like colors or ordinal data like education levels,\n",
    "#as the mathematical operations involved are not meaningful for these levels."
   ]
  },
  {
   "cell_type": "code",
   "execution_count": null,
   "id": "d281c7fd-e57e-4923-9331-ddd12415c9d5",
   "metadata": {},
   "outputs": [],
   "source": []
  },
  {
   "cell_type": "code",
   "execution_count": 7,
   "id": "d2a178f0-7ff7-4ebe-bb30-52d8867429a3",
   "metadata": {},
   "outputs": [],
   "source": [
    "#Difference Between Nominal and Ordinal Data:\n",
    "#Nominal data consists of categories with no inherent order, while ordinal data categories have a meaningful order, \n",
    "#but the differences between them are not necessarily uniform."
   ]
  },
  {
   "cell_type": "code",
   "execution_count": null,
   "id": "20c4d52b-7c36-43e8-a940-a0b6b155fd4f",
   "metadata": {},
   "outputs": [],
   "source": []
  },
  {
   "cell_type": "code",
   "execution_count": 8,
   "id": "ada51ad0-8ff7-4c6e-b948-31aa398012d9",
   "metadata": {},
   "outputs": [],
   "source": [
    "#Plot for Displaying Range:\n",
    "#A box plot (also known as a box-and-whisker plot) is commonly used to display the range and distribution of a dataset."
   ]
  },
  {
   "cell_type": "code",
   "execution_count": null,
   "id": "42a8819b-def6-4935-8a29-758423647e37",
   "metadata": {},
   "outputs": [],
   "source": []
  },
  {
   "cell_type": "code",
   "execution_count": 9,
   "id": "b01f5416-c465-48ca-a845-892b5b73fadc",
   "metadata": {},
   "outputs": [],
   "source": [
    "#Descriptive vs. Inferential Statistics:\n",
    "\n",
    "#Descriptive Statistics: These are used to summarize and describe the main features of a dataset.\n",
    "#For example, calculating the mean and standard deviation of a dataset.\n",
    "#Inferential Statistics: These are used to make predictions or inferences about a larger population based on sample data. \n",
    "#For example, conducting a hypothesis test to determine if a new drug has a significant effect on patient outcomes."
   ]
  },
  {
   "cell_type": "code",
   "execution_count": null,
   "id": "074aabfb-b01a-46bf-8b52-1fbc110a4785",
   "metadata": {},
   "outputs": [],
   "source": []
  },
  {
   "cell_type": "code",
   "execution_count": 10,
   "id": "24df293f-d844-41c9-9aea-ec12da6ae78e",
   "metadata": {},
   "outputs": [],
   "source": [
    "#Measures of Central Tendency and Variability:\n",
    "\n",
    "#Measures of Central Tendency: These describe the center of a dataset.\n",
    "\n",
    "#Mean: Average of all values.\n",
    "#Median: Middle value when data is ordered.\n",
    "#Mode: Most frequently occurring value.\n",
    "#Measures of Variability: These describe the spread or dispersion of a dataset.\n",
    "\n",
    "#Range: Difference between the maximum and minimum values.\n",
    "#Variance: Average of squared differences from the mean.\n",
    "#Standard Deviation: Square root of the variance, indicating the average deviation from the mean."
   ]
  },
  {
   "cell_type": "code",
   "execution_count": null,
   "id": "47b1cc3a-00db-4374-8844-38ad6610ad07",
   "metadata": {},
   "outputs": [],
   "source": []
  }
 ],
 "metadata": {
  "kernelspec": {
   "display_name": "Python 3 (ipykernel)",
   "language": "python",
   "name": "python3"
  },
  "language_info": {
   "codemirror_mode": {
    "name": "ipython",
    "version": 3
   },
   "file_extension": ".py",
   "mimetype": "text/x-python",
   "name": "python",
   "nbconvert_exporter": "python",
   "pygments_lexer": "ipython3",
   "version": "3.10.8"
  }
 },
 "nbformat": 4,
 "nbformat_minor": 5
}
