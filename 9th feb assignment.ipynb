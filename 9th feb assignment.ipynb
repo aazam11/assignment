{
 "cells": [
  {
   "cell_type": "code",
   "execution_count": 26,
   "id": "0b3857e1-bbc3-4954-969b-6913f10f5c2d",
   "metadata": {},
   "outputs": [],
   "source": [
    "class Vehicle:\n",
    "    def __init__(self, name_of_vehicle, max_speed, average_of_vehicle):\n",
    "        self.name_of_vehicle = name_of_vehicle\n",
    "        self.max_speed = max_speed\n",
    "        self.average_of_vehicle = average_of_vehicle"
   ]
  },
  {
   "cell_type": "code",
   "execution_count": 27,
   "id": "4ab543fb-570e-45f8-a94d-42fe2a5adf9b",
   "metadata": {},
   "outputs": [
    {
     "name": "stdout",
     "output_type": "stream",
     "text": [
      "Toyota Camry\n",
      "200\n",
      "30\n"
     ]
    }
   ],
   "source": [
    "car = Vehicle(\"Toyota Camry\", 200, 30)\n",
    "print(car.name_of_vehicle)\n",
    "print(car.max_speed)               \n",
    "print(car.average_of_vehicle)      \n"
   ]
  },
  {
   "cell_type": "code",
   "execution_count": null,
   "id": "7b234378-90dc-4a31-9749-03ba8f1f0a86",
   "metadata": {},
   "outputs": [],
   "source": []
  },
  {
   "cell_type": "code",
   "execution_count": 28,
   "id": "efea7917-8130-4039-a4ba-e2862301291f",
   "metadata": {},
   "outputs": [],
   "source": [
    "class Car(Vehicle):\n",
    "    def seating_capacity(self, capacity):\n",
    "        return f\"{self.name_of_vehicle} has a seating capacity of {capacity} people.\"\n"
   ]
  },
  {
   "cell_type": "code",
   "execution_count": 29,
   "id": "5d966256-3b47-4a69-94ce-a3ec22c9ee8c",
   "metadata": {},
   "outputs": [
    {
     "name": "stdout",
     "output_type": "stream",
     "text": [
      "Toyota Camry has a seating capacity of 4 people.\n"
     ]
    }
   ],
   "source": [
    "car = Car(\"Toyota Camry\", 200, 30)\n",
    "print(car.seating_capacity(4))\n"
   ]
  },
  {
   "cell_type": "code",
   "execution_count": null,
   "id": "70efb34b-8983-4c8d-bb24-69a4633cedd6",
   "metadata": {},
   "outputs": [],
   "source": []
  },
  {
   "cell_type": "code",
   "execution_count": 30,
   "id": "5245cbe1-fe69-44d2-be73-9a0083bf5744",
   "metadata": {},
   "outputs": [],
   "source": [
    "class Vehicle:\n",
    "    def __init__(self, name):\n",
    "        self.name = name\n",
    "\n",
    "    def get_name(self):\n",
    "        return self.name\n",
    "\n",
    "    def drive(self):\n",
    "        print(f\"{self.name} is driving.\")\n",
    "\n",
    "\n",
    "class Flyable:\n",
    "    def fly(self):\n",
    "        print(f\"{self.name} is flying.\")\n",
    "\n",
    "\n",
    "class Car(Vehicle):\n",
    "    def __init__(self, name):\n",
    "        super().__init__(name)\n",
    "\n",
    "\n",
    "class FlyingCar(Car, Flyable):\n",
    "    def __init__(self, name):\n",
    "        super().__init__(name)              \n"
   ]
  },
  {
   "cell_type": "code",
   "execution_count": 31,
   "id": "50fcb390-1252-481f-adfb-8e7d360984a5",
   "metadata": {},
   "outputs": [
    {
     "name": "stdout",
     "output_type": "stream",
     "text": [
      "Toyota Model S\n",
      "Toyota Model S is driving.\n",
      "Toyota Model S is flying.\n"
     ]
    }
   ],
   "source": [
    "my_car = FlyingCar(\"Toyota Model S\")\n",
    "print(my_car.get_name())  \n",
    "my_car.drive()            \n",
    "my_car.fly()"
   ]
  },
  {
   "cell_type": "code",
   "execution_count": null,
   "id": "68f98f91-1f2c-41b0-b399-99d8f0b1b2a8",
   "metadata": {},
   "outputs": [],
   "source": []
  },
  {
   "cell_type": "code",
   "execution_count": 32,
   "id": "3f1ec167-fd12-446e-af6a-c6d4e3139fd5",
   "metadata": {},
   "outputs": [],
   "source": [
    "#A getter method, also known as an accessor method\n",
    "#A setter method, also known as a mutator method"
   ]
  },
  {
   "cell_type": "code",
   "execution_count": 33,
   "id": "f9bbe05d-c48e-4f51-ba7a-30dc41a72182",
   "metadata": {},
   "outputs": [],
   "source": [
    "class Person:\n",
    "    def __init__(self, name):\n",
    "        self._name = name\n",
    "\n",
    "    def get_name(self):\n",
    "        return self._name\n",
    "\n",
    "    def set_name(self, new_name):\n",
    "        self._name = new_name"
   ]
  },
  {
   "cell_type": "code",
   "execution_count": 34,
   "id": "b163657e-bfdf-44db-9e2c-68afd71581f8",
   "metadata": {},
   "outputs": [
    {
     "name": "stdout",
     "output_type": "stream",
     "text": [
      "aazam ajaz\n"
     ]
    }
   ],
   "source": [
    "person = Person(\"aazam ajaz\")\n",
    "print(person.get_name())  "
   ]
  },
  {
   "cell_type": "code",
   "execution_count": 35,
   "id": "a189d9ca-634f-4c96-8b63-564449a137fa",
   "metadata": {},
   "outputs": [
    {
     "name": "stdout",
     "output_type": "stream",
     "text": [
      "aazam\n"
     ]
    }
   ],
   "source": [
    "person.set_name(\"aazam\")\n",
    "print(person.get_name())"
   ]
  },
  {
   "cell_type": "code",
   "execution_count": null,
   "id": "d41751ca-1c3c-42eb-b786-a003c84cefad",
   "metadata": {},
   "outputs": [],
   "source": []
  },
  {
   "cell_type": "code",
   "execution_count": 36,
   "id": "eca2731f-2110-4df5-a2cc-69af5edee0f3",
   "metadata": {},
   "outputs": [],
   "source": [
    "#Method overriding is a feature in object-oriented programming where a child class provides a different implementation of a method \n",
    "#that is already defined in its parent class.\n",
    "#The child class overrides the behavior of the method inherited from the parent class, allowing it to provide its own specific implementation."
   ]
  },
  {
   "cell_type": "code",
   "execution_count": 37,
   "id": "eafc932a-f2cb-459e-938b-3c08011e833a",
   "metadata": {},
   "outputs": [],
   "source": [
    "class Vehicle:\n",
    "    def start(self):\n",
    "        print(\"Vehicle is starting.\")\n",
    "\n",
    "\n",
    "class Car(Vehicle):\n",
    "    def start(self):\n",
    "        print(\"Car is starting.\") "
   ]
  },
  {
   "cell_type": "code",
   "execution_count": 38,
   "id": "9cbc4d73-2a02-4649-8c7d-7909b20dcb32",
   "metadata": {},
   "outputs": [
    {
     "name": "stdout",
     "output_type": "stream",
     "text": [
      "Car is starting.\n"
     ]
    }
   ],
   "source": [
    "my_car = Car()\n",
    "my_car.start()"
   ]
  },
  {
   "cell_type": "code",
   "execution_count": 39,
   "id": "3d892ca6-ff04-45b7-bec3-7efab6634c88",
   "metadata": {},
   "outputs": [
    {
     "name": "stdout",
     "output_type": "stream",
     "text": [
      "Vehicle is starting.\n"
     ]
    }
   ],
   "source": [
    "my_vehicle = Vehicle()\n",
    "my_vehicle.start()"
   ]
  },
  {
   "cell_type": "code",
   "execution_count": null,
   "id": "2953d4e7-b8a6-44fa-9aba-7d1aa0b0d4e7",
   "metadata": {},
   "outputs": [],
   "source": []
  }
 ],
 "metadata": {
  "kernelspec": {
   "display_name": "Python 3 (ipykernel)",
   "language": "python",
   "name": "python3"
  },
  "language_info": {
   "codemirror_mode": {
    "name": "ipython",
    "version": 3
   },
   "file_extension": ".py",
   "mimetype": "text/x-python",
   "name": "python",
   "nbconvert_exporter": "python",
   "pygments_lexer": "ipython3",
   "version": "3.10.8"
  }
 },
 "nbformat": 4,
 "nbformat_minor": 5
}
