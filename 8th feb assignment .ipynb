{
 "cells": [
  {
   "cell_type": "code",
   "execution_count": 1,
   "id": "7f1768c9-8ae1-4102-ae26-a893e5f4ba70",
   "metadata": {},
   "outputs": [],
   "source": [
    "#Abstraction in object-oriented programming (OOP) is a concept that focuses on hiding unnecessary implementation details and exposing only\n",
    "#the essential features of an object.\n",
    "#It allows you to create abstract classes and interfaces that define a common interface for a group of related objects.\n",
    "#In Python, abstraction can be achieved through abstract base classes (ABCs) provided by the abc module.\n",
    "\n",
    "from abc import ABC, abstractmethod\n",
    "\n",
    "class Shape(ABC):\n",
    "    @abstractmethod\n",
    "    def calculate_area(self):\n",
    "        pass\n",
    "\n",
    "    @abstractmethod\n",
    "    def calculate_perimeter(self):\n",
    "        pass\n",
    "\n",
    "class Circle(Shape):\n",
    "    def __init__(self, radius):\n",
    "        self.radius = radius\n",
    "\n",
    "    def calculate_area(self):\n",
    "        return 3.14 * self.radius * self.radius\n",
    "\n",
    "    def calculate_perimeter(self):\n",
    "        return 2 * 3.14 * self.radius\n",
    "\n",
    "class Rectangle(Shape):\n",
    "    def __init__(self, length, width):\n",
    "        self.length = length\n",
    "        self.width = width\n",
    "\n",
    "    def calculate_area(self):\n",
    "        return self.length * self.width\n",
    "\n",
    "    def calculate_perimeter(self):\n",
    "        return 2 * (self.length + self.width)\n"
   ]
  },
  {
   "cell_type": "code",
   "execution_count": 2,
   "id": "814639f5-d2ed-46a8-93b6-b3e779831058",
   "metadata": {},
   "outputs": [
    {
     "name": "stdout",
     "output_type": "stream",
     "text": [
      "Circle area: 78.5\n",
      "Circle perimeter: 31.400000000000002\n",
      "Rectangle area: 24.0\n",
      "Rectangle perimeter: 20.0\n"
     ]
    }
   ],
   "source": [
    "circle = Circle(5.0)\n",
    "rectangle = Rectangle(4.0, 6.0)\n",
    "\n",
    "print(\"Circle area:\", circle.calculate_area())\n",
    "print(\"Circle perimeter:\", circle.calculate_perimeter())\n",
    "\n",
    "print(\"Rectangle area:\", rectangle.calculate_area())\n",
    "print(\"Rectangle perimeter:\", rectangle.calculate_perimeter())\n"
   ]
  },
  {
   "cell_type": "code",
   "execution_count": 3,
   "id": "03fad233-d94a-49a0-a8bc-d04de48e0b4a",
   "metadata": {},
   "outputs": [],
   "source": [
    "#abstraction:\n",
    "#Abstraction in object-oriented programming refers to the process of hiding unnecessary implementation details and exposing only the essential features of an object.\n",
    "#It allows you to create abstract classes and interfaces that define a common interface for a group of related objects, without specifying the exact implementation details.\n",
    "#Abstraction is achieved through the use of abstract classes, abstract methods, and interfaces.\n",
    "#The main goal of abstraction is to provide a simplified view of an entity, focusing on its essential characteristics and hiding unnecessary complexity.\n",
    "\n",
    "#encapsulation:\n",
    "#Encapsulation is a concept in object-oriented programming that involves bundling data and methods together within a class, and restricting access to the internal state of an object from the outside world.\n",
    "#It allows you to hide the internal implementation details of an object and provides a controlled way to access and modify its data through public methods (getters and setters).\n",
    "#Encapsulation helps in achieving data abstraction, data security, and code maintainability."
   ]
  },
  {
   "cell_type": "code",
   "execution_count": 22,
   "id": "e3cda122-ebf8-45bb-914e-98bf6beb801e",
   "metadata": {},
   "outputs": [],
   "source": [
    "#example of abstraction:\n",
    "from abc import ABC, abstractmethod\n",
    "\n",
    "class Vehicle(ABC):\n",
    "    @abstractmethod\n",
    "    def start(self):\n",
    "        pass\n",
    "\n",
    "    @abstractmethod\n",
    "    def stop(self):\n",
    "        pass\n",
    "\n",
    "class Car(Vehicle):\n",
    "    def start(self):\n",
    "        print(\"Car starting...\")\n",
    "        # Start car-specific operations\n",
    "\n",
    "    def stop(self):\n",
    "        print(\"Car stopping...\")\n",
    "        # Stop car-specific operations\n",
    "\n",
    "class Motorcycle(Vehicle):\n",
    "    def start(self):\n",
    "        print(\"Motorcycle starting...\")\n",
    "        # Start motorcycle-specific operations\n",
    "\n",
    "    def stop(self):\n",
    "        print(\"Motorcycle stopping...\")\n",
    "        # Stop motorcycle-specific operations\n"
   ]
  },
  {
   "cell_type": "code",
   "execution_count": 23,
   "id": "fa3e776d-54ca-4fe4-bf0c-8fb4974e1c57",
   "metadata": {},
   "outputs": [
    {
     "name": "stdout",
     "output_type": "stream",
     "text": [
      "Car starting...\n",
      "Car stopping...\n"
     ]
    }
   ],
   "source": [
    "car = Car()\n",
    "car.start()\n",
    "car.stop()     "
   ]
  },
  {
   "cell_type": "code",
   "execution_count": 24,
   "id": "5031d9f6-fa95-42eb-a801-7a99c7dee445",
   "metadata": {},
   "outputs": [
    {
     "name": "stdout",
     "output_type": "stream",
     "text": [
      "Motorcycle starting...\n",
      "Motorcycle stopping...\n"
     ]
    }
   ],
   "source": [
    "motorcycle = Motorcycle()\n",
    "motorcycle.start()  \n",
    "motorcycle.stop()"
   ]
  },
  {
   "cell_type": "code",
   "execution_count": 25,
   "id": "c2b43e32-2a20-4e5b-9c71-f6849cb6f5c4",
   "metadata": {},
   "outputs": [],
   "source": [
    "#example of encapsulation:\n",
    "class Person:\n",
    "    def __init__(self, name, age):\n",
    "        self.__name = name\n",
    "        self.__age = age\n",
    "\n",
    "    def get_name(self):\n",
    "        return self.__name\n",
    "\n",
    "    def set_name(self, name):\n",
    "        self.__name = name\n",
    "\n",
    "    def get_age(self):\n",
    "        return self.__age\n",
    "\n",
    "    def set_age(self, age):\n",
    "        self.__age = age"
   ]
  },
  {
   "cell_type": "code",
   "execution_count": 26,
   "id": "01ee98a2-a216-4706-a856-309c78024660",
   "metadata": {},
   "outputs": [
    {
     "name": "stdout",
     "output_type": "stream",
     "text": [
      "aazam\n",
      "23\n"
     ]
    }
   ],
   "source": [
    "person = Person(\"aazam\", 23)\n",
    "\n",
    "print(person.get_name())\n",
    "print(person.get_age())   \n"
   ]
  },
  {
   "cell_type": "code",
   "execution_count": 27,
   "id": "8604b451-c0e7-47b4-b7e2-8a8e8c0a6caa",
   "metadata": {},
   "outputs": [],
   "source": [
    "#The abc module in Python stands for \"Abstract Base Classes.\" It provides infrastructure for defining abstract base classes, \n",
    "#which are classes that cannot be instantiated but serve as blueprints for other classes to inherit from. \n",
    "#The abc module allows you to define abstract methods and enforce their implementation in concrete subclasses.\n",
    "#The main purpose of the abc module is to support abstraction and ensure that classes adhere to a specific interface or contract."
   ]
  },
  {
   "cell_type": "code",
   "execution_count": null,
   "id": "384dab68-b293-4a8b-a35e-12651b17d112",
   "metadata": {},
   "outputs": [],
   "source": []
  },
  {
   "cell_type": "code",
   "execution_count": 28,
   "id": "3c2ff819-5c48-4e3d-a8f0-f9f40d6b767a",
   "metadata": {},
   "outputs": [],
   "source": [
    "#Data abstraction in programming refers to the process of hiding the internal details of data and providing a simplified and controlled interface to interact with the data. \n",
    "#It allows you to focus on the essential properties and behaviors of the data while hiding unnecessary complexity. \n",
    "#In object-oriented programming, you can achieve data abstraction through the use of classes, encapsulation, and access modifiers."
   ]
  },
  {
   "cell_type": "code",
   "execution_count": null,
   "id": "975bab39-8726-48d6-ae88-22500dadc620",
   "metadata": {},
   "outputs": [],
   "source": []
  },
  {
   "cell_type": "code",
   "execution_count": 29,
   "id": "8d46660b-12dd-4a76-a457-62437940ce23",
   "metadata": {},
   "outputs": [
    {
     "ename": "TypeError",
     "evalue": "Can't instantiate abstract class AbstractClass with abstract method abstract_method",
     "output_type": "error",
     "traceback": [
      "\u001b[0;31m---------------------------------------------------------------------------\u001b[0m",
      "\u001b[0;31mTypeError\u001b[0m                                 Traceback (most recent call last)",
      "Cell \u001b[0;32mIn[29], line 11\u001b[0m\n\u001b[1;32m      8\u001b[0m         \u001b[38;5;28;01mpass\u001b[39;00m\n\u001b[1;32m     10\u001b[0m \u001b[38;5;66;03m# Attempt to create an instance of the abstract class\u001b[39;00m\n\u001b[0;32m---> 11\u001b[0m obj \u001b[38;5;241m=\u001b[39m \u001b[43mAbstractClass\u001b[49m\u001b[43m(\u001b[49m\u001b[43m)\u001b[49m\n",
      "\u001b[0;31mTypeError\u001b[0m: Can't instantiate abstract class AbstractClass with abstract method abstract_method"
     ]
    }
   ],
   "source": [
    "#No, we cannot create an instance of an abstract class in Python. \n",
    "\n",
    "from abc import ABC, abstractmethod\n",
    "\n",
    "class AbstractClass(ABC):\n",
    "    @abstractmethod\n",
    "    def abstract_method(self):\n",
    "        pass\n",
    "\n",
    "# Attempt to create an instance of the abstract class\n",
    "obj = AbstractClass()\n"
   ]
  },
  {
   "cell_type": "code",
   "execution_count": null,
   "id": "5ad983d5-bd71-4cfa-9a4f-ed3b79536924",
   "metadata": {},
   "outputs": [],
   "source": []
  }
 ],
 "metadata": {
  "kernelspec": {
   "display_name": "Python 3 (ipykernel)",
   "language": "python",
   "name": "python3"
  },
  "language_info": {
   "codemirror_mode": {
    "name": "ipython",
    "version": 3
   },
   "file_extension": ".py",
   "mimetype": "text/x-python",
   "name": "python",
   "nbconvert_exporter": "python",
   "pygments_lexer": "ipython3",
   "version": "3.10.8"
  }
 },
 "nbformat": 4,
 "nbformat_minor": 5
}
