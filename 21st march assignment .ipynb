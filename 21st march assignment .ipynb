{
 "cells": [
  {
   "cell_type": "raw",
   "id": "c7fa6cac-a7c7-4510-86f1-089f5b95cbb8",
   "metadata": {},
   "source": [
    "Q1\n",
    "Ordinal Encoding: It is used for categorical variables with a natural ordering. For example, if you have a variable like \"Size\" with categories \"Small,\" \"Medium,\" and \"Large,\" you would assign numerical values such as 1, 2, and 3 to represent the order.\n",
    "\n",
    "Label Encoding: It is used for categorical variables with no inherent ordering. It assigns a unique integer to each category. For example, if you have a variable like \"Color\" with categories \"Red,\" \"Green,\" and \"Blue,\" you might assign 1, 2, and 3 to these categories.\n",
    "\n",
    "When to choose:\n",
    "Choose Ordinal Encoding when there is a meaningful order among the categories, and this order is essential for the model.\n",
    "Choose Label Encoding when there is no intrinsic order, and the model should not interpret any ordinal relationship between the categories."
   ]
  },
  {
   "cell_type": "raw",
   "id": "0190abd5-9cc7-4e58-a218-cfd13d73c43b",
   "metadata": {},
   "source": [
    "Q2\n",
    "Target Guided Ordinal Encoding: In this method, the ordinal values are assigned to categories based on the mean of the target variable for each category. It helps capture the relationship between the categorical variable and the target.\n",
    "Example:\n",
    "Suppose you have a dataset with a categorical variable \"City,\" and you want to predict the average income. Target Guided Ordinal Encoding would assign ordinal values based on the average income for each city, capturing the target-specific information.\n",
    "Use Case:\n",
    "This encoding is useful when the categorical variable has a significant impact on the target variable, and you want your encoding to reflect this relationship."
   ]
  },
  {
   "cell_type": "raw",
   "id": "48908ae6-126f-4cfd-9c7c-b5ab01af1443",
   "metadata": {},
   "source": [
    "Q3\n",
    "Covariance: Covariance measures the degree to which two variables change together. It indicates the direction of the linear relationship between two variables.\n",
    "\n",
    "Importance: Covariance is crucial in statistical analysis as it helps understand how changes in one variable correspond to changes in another. A positive covariance suggests a direct relationship, while a negative covariance suggests an inverse relationship.\n",
    "\n",
    "Calculation: Covariance between two variables X and Y is calculated as the average of the product of the differences of each variable from their respective means.\n",
    "first find the mean of the set of data for two random variables. Now find the difference between each value and the mean. Now add all the values and divide by the total number of values."
   ]
  },
  {
   "cell_type": "code",
   "execution_count": 7,
   "id": "5ba09b63-6795-4ce4-ba8c-490b3c967d06",
   "metadata": {},
   "outputs": [
    {
     "name": "stdout",
     "output_type": "stream",
     "text": [
      "   Color    Size Material  Color_encoded  Size_encoded  Material_encoded\n",
      "0    red  medium     wood              2             1                 2\n",
      "1  green   small    metal              1             2                 0\n",
      "2   blue   large  plastic              0             0                 1\n",
      "3    red  medium    metal              2             1                 0\n",
      "4   blue   small     wood              0             2                 2\n"
     ]
    }
   ],
   "source": [
    "#Q4\n",
    "import pandas as pd\n",
    "from sklearn.preprocessing import LabelEncoder\n",
    "\n",
    "data = {'Color': ['red', 'green', 'blue', 'red', 'blue'],\n",
    "        'Size': ['medium', 'small', 'large', 'medium', 'small'],\n",
    "        'Material': ['wood', 'metal', 'plastic', 'metal', 'wood']}\n",
    "\n",
    "df = pd.DataFrame(data)\n",
    "\n",
    "label_encoder = LabelEncoder()\n",
    "\n",
    "for col in df.columns:\n",
    "    df[col+'_encoded'] = label_encoder.fit_transform(df[col])\n",
    "\n",
    "print(df)\n",
    "\n",
    "##The code applies label encoding to each categorical column and adds new columns with the suffix '_encoded'.\n",
    "##The output DataFrame will have encoded values for each category in the original columns."
   ]
  },
  {
   "cell_type": "raw",
   "id": "c5b80c0d-7c37-4f8e-aa5d-0f11af6b9c46",
   "metadata": {},
   "source": [
    "Q5\n",
    "covariance_matrix = df[['Age', 'Income', 'Education Level']].cov()\n",
    "print(covariance_matrix)\n",
    "\n",
    "The covariance matrix will show the pairwise covariances between Age, Income, and Education Level. Positive values indicate a positive linear relationship, negative values indicate a negative linear relationship, and values close to zero suggest a weak or no linear relationship between the variables."
   ]
  },
  {
   "cell_type": "raw",
   "id": "9a203ca3-601b-4bb9-aae2-aded1a07f3b7",
   "metadata": {},
   "source": [
    "Q6\n",
    "\"Gender\": Label Encoding because there is no inherent order in gender.\n",
    "\n",
    "\"Education Level\": Ordinal Encoding as there is a natural order from High School to PhD.\n",
    "\n",
    "\"Employment Status\": Ordinal Encoding if there is a meaningful order (e.g., Unemployed < Part-Time < Full-Time); otherwise, Label Encoding."
   ]
  },
  {
   "cell_type": "raw",
   "id": "e19fd620-2163-405f-a3a2-a80011f99bba",
   "metadata": {},
   "source": [
    "Q7\n",
    "covariance_matrix = df[['Temperature', 'Humidity']].cov()\n",
    "print(covariance_matrix)\n",
    "\n",
    "The covariance matrix will show the covariance between Temperature and Humidity. A positive covariance suggests that as Temperature increases, Humidity tends to increase as well. The interpretation depends on the specific numerical values of the covariances. For categorical variables, covariance isn't directly interpretable, so it's more meaningful for the continuous variables."
   ]
  },
  {
   "cell_type": "code",
   "execution_count": null,
   "id": "1cd1a155-b6e7-421f-b1cb-8ca7bfa28807",
   "metadata": {},
   "outputs": [],
   "source": []
  }
 ],
 "metadata": {
  "kernelspec": {
   "display_name": "Python 3 (ipykernel)",
   "language": "python",
   "name": "python3"
  },
  "language_info": {
   "codemirror_mode": {
    "name": "ipython",
    "version": 3
   },
   "file_extension": ".py",
   "mimetype": "text/x-python",
   "name": "python",
   "nbconvert_exporter": "python",
   "pygments_lexer": "ipython3",
   "version": "3.10.8"
  }
 },
 "nbformat": 4,
 "nbformat_minor": 5
}
