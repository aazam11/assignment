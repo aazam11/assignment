{
 "cells": [
  {
   "cell_type": "code",
   "execution_count": 1,
   "id": "bd023edb-e123-45f1-9f94-1864b1e3cddc",
   "metadata": {},
   "outputs": [
    {
     "name": "stdout",
     "output_type": "stream",
     "text": [
      "0     4\n",
      "1     8\n",
      "2    15\n",
      "3    16\n",
      "4    23\n",
      "5    42\n",
      "dtype: int64\n"
     ]
    }
   ],
   "source": [
    "import pandas as pd\n",
    "\n",
    "data = [4, 8, 15, 16, 23, 42]\n",
    "series = pd.Series(data)\n",
    "print(series)\n"
   ]
  },
  {
   "cell_type": "code",
   "execution_count": null,
   "id": "416db2e9-3701-48c9-8067-0a5d84469fef",
   "metadata": {},
   "outputs": [],
   "source": []
  },
  {
   "cell_type": "code",
   "execution_count": 2,
   "id": "55ac268e-17b8-4fe2-9740-cafae5a24cee",
   "metadata": {},
   "outputs": [
    {
     "name": "stdout",
     "output_type": "stream",
     "text": [
      "0     1\n",
      "1     2\n",
      "2     3\n",
      "3     4\n",
      "4     5\n",
      "5     6\n",
      "6     7\n",
      "7     8\n",
      "8     9\n",
      "9    10\n",
      "dtype: int64\n"
     ]
    }
   ],
   "source": [
    "import pandas as pd\n",
    "\n",
    "my_list = [1, 2, 3, 4, 5, 6, 7, 8, 9, 10]\n",
    "series = pd.Series(my_list)\n",
    "print(series)\n"
   ]
  },
  {
   "cell_type": "code",
   "execution_count": null,
   "id": "3e7c6ff3-8050-4188-abe0-3fdad28653f5",
   "metadata": {},
   "outputs": [],
   "source": []
  },
  {
   "cell_type": "code",
   "execution_count": 3,
   "id": "f02bcacf-2977-4a44-b47d-7eea1493d3ee",
   "metadata": {},
   "outputs": [
    {
     "name": "stdout",
     "output_type": "stream",
     "text": [
      "      Name  Age      City\n",
      "0    Alice   25  New York\n",
      "1      Bob   30    London\n",
      "2  Charlie   35     Paris\n"
     ]
    }
   ],
   "source": [
    "import pandas as pd\n",
    "\n",
    "data = {'Name': ['Alice', 'Bob', 'Charlie'],\n",
    "        'Age': [25, 30, 35],\n",
    "        'City': ['New York', 'London', 'Paris']}\n",
    "\n",
    "df = pd.DataFrame(data)\n",
    "print(df)\n"
   ]
  },
  {
   "cell_type": "code",
   "execution_count": null,
   "id": "26e7e915-ca9a-43e1-8fc3-2155fa0dc9fb",
   "metadata": {},
   "outputs": [],
   "source": []
  },
  {
   "cell_type": "code",
   "execution_count": 8,
   "id": "fd398041-bcd7-4175-9b10-916113c548c2",
   "metadata": {},
   "outputs": [],
   "source": [
    "#A DataFrame in pandas is a 2-dimensional labeled data structure with columns of potentially different types. \n",
    "#It can be thought of as a table or spreadsheet-like data structure, similar to a SQL table or Excel sheet.\n",
    "#It allows you to store and manipulate data in a tabular form.\n",
    "\n",
    "#The main difference between a Pandas Series and a DataFrame is the dimensionality.\n",
    "#A Series is a one-dimensional labeled array that can hold data of any type. It has only one column and an index associated with each element. \n",
    "#On the other hand, a DataFrame is a two-dimensional structure with both rows and columns.\n",
    "#It is a collection of Series, where each Series represents a column of data.\n",
    "\n",
    "#For example, consider a dataset of student information. \n",
    "#Each row represents a student, and each column represents an attribute like name, age, and grade. \n",
    "#In this case, a DataFrame would be suitable to represent the entire dataset, with each column as a Series containing the values of a specific attribute."
   ]
  },
  {
   "cell_type": "code",
   "execution_count": null,
   "id": "9d709e18-48a7-4b96-8c1b-865729037b82",
   "metadata": {},
   "outputs": [],
   "source": []
  },
  {
   "cell_type": "code",
   "execution_count": 9,
   "id": "141bf93d-da0c-4a71-8be2-7239795be84e",
   "metadata": {},
   "outputs": [],
   "source": [
    "#Pandas provides a wide range of functions to manipulate data in a DataFrame. Some common functions include:\n",
    "\n",
    "#head() and tail(): These functions allow you to view the first or last n rows of the DataFrame, respectively. \n",
    "#They are useful for inspecting the structure and content of the DataFrame.\n",
    "\n",
    "#info(): This function provides a summary of the DataFrame, including the column names, data types, and memory usage.\n",
    "#It's helpful for getting an overview of the DataFrame's structure.\n",
    "\n",
    "#describe(): This function generates descriptive statistics of the numerical columns in the DataFrame, such as count, mean, min, max, etc.\n",
    "\n",
    "#sort_values(): This function allows you to sort the DataFrame by one or more columns in either ascending or descending order.\n",
    "\n",
    "#groupby(): This function is used for grouping the DataFrame based on one or more columns and applying aggregate functions on the grouped data."
   ]
  },
  {
   "cell_type": "code",
   "execution_count": null,
   "id": "ccd57f12-e522-429c-bd0e-33171f491000",
   "metadata": {},
   "outputs": [],
   "source": []
  },
  {
   "cell_type": "code",
   "execution_count": 10,
   "id": "a091fa8f-ced2-4121-bd65-2a687206db9d",
   "metadata": {},
   "outputs": [],
   "source": [
    "#In Pandas, a Series is mutable in nature, which means its elements can be modified. On the other hand, \n",
    "#a DataFrame is also mutable, allowing modifications to both the row and column values.\n",
    "\n",
    "#For example, you can modify a value in a Series by its index:\n",
    "\n",
    "series = pd.Series([1, 2, 3])\n",
    "series[1] = 5  # Modify the second element to 5\n"
   ]
  },
  {
   "cell_type": "code",
   "execution_count": 11,
   "id": "a0f189a8-9a86-4c4d-88ba-4d6437683029",
   "metadata": {},
   "outputs": [
    {
     "data": {
      "text/plain": [
       "0    1\n",
       "1    5\n",
       "2    3\n",
       "dtype: int64"
      ]
     },
     "execution_count": 11,
     "metadata": {},
     "output_type": "execute_result"
    }
   ],
   "source": [
    "series"
   ]
  },
  {
   "cell_type": "code",
   "execution_count": null,
   "id": "6778ac3a-3f39-4d78-9cd4-a41c556007b6",
   "metadata": {},
   "outputs": [],
   "source": []
  },
  {
   "cell_type": "code",
   "execution_count": 12,
   "id": "be2ace7c-00ba-428b-888e-f19f833942fc",
   "metadata": {},
   "outputs": [
    {
     "name": "stdout",
     "output_type": "stream",
     "text": [
      "      Name  Age      City\n",
      "0    Alice   25  New York\n",
      "1      Bob   30    London\n",
      "2  Charlie   35     Paris\n"
     ]
    }
   ],
   "source": [
    "import pandas as pd\n",
    "\n",
    "name = pd.Series(['Alice', 'Bob', 'Charlie'])\n",
    "age = pd.Series([25, 30, 35])\n",
    "city = pd.Series(['New York', 'London', 'Paris'])\n",
    "\n",
    "data = {'Name': name, 'Age': age, 'City': city}\n",
    "df = pd.DataFrame(data)\n",
    "\n",
    "print(df)\n"
   ]
  },
  {
   "cell_type": "code",
   "execution_count": null,
   "id": "0987746f-0dda-4dcb-8225-fb7bc751e8a4",
   "metadata": {},
   "outputs": [],
   "source": []
  }
 ],
 "metadata": {
  "kernelspec": {
   "display_name": "Python 3 (ipykernel)",
   "language": "python",
   "name": "python3"
  },
  "language_info": {
   "codemirror_mode": {
    "name": "ipython",
    "version": 3
   },
   "file_extension": ".py",
   "mimetype": "text/x-python",
   "name": "python",
   "nbconvert_exporter": "python",
   "pygments_lexer": "ipython3",
   "version": "3.10.8"
  }
 },
 "nbformat": 4,
 "nbformat_minor": 5
}
