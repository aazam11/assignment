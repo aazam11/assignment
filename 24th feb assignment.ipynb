{
 "cells": [
  {
   "cell_type": "code",
   "execution_count": 2,
   "id": "2d641a0d-2ac1-4ecf-9542-70288e0e5687",
   "metadata": {},
   "outputs": [
    {
     "name": "stdout",
     "output_type": "stream",
     "text": [
      "    Name  Age         City\n",
      "0   John   28     New York\n",
      "1  Alice   24  Los Angeles\n",
      "2    Bob   22      Chicago\n",
      "      Name  Age           City\n",
      "3    Emily   29  San Francisco\n",
      "4  Michael   35         Boston\n",
      "             Age\n",
      "count   5.000000\n",
      "mean   27.600000\n",
      "std     5.029911\n",
      "min    22.000000\n",
      "25%    24.000000\n",
      "50%    28.000000\n",
      "75%    29.000000\n",
      "max    35.000000\n",
      "<class 'pandas.core.frame.DataFrame'>\n",
      "RangeIndex: 5 entries, 0 to 4\n",
      "Data columns (total 3 columns):\n",
      " #   Column  Non-Null Count  Dtype \n",
      "---  ------  --------------  ----- \n",
      " 0   Name    5 non-null      object\n",
      " 1   Age     5 non-null      int64 \n",
      " 2   City    5 non-null      object\n",
      "dtypes: int64(1), object(2)\n",
      "memory usage: 248.0+ bytes\n",
      "None\n",
      "                Age\n",
      "City               \n",
      "Boston         35.0\n",
      "Chicago        22.0\n",
      "Los Angeles    24.0\n",
      "New York       28.0\n",
      "San Francisco  29.0\n"
     ]
    },
    {
     "name": "stderr",
     "output_type": "stream",
     "text": [
      "/tmp/ipykernel_77/1544107186.py:25: FutureWarning: The default value of numeric_only in DataFrameGroupBy.mean is deprecated. In a future version, numeric_only will default to False. Either specify numeric_only or select only columns which should be valid for the function.\n",
      "  print(grouped.mean())\n"
     ]
    }
   ],
   "source": [
    "# Import pandas\n",
    "import pandas as pd\n",
    "\n",
    "# Example DataFrame\n",
    "data = {'Name': ['John', 'Alice', 'Bob', 'Emily', 'Michael'],\n",
    "        'Age': [28, 24, 22, 29, 35],\n",
    "        'City': ['New York', 'Los Angeles', 'Chicago', 'San Francisco', 'Boston']}\n",
    "\n",
    "df = pd.DataFrame(data)\n",
    "\n",
    "# 1. head(): Returns the first n rows of the DataFrame (default n=5).\n",
    "print(df.head(3))\n",
    "\n",
    "# 2. tail(): Returns the last n rows of the DataFrame (default n=5).\n",
    "print(df.tail(2))\n",
    "\n",
    "# 3. describe(): Generates descriptive statistics of the DataFrame.\n",
    "print(df.describe())\n",
    "\n",
    "# 4. info(): Provides a concise summary of the DataFrame, including data types and non-null values.\n",
    "print(df.info())\n",
    "\n",
    "# 5. groupby(): Group DataFrame using a mapper or by a Series of columns and perform operations on the grouped data.\n",
    "grouped = df.groupby('City')\n",
    "print(grouped.mean())\n"
   ]
  },
  {
   "cell_type": "code",
   "execution_count": null,
   "id": "28d7f889-8d5b-45ed-83dd-410c9b2d385d",
   "metadata": {},
   "outputs": [],
   "source": []
  },
  {
   "cell_type": "code",
   "execution_count": 3,
   "id": "42a69503-bad9-40bd-95b5-a270430b66d1",
   "metadata": {},
   "outputs": [
    {
     "name": "stdout",
     "output_type": "stream",
     "text": [
      "    A    B     C\n",
      "1  10  100  1000\n",
      "3  20  200  2000\n",
      "5  30  300  3000\n",
      "7  40  400  4000\n",
      "9  50  500  5000\n"
     ]
    }
   ],
   "source": [
    "import pandas as pd\n",
    "\n",
    "def reindex_with_increment(df):\n",
    "    new_index = pd.RangeIndex(start=1, stop=len(df)*2, step=2)\n",
    "    df_reindexed = df.copy()\n",
    "    df_reindexed.index = new_index\n",
    "    return df_reindexed\n",
    "\n",
    "# Example usage:\n",
    "data = {'A': [10, 20, 30, 40, 50],\n",
    "        'B': [100, 200, 300, 400, 500],\n",
    "        'C': [1000, 2000, 3000, 4000, 5000]}\n",
    "df = pd.DataFrame(data)\n",
    "\n",
    "reindexed_df = reindex_with_increment(df)\n",
    "print(reindexed_df)\n"
   ]
  },
  {
   "cell_type": "code",
   "execution_count": null,
   "id": "24c1fe03-8025-44c3-9f78-86530ddf6149",
   "metadata": {},
   "outputs": [],
   "source": []
  },
  {
   "cell_type": "code",
   "execution_count": 4,
   "id": "28fec697-ad4a-4c02-b9d2-4f12efffd381",
   "metadata": {},
   "outputs": [
    {
     "name": "stdout",
     "output_type": "stream",
     "text": [
      "Sum of the first three values: 60\n"
     ]
    }
   ],
   "source": [
    "import pandas as pd\n",
    "\n",
    "def sum_first_three_values(df):\n",
    "    first_three_values_sum = df['Values'].head(3).sum()\n",
    "    print(\"Sum of the first three values:\", first_three_values_sum)\n",
    "\n",
    "# Example usage:\n",
    "data = {'Values': [10, 20, 30, 40, 50]}\n",
    "df = pd.DataFrame(data)\n",
    "\n",
    "sum_first_three_values(df)\n"
   ]
  },
  {
   "cell_type": "code",
   "execution_count": null,
   "id": "a9dfc108-c41d-4c5e-87cb-a9c8b6bb42e4",
   "metadata": {},
   "outputs": [],
   "source": []
  },
  {
   "cell_type": "code",
   "execution_count": 5,
   "id": "9cf83c6e-d9ef-4f9a-a776-2cdc1556b3a4",
   "metadata": {},
   "outputs": [
    {
     "name": "stdout",
     "output_type": "stream",
     "text": [
      "                        Text  Word_Count\n",
      "0        Hello, how are you?           4\n",
      "1  This is a pandas tutorial           5\n",
      "2            Python is great           3\n"
     ]
    }
   ],
   "source": [
    "import pandas as pd\n",
    "\n",
    "def count_words(df):\n",
    "    df['Word_Count'] = df['Text'].apply(lambda x: len(str(x).split()))\n",
    "    return df\n",
    "\n",
    "# Example usage:\n",
    "data = {'Text': ['Hello, how are you?', 'This is a pandas tutorial', 'Python is great']}\n",
    "df = pd.DataFrame(data)\n",
    "\n",
    "df = count_words(df)\n",
    "print(df)\n"
   ]
  },
  {
   "cell_type": "code",
   "execution_count": null,
   "id": "e51696ac-349a-413f-85ac-c4798593400d",
   "metadata": {},
   "outputs": [],
   "source": []
  },
  {
   "cell_type": "code",
   "execution_count": 8,
   "id": "56755bf1-e47d-4d25-95ff-1d6ff4544e25",
   "metadata": {},
   "outputs": [
    {
     "name": "stdout",
     "output_type": "stream",
     "text": [
      "DataFrame.size: 6\n",
      "DataFrame.shape: (3, 2)\n"
     ]
    }
   ],
   "source": [
    "#Difference between DataFrame.size() and DataFrame.shape():\n",
    "\n",
    "#DataFrame.size: It returns the total number of elements in the DataFrame, which is the product of the number of rows and columns.\n",
    "#DataFrame.shape: It returns a tuple representing the dimensions of the DataFrame, with the number of rows and columns.\n",
    "\n",
    "import pandas as pd\n",
    "\n",
    "data = {'A': [1, 2, 3],\n",
    "        'B': [4, 5, 6]}\n",
    "df = pd.DataFrame(data)\n",
    "\n",
    "print(\"DataFrame.size:\", df.size)      \n",
    "\n",
    "print(\"DataFrame.shape:\", df.shape)    \n",
    "\n"
   ]
  },
  {
   "cell_type": "code",
   "execution_count": null,
   "id": "426e8a6f-3690-4d76-8289-7b23dcfc7ea7",
   "metadata": {},
   "outputs": [],
   "source": []
  },
  {
   "cell_type": "code",
   "execution_count": null,
   "id": "8a3c0171-cfe0-49a0-8010-8f3e8be0fb58",
   "metadata": {},
   "outputs": [],
   "source": [
    "#The function to read an Excel file in pandas is pd.read_excel().\n",
    "\n",
    "import pandas as pd\n",
    "\n",
    "# Assuming 'data.xlsx' is the name of the Excel file\n",
    "df = pd.read_excel('data.xlsx')\n",
    "print(df)"
   ]
  },
  {
   "cell_type": "code",
   "execution_count": null,
   "id": "44c8d4db-f54d-4fad-8e03-08f735510865",
   "metadata": {},
   "outputs": [],
   "source": []
  },
  {
   "cell_type": "code",
   "execution_count": 9,
   "id": "8d81cd39-014e-42b8-b4a2-738a6fe6a9fc",
   "metadata": {},
   "outputs": [
    {
     "name": "stdout",
     "output_type": "stream",
     "text": [
      "                     Email     Username\n",
      "0     john.doe@example.com     john.doe\n",
      "1  alice.smith@example.com  alice.smith\n",
      "2            bob@gmail.com          bob\n"
     ]
    }
   ],
   "source": [
    "import pandas as pd\n",
    "\n",
    "def extract_username(df):\n",
    "    df['Username'] = df['Email'].str.split('@').str[0]\n",
    "    return df\n",
    "\n",
    "# Example usage:\n",
    "data = {'Email': ['john.doe@example.com', 'alice.smith@example.com', 'bob@gmail.com']}\n",
    "df = pd.DataFrame(data)\n",
    "\n",
    "df = extract_username(df)\n",
    "print(df)\n"
   ]
  },
  {
   "cell_type": "code",
   "execution_count": null,
   "id": "9694d276-d394-479e-8dc8-e48a72216431",
   "metadata": {},
   "outputs": [],
   "source": []
  },
  {
   "cell_type": "code",
   "execution_count": 10,
   "id": "5bf8fe07-43db-4831-9615-62802234da7a",
   "metadata": {},
   "outputs": [
    {
     "name": "stdout",
     "output_type": "stream",
     "text": [
      "   A  B  C\n",
      "1  8  2  7\n",
      "2  6  9  4\n",
      "4  9  1  2\n"
     ]
    }
   ],
   "source": [
    "import pandas as pd\n",
    "\n",
    "def select_rows(df):\n",
    "    selected_rows = df[(df['A'] > 5) & (df['B'] < 10)]\n",
    "    return selected_rows\n",
    "\n",
    "# Example usage:\n",
    "data = {'A': [3, 8, 6, 2, 9],\n",
    "        'B': [5, 2, 9, 3, 1],\n",
    "        'C': [1, 7, 4, 5, 2]}\n",
    "df = pd.DataFrame(data)\n",
    "\n",
    "selected_df = select_rows(df)\n",
    "print(selected_df)\n"
   ]
  },
  {
   "cell_type": "code",
   "execution_count": null,
   "id": "b71f921b-9587-4bfc-b03a-616c046b4f3c",
   "metadata": {},
   "outputs": [],
   "source": []
  },
  {
   "cell_type": "code",
   "execution_count": 11,
   "id": "cb8cd191-7f5f-4f31-ab55-f359424f18e1",
   "metadata": {},
   "outputs": [
    {
     "name": "stdout",
     "output_type": "stream",
     "text": [
      "Mean: 30.0\n",
      "Median: 30.0\n",
      "Standard Deviation: 15.811388300841896\n"
     ]
    }
   ],
   "source": [
    "import pandas as pd\n",
    "\n",
    "def calculate_stats(df):\n",
    "    mean_value = df['Values'].mean()\n",
    "    median_value = df['Values'].median()\n",
    "    std_value = df['Values'].std()\n",
    "    return mean_value, median_value, std_value\n",
    "\n",
    "# Example usage:\n",
    "data = {'Values': [10, 20, 30, 40, 50]}\n",
    "df = pd.DataFrame(data)\n",
    "\n",
    "mean, median, std = calculate_stats(df)\n",
    "print(\"Mean:\", mean)\n",
    "print(\"Median:\", median)\n",
    "print(\"Standard Deviation:\", std)\n"
   ]
  },
  {
   "cell_type": "code",
   "execution_count": null,
   "id": "27333c82-77b2-4711-8ce9-b4bddce292de",
   "metadata": {},
   "outputs": [],
   "source": []
  },
  {
   "cell_type": "code",
   "execution_count": 12,
   "id": "1eacd97e-7827-4e35-a4b6-735d311d2a63",
   "metadata": {},
   "outputs": [
    {
     "name": "stdout",
     "output_type": "stream",
     "text": [
      "   Sales  MovingAverage\n",
      "0     10           10.0\n",
      "1     15           12.5\n",
      "2     20           15.0\n",
      "3     25           17.5\n",
      "4     30           20.0\n",
      "5     35           22.5\n",
      "6     40           25.0\n",
      "7     45           30.0\n",
      "8     50           35.0\n"
     ]
    }
   ],
   "source": [
    "import pandas as pd\n",
    "\n",
    "def calculate_moving_average(df):\n",
    "    df['MovingAverage'] = df['Sales'].rolling(window=7, min_periods=1).mean()\n",
    "    return df\n",
    "\n",
    "# Example usage:\n",
    "data = {'Sales': [10, 15, 20, 25, 30, 35, 40, 45, 50]}\n",
    "df = pd.DataFrame(data)\n",
    "\n",
    "df = calculate_moving_average(df)\n",
    "print(df)\n"
   ]
  },
  {
   "cell_type": "code",
   "execution_count": null,
   "id": "d4927ed6-7f90-47f6-8f89-1aad2fac5591",
   "metadata": {},
   "outputs": [],
   "source": []
  },
  {
   "cell_type": "code",
   "execution_count": 13,
   "id": "ef021e98-3c49-498e-a4db-1079eb61fb15",
   "metadata": {},
   "outputs": [
    {
     "name": "stdout",
     "output_type": "stream",
     "text": [
      "         Date    Weekday\n",
      "0  2023-01-01     Sunday\n",
      "1  2023-01-02     Monday\n",
      "2  2023-01-03    Tuesday\n",
      "3  2023-01-04  Wednesday\n",
      "4  2023-01-05   Thursday\n"
     ]
    }
   ],
   "source": [
    "import pandas as pd\n",
    "\n",
    "def add_weekday_column(df):\n",
    "    df['Weekday'] = pd.to_datetime(df['Date']).dt.strftime('%A')\n",
    "    return df\n",
    "\n",
    "# Example usage:\n",
    "data = {'Date': ['2023-01-01', '2023-01-02', '2023-01-03', '2023-01-04', '2023-01-05']}\n",
    "df = pd.DataFrame(data)\n",
    "\n",
    "df = add_weekday_column(df)\n",
    "print(df)\n"
   ]
  },
  {
   "cell_type": "code",
   "execution_count": null,
   "id": "ac0a55d4-d319-4f2d-8df1-20ff74ad2deb",
   "metadata": {},
   "outputs": [],
   "source": []
  },
  {
   "cell_type": "code",
   "execution_count": 14,
   "id": "51d0b1c4-bfe0-4d06-a594-254d7b6e8f66",
   "metadata": {},
   "outputs": [
    {
     "name": "stdout",
     "output_type": "stream",
     "text": [
      "         Date\n",
      "0  2023-01-01\n",
      "1  2023-01-15\n",
      "2  2023-01-30\n"
     ]
    }
   ],
   "source": [
    "import pandas as pd\n",
    "\n",
    "def select_rows_between_dates(df):\n",
    "    start_date = '2023-01-01'\n",
    "    end_date = '2023-01-31'\n",
    "    mask = (df['Date'] >= start_date) & (df['Date'] <= end_date)\n",
    "    selected_rows = df[mask]\n",
    "    return selected_rows\n",
    "\n",
    "# Example usage:\n",
    "data = {'Date': ['2023-01-01', '2023-01-15', '2023-01-30', '2023-02-05']}\n",
    "df = pd.DataFrame(data)\n",
    "\n",
    "selected_df = select_rows_between_dates(df)\n",
    "print(selected_df)\n"
   ]
  },
  {
   "cell_type": "code",
   "execution_count": null,
   "id": "dc4f66a0-7fa4-4b07-8c67-60f3eaf5d54b",
   "metadata": {},
   "outputs": [],
   "source": []
  },
  {
   "cell_type": "code",
   "execution_count": null,
   "id": "6bf7aa75-7e1d-425c-bee7-746b030f8fd3",
   "metadata": {},
   "outputs": [],
   "source": [
    "#The first and foremost necessary library to use the basic functions of pandas is import pandas as pd. \n",
    "#This import statement allows you to access the pandas library in your Python code using the alias 'pd'.\n",
    "#It is a convention to use 'pd' as the alias for pandas,\n",
    "#but you can choose any other valid alias if you prefer."
   ]
  }
 ],
 "metadata": {
  "kernelspec": {
   "display_name": "Python 3 (ipykernel)",
   "language": "python",
   "name": "python3"
  },
  "language_info": {
   "codemirror_mode": {
    "name": "ipython",
    "version": 3
   },
   "file_extension": ".py",
   "mimetype": "text/x-python",
   "name": "python",
   "nbconvert_exporter": "python",
   "pygments_lexer": "ipython3",
   "version": "3.10.8"
  }
 },
 "nbformat": 4,
 "nbformat_minor": 5
}
